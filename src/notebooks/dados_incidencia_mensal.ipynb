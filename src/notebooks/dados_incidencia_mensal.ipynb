{
 "cells": [
  {
   "cell_type": "code",
   "execution_count": 24,
   "metadata": {
    "id": "y7yBPDcAQ2Up"
   },
   "outputs": [],
   "source": [
    "import numpy as np\n",
    "import pandas as pd"
   ]
  },
  {
   "cell_type": "code",
   "execution_count": 25,
   "metadata": {},
   "outputs": [],
   "source": [
    "import plotly.express as px\n",
    "import plotly.graph_objects as go"
   ]
  },
  {
   "cell_type": "code",
   "execution_count": 26,
   "metadata": {
    "id": "kXwvcL2XUfkf"
   },
   "outputs": [],
   "source": [
    "url_pop = \"https://gist.githubusercontent.com/OliveiraGmo/a86b8d4d2c3eb294fc8da27fe0756dc5/raw/4c8edc00871e26b3cfa693b4532b8c2c4ac36e91/dados_populacao.csv\"\n",
    "url = \"https://gist.githubusercontent.com/OliveiraGmo/ea2ba75a8f323d8eacbc468587ba1d08/raw/48ee8e733cc2af4ccf10a96cbb8601a2aa5ff11f/rmvp.csv\""
   ]
  },
  {
   "cell_type": "code",
   "execution_count": 27,
   "metadata": {
    "id": "CGD9wNoZRAIF"
   },
   "outputs": [],
   "source": [
    "populacao = pd.read_csv(url_pop, sep=\",\")\n",
    "dados = pd.read_csv(url, sep=\",\")"
   ]
  },
  {
   "cell_type": "code",
   "execution_count": 28,
   "metadata": {
    "colab": {
     "base_uri": "https://localhost:8080/",
     "height": 255
    },
    "id": "VLnrSU2MS9HL",
    "outputId": "385b6009-d13b-4534-8654-c95c65c80416"
   },
   "outputs": [
    {
     "data": {
      "text/html": [
       "<div>\n",
       "<style scoped>\n",
       "    .dataframe tbody tr th:only-of-type {\n",
       "        vertical-align: middle;\n",
       "    }\n",
       "\n",
       "    .dataframe tbody tr th {\n",
       "        vertical-align: top;\n",
       "    }\n",
       "\n",
       "    .dataframe thead th {\n",
       "        text-align: right;\n",
       "    }\n",
       "</style>\n",
       "<table border=\"1\" class=\"dataframe\">\n",
       "  <thead>\n",
       "    <tr style=\"text-align: right;\">\n",
       "      <th></th>\n",
       "      <th>Cód.Município</th>\n",
       "      <th>Municipio</th>\n",
       "      <th>2006</th>\n",
       "      <th>2007</th>\n",
       "      <th>2008</th>\n",
       "      <th>2009</th>\n",
       "      <th>2011</th>\n",
       "      <th>2012</th>\n",
       "      <th>2013</th>\n",
       "      <th>2014</th>\n",
       "      <th>...</th>\n",
       "      <th>2016</th>\n",
       "      <th>2017</th>\n",
       "      <th>2018</th>\n",
       "      <th>2019</th>\n",
       "      <th>2020</th>\n",
       "      <th>2021</th>\n",
       "      <th>2022</th>\n",
       "      <th>2023</th>\n",
       "      <th>2024</th>\n",
       "      <th>2025</th>\n",
       "    </tr>\n",
       "  </thead>\n",
       "  <tbody>\n",
       "    <tr>\n",
       "      <th>0</th>\n",
       "      <td>350250</td>\n",
       "      <td>Aparecida</td>\n",
       "      <td>36129</td>\n",
       "      <td>36767</td>\n",
       "      <td>37405</td>\n",
       "      <td>37629</td>\n",
       "      <td>35015</td>\n",
       "      <td>35023</td>\n",
       "      <td>36151</td>\n",
       "      <td>36184</td>\n",
       "      <td>...</td>\n",
       "      <td>36248</td>\n",
       "      <td>36279</td>\n",
       "      <td>36129</td>\n",
       "      <td>36157</td>\n",
       "      <td>36185</td>\n",
       "      <td>36211</td>\n",
       "      <td>36211</td>\n",
       "      <td>36211</td>\n",
       "      <td>33223</td>\n",
       "      <td>33141</td>\n",
       "    </tr>\n",
       "    <tr>\n",
       "      <th>1</th>\n",
       "      <td>350315</td>\n",
       "      <td>Arapeí</td>\n",
       "      <td>2857</td>\n",
       "      <td>2722</td>\n",
       "      <td>2587</td>\n",
       "      <td>2582</td>\n",
       "      <td>2484</td>\n",
       "      <td>2475</td>\n",
       "      <td>2541</td>\n",
       "      <td>2532</td>\n",
       "      <td>...</td>\n",
       "      <td>2516</td>\n",
       "      <td>2509</td>\n",
       "      <td>2478</td>\n",
       "      <td>2469</td>\n",
       "      <td>2460</td>\n",
       "      <td>2452</td>\n",
       "      <td>2452</td>\n",
       "      <td>2452</td>\n",
       "      <td>2355</td>\n",
       "      <td>2355</td>\n",
       "    </tr>\n",
       "    <tr>\n",
       "      <th>2</th>\n",
       "      <td>350350</td>\n",
       "      <td>Areias</td>\n",
       "      <td>3834</td>\n",
       "      <td>3759</td>\n",
       "      <td>3684</td>\n",
       "      <td>3690</td>\n",
       "      <td>3704</td>\n",
       "      <td>3711</td>\n",
       "      <td>3839</td>\n",
       "      <td>3849</td>\n",
       "      <td>...</td>\n",
       "      <td>3869</td>\n",
       "      <td>3879</td>\n",
       "      <td>3876</td>\n",
       "      <td>3886</td>\n",
       "      <td>3896</td>\n",
       "      <td>3906</td>\n",
       "      <td>3906</td>\n",
       "      <td>3906</td>\n",
       "      <td>3625</td>\n",
       "      <td>3617</td>\n",
       "    </tr>\n",
       "    <tr>\n",
       "      <th>3</th>\n",
       "      <td>350490</td>\n",
       "      <td>Bananal</td>\n",
       "      <td>10185</td>\n",
       "      <td>10456</td>\n",
       "      <td>10727</td>\n",
       "      <td>10822</td>\n",
       "      <td>10263</td>\n",
       "      <td>10301</td>\n",
       "      <td>10680</td>\n",
       "      <td>10728</td>\n",
       "      <td>...</td>\n",
       "      <td>10821</td>\n",
       "      <td>10867</td>\n",
       "      <td>10896</td>\n",
       "      <td>10945</td>\n",
       "      <td>10993</td>\n",
       "      <td>11039</td>\n",
       "      <td>11039</td>\n",
       "      <td>11039</td>\n",
       "      <td>10109</td>\n",
       "      <td>10097</td>\n",
       "    </tr>\n",
       "    <tr>\n",
       "      <th>4</th>\n",
       "      <td>350850</td>\n",
       "      <td>Caçapava</td>\n",
       "      <td>83574</td>\n",
       "      <td>83990</td>\n",
       "      <td>84406</td>\n",
       "      <td>85181</td>\n",
       "      <td>85414</td>\n",
       "      <td>86054</td>\n",
       "      <td>89668</td>\n",
       "      <td>90426</td>\n",
       "      <td>...</td>\n",
       "      <td>91883</td>\n",
       "      <td>92587</td>\n",
       "      <td>93488</td>\n",
       "      <td>94263</td>\n",
       "      <td>95018</td>\n",
       "      <td>95752</td>\n",
       "      <td>95752</td>\n",
       "      <td>95752</td>\n",
       "      <td>99678</td>\n",
       "      <td>100071</td>\n",
       "    </tr>\n",
       "  </tbody>\n",
       "</table>\n",
       "<p>5 rows × 21 columns</p>\n",
       "</div>"
      ],
      "text/plain": [
       "   Cód.Município   Municipio   2006   2007   2008   2009   2011   2012   2013  \\\n",
       "0         350250  Aparecida   36129  36767  37405  37629  35015  35023  36151   \n",
       "1         350315     Arapeí    2857   2722   2587   2582   2484   2475   2541   \n",
       "2         350350     Areias    3834   3759   3684   3690   3704   3711   3839   \n",
       "3         350490    Bananal   10185  10456  10727  10822  10263  10301  10680   \n",
       "4         350850   Caçapava   83574  83990  84406  85181  85414  86054  89668   \n",
       "\n",
       "    2014  ...   2016   2017   2018   2019   2020   2021   2022   2023   2024  \\\n",
       "0  36184  ...  36248  36279  36129  36157  36185  36211  36211  36211  33223   \n",
       "1   2532  ...   2516   2509   2478   2469   2460   2452   2452   2452   2355   \n",
       "2   3849  ...   3869   3879   3876   3886   3896   3906   3906   3906   3625   \n",
       "3  10728  ...  10821  10867  10896  10945  10993  11039  11039  11039  10109   \n",
       "4  90426  ...  91883  92587  93488  94263  95018  95752  95752  95752  99678   \n",
       "\n",
       "     2025  \n",
       "0   33141  \n",
       "1    2355  \n",
       "2    3617  \n",
       "3   10097  \n",
       "4  100071  \n",
       "\n",
       "[5 rows x 21 columns]"
      ]
     },
     "execution_count": 28,
     "metadata": {},
     "output_type": "execute_result"
    }
   ],
   "source": [
    "populacao.head()"
   ]
  },
  {
   "cell_type": "code",
   "execution_count": 29,
   "metadata": {
    "colab": {
     "base_uri": "https://localhost:8080/",
     "height": 278
    },
    "id": "YCZvIa2ITC-b",
    "outputId": "94876b05-3fde-43e0-bc91-b7e9d06734d7"
   },
   "outputs": [
    {
     "data": {
      "text/html": [
       "<div>\n",
       "<style scoped>\n",
       "    .dataframe tbody tr th:only-of-type {\n",
       "        vertical-align: middle;\n",
       "    }\n",
       "\n",
       "    .dataframe tbody tr th {\n",
       "        vertical-align: top;\n",
       "    }\n",
       "\n",
       "    .dataframe thead th {\n",
       "        text-align: right;\n",
       "    }\n",
       "</style>\n",
       "<table border=\"1\" class=\"dataframe\">\n",
       "  <thead>\n",
       "    <tr style=\"text-align: right;\">\n",
       "      <th></th>\n",
       "      <th>Município de notificação</th>\n",
       "      <th>Codigo Município</th>\n",
       "      <th>Jan</th>\n",
       "      <th>Fev</th>\n",
       "      <th>Mar</th>\n",
       "      <th>Abr</th>\n",
       "      <th>Mai</th>\n",
       "      <th>Jun</th>\n",
       "      <th>Jul</th>\n",
       "      <th>Ago</th>\n",
       "      <th>Set</th>\n",
       "      <th>Out</th>\n",
       "      <th>Nov</th>\n",
       "      <th>Dez</th>\n",
       "      <th>Total</th>\n",
       "      <th>Ano</th>\n",
       "    </tr>\n",
       "  </thead>\n",
       "  <tbody>\n",
       "    <tr>\n",
       "      <th>0</th>\n",
       "      <td>APARECIDA</td>\n",
       "      <td>350250</td>\n",
       "      <td>0</td>\n",
       "      <td>13</td>\n",
       "      <td>127</td>\n",
       "      <td>41</td>\n",
       "      <td>1</td>\n",
       "      <td>0</td>\n",
       "      <td>0</td>\n",
       "      <td>0</td>\n",
       "      <td>0</td>\n",
       "      <td>0</td>\n",
       "      <td>0</td>\n",
       "      <td>0</td>\n",
       "      <td>182</td>\n",
       "      <td>2007</td>\n",
       "    </tr>\n",
       "    <tr>\n",
       "      <th>1</th>\n",
       "      <td>CACAPAVA</td>\n",
       "      <td>350850</td>\n",
       "      <td>0</td>\n",
       "      <td>2</td>\n",
       "      <td>5</td>\n",
       "      <td>0</td>\n",
       "      <td>1</td>\n",
       "      <td>0</td>\n",
       "      <td>1</td>\n",
       "      <td>0</td>\n",
       "      <td>0</td>\n",
       "      <td>0</td>\n",
       "      <td>0</td>\n",
       "      <td>0</td>\n",
       "      <td>9</td>\n",
       "      <td>2007</td>\n",
       "    </tr>\n",
       "    <tr>\n",
       "      <th>2</th>\n",
       "      <td>CACHOEIRA PAULISTA</td>\n",
       "      <td>350860</td>\n",
       "      <td>2</td>\n",
       "      <td>1</td>\n",
       "      <td>8</td>\n",
       "      <td>8</td>\n",
       "      <td>7</td>\n",
       "      <td>0</td>\n",
       "      <td>0</td>\n",
       "      <td>3</td>\n",
       "      <td>0</td>\n",
       "      <td>1</td>\n",
       "      <td>0</td>\n",
       "      <td>0</td>\n",
       "      <td>30</td>\n",
       "      <td>2007</td>\n",
       "    </tr>\n",
       "    <tr>\n",
       "      <th>3</th>\n",
       "      <td>CAMPOS DO JORDAO</td>\n",
       "      <td>350970</td>\n",
       "      <td>1</td>\n",
       "      <td>0</td>\n",
       "      <td>0</td>\n",
       "      <td>0</td>\n",
       "      <td>0</td>\n",
       "      <td>0</td>\n",
       "      <td>0</td>\n",
       "      <td>0</td>\n",
       "      <td>0</td>\n",
       "      <td>0</td>\n",
       "      <td>0</td>\n",
       "      <td>0</td>\n",
       "      <td>1</td>\n",
       "      <td>2007</td>\n",
       "    </tr>\n",
       "    <tr>\n",
       "      <th>4</th>\n",
       "      <td>CARAGUATATUBA</td>\n",
       "      <td>351050</td>\n",
       "      <td>0</td>\n",
       "      <td>1</td>\n",
       "      <td>47</td>\n",
       "      <td>189</td>\n",
       "      <td>294</td>\n",
       "      <td>142</td>\n",
       "      <td>52</td>\n",
       "      <td>3</td>\n",
       "      <td>2</td>\n",
       "      <td>2</td>\n",
       "      <td>2</td>\n",
       "      <td>1</td>\n",
       "      <td>735</td>\n",
       "      <td>2007</td>\n",
       "    </tr>\n",
       "  </tbody>\n",
       "</table>\n",
       "</div>"
      ],
      "text/plain": [
       "  Município de notificação  Codigo Município  Jan  Fev  Mar  Abr  Mai  Jun  \\\n",
       "0                APARECIDA            350250    0   13  127   41    1    0   \n",
       "1                 CACAPAVA            350850    0    2    5    0    1    0   \n",
       "2       CACHOEIRA PAULISTA            350860    2    1    8    8    7    0   \n",
       "3         CAMPOS DO JORDAO            350970    1    0    0    0    0    0   \n",
       "4            CARAGUATATUBA            351050    0    1   47  189  294  142   \n",
       "\n",
       "   Jul  Ago  Set  Out  Nov  Dez  Total   Ano  \n",
       "0    0    0    0    0    0    0    182  2007  \n",
       "1    1    0    0    0    0    0      9  2007  \n",
       "2    0    3    0    1    0    0     30  2007  \n",
       "3    0    0    0    0    0    0      1  2007  \n",
       "4   52    3    2    2    2    1    735  2007  "
      ]
     },
     "execution_count": 29,
     "metadata": {},
     "output_type": "execute_result"
    }
   ],
   "source": [
    "dados.head()"
   ]
  },
  {
   "cell_type": "markdown",
   "metadata": {
    "id": "5lDGrVpbcK2P"
   },
   "source": [
    "* Alterando os nomes das colunas para que fiquem iguais para facilitar a análise."
   ]
  },
  {
   "cell_type": "code",
   "execution_count": 30,
   "metadata": {
    "id": "3Wgf9PTuTGvp"
   },
   "outputs": [],
   "source": [
    "populacao.rename(\n",
    "    columns={\"Municipio\": \"Município de notificação\", \"Cód.Município\": \"Codigo Município\"},\n",
    "    inplace=True,\n",
    ")"
   ]
  },
  {
   "cell_type": "code",
   "execution_count": 31,
   "metadata": {
    "colab": {
     "base_uri": "https://localhost:8080/"
    },
    "id": "3OjoR8lRcXRV",
    "outputId": "e13586d9-538d-4286-d1a3-bdc1fce67b28"
   },
   "outputs": [
    {
     "data": {
      "text/plain": [
       "Index(['Codigo Município', 'Município de notificação', '2006', '2007', '2008',\n",
       "       '2009', '2011', '2012', '2013', '2014', '2015', '2016', '2017', '2018',\n",
       "       '2019', '2020', '2021', '2022', '2023', '2024', '2025'],\n",
       "      dtype='object')"
      ]
     },
     "execution_count": 31,
     "metadata": {},
     "output_type": "execute_result"
    }
   ],
   "source": [
    "populacao.columns"
   ]
  },
  {
   "cell_type": "code",
   "execution_count": 32,
   "metadata": {
    "id": "Xzh2a_yLcapD"
   },
   "outputs": [],
   "source": [
    "order = [\n",
    "    \"Município de notificação\",\n",
    "    \"Codigo Município\",\n",
    "    \"2006\",\n",
    "    \"2007\",\n",
    "    \"2008\",\n",
    "    \"2009\",\n",
    "    \"2011\",\n",
    "    \"2012\",\n",
    "    \"2013\",\n",
    "    \"2014\",\n",
    "    \"2015\",\n",
    "    \"2016\",\n",
    "    \"2017\",\n",
    "    \"2018\",\n",
    "    \"2019\",\n",
    "    \"2020\",\n",
    "    \"2021\",\n",
    "    \"2022\",\n",
    "    \"2023\",\n",
    "    \"2024\",\n",
    "    \"2025\",\n",
    "]\n",
    "populacao = populacao[order]"
   ]
  },
  {
   "cell_type": "code",
   "execution_count": 33,
   "metadata": {
    "colab": {
     "base_uri": "https://localhost:8080/",
     "height": 290
    },
    "id": "lcKxH1Qpcraf",
    "outputId": "0bfb2555-6acc-47b3-b229-46540c47b126"
   },
   "outputs": [
    {
     "data": {
      "text/html": [
       "<div>\n",
       "<style scoped>\n",
       "    .dataframe tbody tr th:only-of-type {\n",
       "        vertical-align: middle;\n",
       "    }\n",
       "\n",
       "    .dataframe tbody tr th {\n",
       "        vertical-align: top;\n",
       "    }\n",
       "\n",
       "    .dataframe thead th {\n",
       "        text-align: right;\n",
       "    }\n",
       "</style>\n",
       "<table border=\"1\" class=\"dataframe\">\n",
       "  <thead>\n",
       "    <tr style=\"text-align: right;\">\n",
       "      <th></th>\n",
       "      <th>Município de notificação</th>\n",
       "      <th>Codigo Município</th>\n",
       "      <th>2006</th>\n",
       "      <th>2007</th>\n",
       "      <th>2008</th>\n",
       "      <th>2009</th>\n",
       "      <th>2011</th>\n",
       "      <th>2012</th>\n",
       "      <th>2013</th>\n",
       "      <th>2014</th>\n",
       "      <th>...</th>\n",
       "      <th>2016</th>\n",
       "      <th>2017</th>\n",
       "      <th>2018</th>\n",
       "      <th>2019</th>\n",
       "      <th>2020</th>\n",
       "      <th>2021</th>\n",
       "      <th>2022</th>\n",
       "      <th>2023</th>\n",
       "      <th>2024</th>\n",
       "      <th>2025</th>\n",
       "    </tr>\n",
       "  </thead>\n",
       "  <tbody>\n",
       "    <tr>\n",
       "      <th>0</th>\n",
       "      <td>Aparecida</td>\n",
       "      <td>350250</td>\n",
       "      <td>36129</td>\n",
       "      <td>36767</td>\n",
       "      <td>37405</td>\n",
       "      <td>37629</td>\n",
       "      <td>35015</td>\n",
       "      <td>35023</td>\n",
       "      <td>36151</td>\n",
       "      <td>36184</td>\n",
       "      <td>...</td>\n",
       "      <td>36248</td>\n",
       "      <td>36279</td>\n",
       "      <td>36129</td>\n",
       "      <td>36157</td>\n",
       "      <td>36185</td>\n",
       "      <td>36211</td>\n",
       "      <td>36211</td>\n",
       "      <td>36211</td>\n",
       "      <td>33223</td>\n",
       "      <td>33141</td>\n",
       "    </tr>\n",
       "    <tr>\n",
       "      <th>1</th>\n",
       "      <td>Arapeí</td>\n",
       "      <td>350315</td>\n",
       "      <td>2857</td>\n",
       "      <td>2722</td>\n",
       "      <td>2587</td>\n",
       "      <td>2582</td>\n",
       "      <td>2484</td>\n",
       "      <td>2475</td>\n",
       "      <td>2541</td>\n",
       "      <td>2532</td>\n",
       "      <td>...</td>\n",
       "      <td>2516</td>\n",
       "      <td>2509</td>\n",
       "      <td>2478</td>\n",
       "      <td>2469</td>\n",
       "      <td>2460</td>\n",
       "      <td>2452</td>\n",
       "      <td>2452</td>\n",
       "      <td>2452</td>\n",
       "      <td>2355</td>\n",
       "      <td>2355</td>\n",
       "    </tr>\n",
       "    <tr>\n",
       "      <th>2</th>\n",
       "      <td>Areias</td>\n",
       "      <td>350350</td>\n",
       "      <td>3834</td>\n",
       "      <td>3759</td>\n",
       "      <td>3684</td>\n",
       "      <td>3690</td>\n",
       "      <td>3704</td>\n",
       "      <td>3711</td>\n",
       "      <td>3839</td>\n",
       "      <td>3849</td>\n",
       "      <td>...</td>\n",
       "      <td>3869</td>\n",
       "      <td>3879</td>\n",
       "      <td>3876</td>\n",
       "      <td>3886</td>\n",
       "      <td>3896</td>\n",
       "      <td>3906</td>\n",
       "      <td>3906</td>\n",
       "      <td>3906</td>\n",
       "      <td>3625</td>\n",
       "      <td>3617</td>\n",
       "    </tr>\n",
       "    <tr>\n",
       "      <th>3</th>\n",
       "      <td>Bananal</td>\n",
       "      <td>350490</td>\n",
       "      <td>10185</td>\n",
       "      <td>10456</td>\n",
       "      <td>10727</td>\n",
       "      <td>10822</td>\n",
       "      <td>10263</td>\n",
       "      <td>10301</td>\n",
       "      <td>10680</td>\n",
       "      <td>10728</td>\n",
       "      <td>...</td>\n",
       "      <td>10821</td>\n",
       "      <td>10867</td>\n",
       "      <td>10896</td>\n",
       "      <td>10945</td>\n",
       "      <td>10993</td>\n",
       "      <td>11039</td>\n",
       "      <td>11039</td>\n",
       "      <td>11039</td>\n",
       "      <td>10109</td>\n",
       "      <td>10097</td>\n",
       "    </tr>\n",
       "    <tr>\n",
       "      <th>4</th>\n",
       "      <td>Caçapava</td>\n",
       "      <td>350850</td>\n",
       "      <td>83574</td>\n",
       "      <td>83990</td>\n",
       "      <td>84406</td>\n",
       "      <td>85181</td>\n",
       "      <td>85414</td>\n",
       "      <td>86054</td>\n",
       "      <td>89668</td>\n",
       "      <td>90426</td>\n",
       "      <td>...</td>\n",
       "      <td>91883</td>\n",
       "      <td>92587</td>\n",
       "      <td>93488</td>\n",
       "      <td>94263</td>\n",
       "      <td>95018</td>\n",
       "      <td>95752</td>\n",
       "      <td>95752</td>\n",
       "      <td>95752</td>\n",
       "      <td>99678</td>\n",
       "      <td>100071</td>\n",
       "    </tr>\n",
       "  </tbody>\n",
       "</table>\n",
       "<p>5 rows × 21 columns</p>\n",
       "</div>"
      ],
      "text/plain": [
       "  Município de notificação  Codigo Município   2006   2007   2008   2009  \\\n",
       "0               Aparecida             350250  36129  36767  37405  37629   \n",
       "1                  Arapeí             350315   2857   2722   2587   2582   \n",
       "2                  Areias             350350   3834   3759   3684   3690   \n",
       "3                 Bananal             350490  10185  10456  10727  10822   \n",
       "4                Caçapava             350850  83574  83990  84406  85181   \n",
       "\n",
       "    2011   2012   2013   2014  ...   2016   2017   2018   2019   2020   2021  \\\n",
       "0  35015  35023  36151  36184  ...  36248  36279  36129  36157  36185  36211   \n",
       "1   2484   2475   2541   2532  ...   2516   2509   2478   2469   2460   2452   \n",
       "2   3704   3711   3839   3849  ...   3869   3879   3876   3886   3896   3906   \n",
       "3  10263  10301  10680  10728  ...  10821  10867  10896  10945  10993  11039   \n",
       "4  85414  86054  89668  90426  ...  91883  92587  93488  94263  95018  95752   \n",
       "\n",
       "    2022   2023   2024    2025  \n",
       "0  36211  36211  33223   33141  \n",
       "1   2452   2452   2355    2355  \n",
       "2   3906   3906   3625    3617  \n",
       "3  11039  11039  10109   10097  \n",
       "4  95752  95752  99678  100071  \n",
       "\n",
       "[5 rows x 21 columns]"
      ]
     },
     "execution_count": 33,
     "metadata": {},
     "output_type": "execute_result"
    }
   ],
   "source": [
    "populacao.head(5)"
   ]
  },
  {
   "cell_type": "code",
   "execution_count": 34,
   "metadata": {
    "id": "sw_AnredcsvL"
   },
   "outputs": [],
   "source": [
    "populacao[\"Município de notificação\"] = populacao[\"Município de notificação\"].str.upper()"
   ]
  },
  {
   "cell_type": "code",
   "execution_count": 35,
   "metadata": {
    "id": "OECNiku3dkC2"
   },
   "outputs": [],
   "source": [
    "populacao.drop(columns=[\"2006\"], inplace=True)"
   ]
  },
  {
   "cell_type": "code",
   "execution_count": 36,
   "metadata": {
    "id": "o7mqeLF3dBVs"
   },
   "outputs": [],
   "source": [
    "populacao[\"2010\"] = (populacao[\"2011\"] + populacao[\"2009\"]) // 2"
   ]
  },
  {
   "cell_type": "code",
   "execution_count": 37,
   "metadata": {
    "id": "LXpDHxw2dHWL"
   },
   "outputs": [],
   "source": [
    "dados = dados.sort_values(by=\"Ano\")"
   ]
  },
  {
   "cell_type": "code",
   "execution_count": 38,
   "metadata": {
    "colab": {
     "base_uri": "https://localhost:8080/",
     "height": 275
    },
    "id": "fsqxecz7dEAz",
    "outputId": "ebe45b1d-1f22-44d7-df74-ab7f144e921e"
   },
   "outputs": [
    {
     "data": {
      "text/html": [
       "<div>\n",
       "<style scoped>\n",
       "    .dataframe tbody tr th:only-of-type {\n",
       "        vertical-align: middle;\n",
       "    }\n",
       "\n",
       "    .dataframe tbody tr th {\n",
       "        vertical-align: top;\n",
       "    }\n",
       "\n",
       "    .dataframe thead th {\n",
       "        text-align: right;\n",
       "    }\n",
       "</style>\n",
       "<table border=\"1\" class=\"dataframe\">\n",
       "  <thead>\n",
       "    <tr style=\"text-align: right;\">\n",
       "      <th></th>\n",
       "      <th>Município de notificação</th>\n",
       "      <th>Codigo Município</th>\n",
       "      <th>Jan</th>\n",
       "      <th>Fev</th>\n",
       "      <th>Mar</th>\n",
       "      <th>Abr</th>\n",
       "      <th>Mai</th>\n",
       "      <th>Jun</th>\n",
       "      <th>Jul</th>\n",
       "      <th>Ago</th>\n",
       "      <th>Set</th>\n",
       "      <th>Out</th>\n",
       "      <th>Nov</th>\n",
       "      <th>Dez</th>\n",
       "      <th>Total</th>\n",
       "      <th>Ano</th>\n",
       "    </tr>\n",
       "  </thead>\n",
       "  <tbody>\n",
       "    <tr>\n",
       "      <th>0</th>\n",
       "      <td>APARECIDA</td>\n",
       "      <td>350250</td>\n",
       "      <td>0</td>\n",
       "      <td>13</td>\n",
       "      <td>127</td>\n",
       "      <td>41</td>\n",
       "      <td>1</td>\n",
       "      <td>0</td>\n",
       "      <td>0</td>\n",
       "      <td>0</td>\n",
       "      <td>0</td>\n",
       "      <td>0</td>\n",
       "      <td>0</td>\n",
       "      <td>0</td>\n",
       "      <td>182</td>\n",
       "      <td>2007</td>\n",
       "    </tr>\n",
       "    <tr>\n",
       "      <th>26</th>\n",
       "      <td>TREMEMBE</td>\n",
       "      <td>355480</td>\n",
       "      <td>0</td>\n",
       "      <td>0</td>\n",
       "      <td>5</td>\n",
       "      <td>0</td>\n",
       "      <td>0</td>\n",
       "      <td>0</td>\n",
       "      <td>0</td>\n",
       "      <td>0</td>\n",
       "      <td>0</td>\n",
       "      <td>0</td>\n",
       "      <td>0</td>\n",
       "      <td>0</td>\n",
       "      <td>5</td>\n",
       "      <td>2007</td>\n",
       "    </tr>\n",
       "    <tr>\n",
       "      <th>25</th>\n",
       "      <td>TAUBATE</td>\n",
       "      <td>355410</td>\n",
       "      <td>12</td>\n",
       "      <td>23</td>\n",
       "      <td>35</td>\n",
       "      <td>37</td>\n",
       "      <td>16</td>\n",
       "      <td>5</td>\n",
       "      <td>0</td>\n",
       "      <td>0</td>\n",
       "      <td>0</td>\n",
       "      <td>1</td>\n",
       "      <td>1</td>\n",
       "      <td>1</td>\n",
       "      <td>131</td>\n",
       "      <td>2007</td>\n",
       "    </tr>\n",
       "    <tr>\n",
       "      <th>24</th>\n",
       "      <td>SAO SEBASTIAO</td>\n",
       "      <td>355070</td>\n",
       "      <td>11</td>\n",
       "      <td>5</td>\n",
       "      <td>37</td>\n",
       "      <td>68</td>\n",
       "      <td>79</td>\n",
       "      <td>14</td>\n",
       "      <td>11</td>\n",
       "      <td>1</td>\n",
       "      <td>1</td>\n",
       "      <td>5</td>\n",
       "      <td>3</td>\n",
       "      <td>5</td>\n",
       "      <td>240</td>\n",
       "      <td>2007</td>\n",
       "    </tr>\n",
       "    <tr>\n",
       "      <th>23</th>\n",
       "      <td>SAO LUIS DO PARAITINGA</td>\n",
       "      <td>355000</td>\n",
       "      <td>0</td>\n",
       "      <td>0</td>\n",
       "      <td>0</td>\n",
       "      <td>2</td>\n",
       "      <td>1</td>\n",
       "      <td>0</td>\n",
       "      <td>0</td>\n",
       "      <td>0</td>\n",
       "      <td>0</td>\n",
       "      <td>0</td>\n",
       "      <td>0</td>\n",
       "      <td>0</td>\n",
       "      <td>3</td>\n",
       "      <td>2007</td>\n",
       "    </tr>\n",
       "  </tbody>\n",
       "</table>\n",
       "</div>"
      ],
      "text/plain": [
       "   Município de notificação  Codigo Município  Jan  Fev  Mar  Abr  Mai  Jun  \\\n",
       "0                 APARECIDA            350250    0   13  127   41    1    0   \n",
       "26                 TREMEMBE            355480    0    0    5    0    0    0   \n",
       "25                  TAUBATE            355410   12   23   35   37   16    5   \n",
       "24            SAO SEBASTIAO            355070   11    5   37   68   79   14   \n",
       "23   SAO LUIS DO PARAITINGA            355000    0    0    0    2    1    0   \n",
       "\n",
       "    Jul  Ago  Set  Out  Nov  Dez  Total   Ano  \n",
       "0     0    0    0    0    0    0    182  2007  \n",
       "26    0    0    0    0    0    0      5  2007  \n",
       "25    0    0    0    1    1    1    131  2007  \n",
       "24   11    1    1    5    3    5    240  2007  \n",
       "23    0    0    0    0    0    0      3  2007  "
      ]
     },
     "execution_count": 38,
     "metadata": {},
     "output_type": "execute_result"
    }
   ],
   "source": [
    "dados.head(5)"
   ]
  },
  {
   "cell_type": "code",
   "execution_count": 39,
   "metadata": {
    "colab": {
     "base_uri": "https://localhost:8080/",
     "height": 313
    },
    "id": "vNQIjdIadWhv",
    "outputId": "ef1f2c63-a71e-4a4d-b0ad-ff56a33afca3"
   },
   "outputs": [
    {
     "data": {
      "text/html": [
       "<div>\n",
       "<style scoped>\n",
       "    .dataframe tbody tr th:only-of-type {\n",
       "        vertical-align: middle;\n",
       "    }\n",
       "\n",
       "    .dataframe tbody tr th {\n",
       "        vertical-align: top;\n",
       "    }\n",
       "\n",
       "    .dataframe thead th {\n",
       "        text-align: right;\n",
       "    }\n",
       "</style>\n",
       "<table border=\"1\" class=\"dataframe\">\n",
       "  <thead>\n",
       "    <tr style=\"text-align: right;\">\n",
       "      <th></th>\n",
       "      <th>Município de notificação</th>\n",
       "      <th>Codigo Município</th>\n",
       "      <th>Jan</th>\n",
       "      <th>Fev</th>\n",
       "      <th>Mar</th>\n",
       "      <th>Abr</th>\n",
       "      <th>Mai</th>\n",
       "      <th>Jun</th>\n",
       "      <th>Jul</th>\n",
       "      <th>Ago</th>\n",
       "      <th>Set</th>\n",
       "      <th>Out</th>\n",
       "      <th>Nov</th>\n",
       "      <th>Dez</th>\n",
       "      <th>Total</th>\n",
       "      <th>Ano</th>\n",
       "      <th>Populacao</th>\n",
       "    </tr>\n",
       "  </thead>\n",
       "  <tbody>\n",
       "    <tr>\n",
       "      <th>0</th>\n",
       "      <td>APARECIDA</td>\n",
       "      <td>350250</td>\n",
       "      <td>0</td>\n",
       "      <td>13</td>\n",
       "      <td>127</td>\n",
       "      <td>41</td>\n",
       "      <td>1</td>\n",
       "      <td>0</td>\n",
       "      <td>0</td>\n",
       "      <td>0</td>\n",
       "      <td>0</td>\n",
       "      <td>0</td>\n",
       "      <td>0</td>\n",
       "      <td>0</td>\n",
       "      <td>182</td>\n",
       "      <td>2007</td>\n",
       "      <td>36767</td>\n",
       "    </tr>\n",
       "    <tr>\n",
       "      <th>26</th>\n",
       "      <td>TREMEMBE</td>\n",
       "      <td>355480</td>\n",
       "      <td>0</td>\n",
       "      <td>0</td>\n",
       "      <td>5</td>\n",
       "      <td>0</td>\n",
       "      <td>0</td>\n",
       "      <td>0</td>\n",
       "      <td>0</td>\n",
       "      <td>0</td>\n",
       "      <td>0</td>\n",
       "      <td>0</td>\n",
       "      <td>0</td>\n",
       "      <td>0</td>\n",
       "      <td>5</td>\n",
       "      <td>2007</td>\n",
       "      <td>40391</td>\n",
       "    </tr>\n",
       "    <tr>\n",
       "      <th>25</th>\n",
       "      <td>TAUBATE</td>\n",
       "      <td>355410</td>\n",
       "      <td>12</td>\n",
       "      <td>23</td>\n",
       "      <td>35</td>\n",
       "      <td>37</td>\n",
       "      <td>16</td>\n",
       "      <td>5</td>\n",
       "      <td>0</td>\n",
       "      <td>0</td>\n",
       "      <td>0</td>\n",
       "      <td>1</td>\n",
       "      <td>1</td>\n",
       "      <td>1</td>\n",
       "      <td>131</td>\n",
       "      <td>2007</td>\n",
       "      <td>271289</td>\n",
       "    </tr>\n",
       "    <tr>\n",
       "      <th>24</th>\n",
       "      <td>SAO SEBASTIAO</td>\n",
       "      <td>355070</td>\n",
       "      <td>11</td>\n",
       "      <td>5</td>\n",
       "      <td>37</td>\n",
       "      <td>68</td>\n",
       "      <td>79</td>\n",
       "      <td>14</td>\n",
       "      <td>11</td>\n",
       "      <td>1</td>\n",
       "      <td>1</td>\n",
       "      <td>5</td>\n",
       "      <td>3</td>\n",
       "      <td>5</td>\n",
       "      <td>240</td>\n",
       "      <td>2007</td>\n",
       "      <td>74061</td>\n",
       "    </tr>\n",
       "    <tr>\n",
       "      <th>23</th>\n",
       "      <td>SAO LUIS DO PARAITINGA</td>\n",
       "      <td>355000</td>\n",
       "      <td>0</td>\n",
       "      <td>0</td>\n",
       "      <td>0</td>\n",
       "      <td>2</td>\n",
       "      <td>1</td>\n",
       "      <td>0</td>\n",
       "      <td>0</td>\n",
       "      <td>0</td>\n",
       "      <td>0</td>\n",
       "      <td>0</td>\n",
       "      <td>0</td>\n",
       "      <td>0</td>\n",
       "      <td>3</td>\n",
       "      <td>2007</td>\n",
       "      <td>10838</td>\n",
       "    </tr>\n",
       "  </tbody>\n",
       "</table>\n",
       "</div>"
      ],
      "text/plain": [
       "   Município de notificação  Codigo Município  Jan  Fev  Mar  Abr  Mai  Jun  \\\n",
       "0                 APARECIDA            350250    0   13  127   41    1    0   \n",
       "26                 TREMEMBE            355480    0    0    5    0    0    0   \n",
       "25                  TAUBATE            355410   12   23   35   37   16    5   \n",
       "24            SAO SEBASTIAO            355070   11    5   37   68   79   14   \n",
       "23   SAO LUIS DO PARAITINGA            355000    0    0    0    2    1    0   \n",
       "\n",
       "    Jul  Ago  Set  Out  Nov  Dez  Total   Ano  Populacao  \n",
       "0     0    0    0    0    0    0    182  2007      36767  \n",
       "26    0    0    0    0    0    0      5  2007      40391  \n",
       "25    0    0    0    1    1    1    131  2007     271289  \n",
       "24   11    1    1    5    3    5    240  2007      74061  \n",
       "23    0    0    0    0    0    0      3  2007      10838  "
      ]
     },
     "metadata": {},
     "output_type": "display_data"
    }
   ],
   "source": [
    "dados[\"Populacao\"] = 0\n",
    "\n",
    "for index, row in dados.iterrows():\n",
    "    codigo_municipio = row[\"Codigo Município\"]\n",
    "    ano = str(row[\"Ano\"])\n",
    "    if ano in populacao.columns:\n",
    "        populacao_municipio = populacao[populacao[\"Codigo Município\"] == codigo_municipio]\n",
    "        if not populacao_municipio.empty:\n",
    "            dados.loc[index, \"Populacao\"] = populacao_municipio[ano].iloc[0]\n",
    "\n",
    "display(dados.head())"
   ]
  },
  {
   "cell_type": "code",
   "execution_count": 40,
   "metadata": {
    "colab": {
     "base_uri": "https://localhost:8080/",
     "height": 1000
    },
    "id": "F_tdM7mwgSbL",
    "outputId": "689e8e57-e248-4afc-ea56-65ac38106164"
   },
   "outputs": [
    {
     "data": {
      "text/html": [
       "<div>\n",
       "<style scoped>\n",
       "    .dataframe tbody tr th:only-of-type {\n",
       "        vertical-align: middle;\n",
       "    }\n",
       "\n",
       "    .dataframe tbody tr th {\n",
       "        vertical-align: top;\n",
       "    }\n",
       "\n",
       "    .dataframe thead th {\n",
       "        text-align: right;\n",
       "    }\n",
       "</style>\n",
       "<table border=\"1\" class=\"dataframe\">\n",
       "  <thead>\n",
       "    <tr style=\"text-align: right;\">\n",
       "      <th></th>\n",
       "      <th>Município de notificação</th>\n",
       "      <th>Codigo Município</th>\n",
       "      <th>Jan</th>\n",
       "      <th>Fev</th>\n",
       "      <th>Mar</th>\n",
       "      <th>Abr</th>\n",
       "      <th>Mai</th>\n",
       "      <th>Jun</th>\n",
       "      <th>Jul</th>\n",
       "      <th>Ago</th>\n",
       "      <th>Set</th>\n",
       "      <th>Out</th>\n",
       "      <th>Nov</th>\n",
       "      <th>Dez</th>\n",
       "      <th>Total</th>\n",
       "      <th>Ano</th>\n",
       "      <th>Populacao</th>\n",
       "    </tr>\n",
       "  </thead>\n",
       "  <tbody>\n",
       "    <tr>\n",
       "      <th>0</th>\n",
       "      <td>APARECIDA</td>\n",
       "      <td>350250</td>\n",
       "      <td>0</td>\n",
       "      <td>13</td>\n",
       "      <td>127</td>\n",
       "      <td>41</td>\n",
       "      <td>1</td>\n",
       "      <td>0</td>\n",
       "      <td>0</td>\n",
       "      <td>0</td>\n",
       "      <td>0</td>\n",
       "      <td>0</td>\n",
       "      <td>0</td>\n",
       "      <td>0</td>\n",
       "      <td>182</td>\n",
       "      <td>2007</td>\n",
       "      <td>36767</td>\n",
       "    </tr>\n",
       "    <tr>\n",
       "      <th>26</th>\n",
       "      <td>TREMEMBE</td>\n",
       "      <td>355480</td>\n",
       "      <td>0</td>\n",
       "      <td>0</td>\n",
       "      <td>5</td>\n",
       "      <td>0</td>\n",
       "      <td>0</td>\n",
       "      <td>0</td>\n",
       "      <td>0</td>\n",
       "      <td>0</td>\n",
       "      <td>0</td>\n",
       "      <td>0</td>\n",
       "      <td>0</td>\n",
       "      <td>0</td>\n",
       "      <td>5</td>\n",
       "      <td>2007</td>\n",
       "      <td>40391</td>\n",
       "    </tr>\n",
       "    <tr>\n",
       "      <th>25</th>\n",
       "      <td>TAUBATE</td>\n",
       "      <td>355410</td>\n",
       "      <td>12</td>\n",
       "      <td>23</td>\n",
       "      <td>35</td>\n",
       "      <td>37</td>\n",
       "      <td>16</td>\n",
       "      <td>5</td>\n",
       "      <td>0</td>\n",
       "      <td>0</td>\n",
       "      <td>0</td>\n",
       "      <td>1</td>\n",
       "      <td>1</td>\n",
       "      <td>1</td>\n",
       "      <td>131</td>\n",
       "      <td>2007</td>\n",
       "      <td>271289</td>\n",
       "    </tr>\n",
       "    <tr>\n",
       "      <th>24</th>\n",
       "      <td>SAO SEBASTIAO</td>\n",
       "      <td>355070</td>\n",
       "      <td>11</td>\n",
       "      <td>5</td>\n",
       "      <td>37</td>\n",
       "      <td>68</td>\n",
       "      <td>79</td>\n",
       "      <td>14</td>\n",
       "      <td>11</td>\n",
       "      <td>1</td>\n",
       "      <td>1</td>\n",
       "      <td>5</td>\n",
       "      <td>3</td>\n",
       "      <td>5</td>\n",
       "      <td>240</td>\n",
       "      <td>2007</td>\n",
       "      <td>74061</td>\n",
       "    </tr>\n",
       "    <tr>\n",
       "      <th>23</th>\n",
       "      <td>SAO LUIS DO PARAITINGA</td>\n",
       "      <td>355000</td>\n",
       "      <td>0</td>\n",
       "      <td>0</td>\n",
       "      <td>0</td>\n",
       "      <td>2</td>\n",
       "      <td>1</td>\n",
       "      <td>0</td>\n",
       "      <td>0</td>\n",
       "      <td>0</td>\n",
       "      <td>0</td>\n",
       "      <td>0</td>\n",
       "      <td>0</td>\n",
       "      <td>0</td>\n",
       "      <td>3</td>\n",
       "      <td>2007</td>\n",
       "      <td>10838</td>\n",
       "    </tr>\n",
       "    <tr>\n",
       "      <th>22</th>\n",
       "      <td>SAO JOSE DOS CAMPOS</td>\n",
       "      <td>354990</td>\n",
       "      <td>8</td>\n",
       "      <td>31</td>\n",
       "      <td>115</td>\n",
       "      <td>213</td>\n",
       "      <td>159</td>\n",
       "      <td>32</td>\n",
       "      <td>17</td>\n",
       "      <td>8</td>\n",
       "      <td>10</td>\n",
       "      <td>16</td>\n",
       "      <td>22</td>\n",
       "      <td>27</td>\n",
       "      <td>658</td>\n",
       "      <td>2007</td>\n",
       "      <td>610097</td>\n",
       "    </tr>\n",
       "    <tr>\n",
       "      <th>21</th>\n",
       "      <td>SAO JOSE DO BARREIRO</td>\n",
       "      <td>354960</td>\n",
       "      <td>0</td>\n",
       "      <td>0</td>\n",
       "      <td>1</td>\n",
       "      <td>0</td>\n",
       "      <td>0</td>\n",
       "      <td>0</td>\n",
       "      <td>0</td>\n",
       "      <td>0</td>\n",
       "      <td>0</td>\n",
       "      <td>0</td>\n",
       "      <td>0</td>\n",
       "      <td>0</td>\n",
       "      <td>1</td>\n",
       "      <td>2007</td>\n",
       "      <td>4379</td>\n",
       "    </tr>\n",
       "    <tr>\n",
       "      <th>20</th>\n",
       "      <td>SANTO ANTONIO DO PINHAL</td>\n",
       "      <td>354820</td>\n",
       "      <td>0</td>\n",
       "      <td>1</td>\n",
       "      <td>1</td>\n",
       "      <td>1</td>\n",
       "      <td>0</td>\n",
       "      <td>0</td>\n",
       "      <td>0</td>\n",
       "      <td>0</td>\n",
       "      <td>0</td>\n",
       "      <td>0</td>\n",
       "      <td>0</td>\n",
       "      <td>0</td>\n",
       "      <td>3</td>\n",
       "      <td>2007</td>\n",
       "      <td>6948</td>\n",
       "    </tr>\n",
       "    <tr>\n",
       "      <th>19</th>\n",
       "      <td>SANTA BRANCA</td>\n",
       "      <td>354600</td>\n",
       "      <td>0</td>\n",
       "      <td>0</td>\n",
       "      <td>0</td>\n",
       "      <td>0</td>\n",
       "      <td>0</td>\n",
       "      <td>0</td>\n",
       "      <td>0</td>\n",
       "      <td>0</td>\n",
       "      <td>1</td>\n",
       "      <td>0</td>\n",
       "      <td>0</td>\n",
       "      <td>0</td>\n",
       "      <td>1</td>\n",
       "      <td>2007</td>\n",
       "      <td>14410</td>\n",
       "    </tr>\n",
       "    <tr>\n",
       "      <th>17</th>\n",
       "      <td>QUELUZ</td>\n",
       "      <td>354190</td>\n",
       "      <td>0</td>\n",
       "      <td>0</td>\n",
       "      <td>0</td>\n",
       "      <td>1</td>\n",
       "      <td>5</td>\n",
       "      <td>1</td>\n",
       "      <td>0</td>\n",
       "      <td>0</td>\n",
       "      <td>0</td>\n",
       "      <td>0</td>\n",
       "      <td>0</td>\n",
       "      <td>0</td>\n",
       "      <td>7</td>\n",
       "      <td>2007</td>\n",
       "      <td>10580</td>\n",
       "    </tr>\n",
       "    <tr>\n",
       "      <th>16</th>\n",
       "      <td>POTIM</td>\n",
       "      <td>354075</td>\n",
       "      <td>0</td>\n",
       "      <td>2</td>\n",
       "      <td>33</td>\n",
       "      <td>16</td>\n",
       "      <td>2</td>\n",
       "      <td>0</td>\n",
       "      <td>0</td>\n",
       "      <td>0</td>\n",
       "      <td>0</td>\n",
       "      <td>0</td>\n",
       "      <td>1</td>\n",
       "      <td>0</td>\n",
       "      <td>54</td>\n",
       "      <td>2007</td>\n",
       "      <td>18240</td>\n",
       "    </tr>\n",
       "    <tr>\n",
       "      <th>15</th>\n",
       "      <td>PINDAMONHANGABA</td>\n",
       "      <td>353800</td>\n",
       "      <td>2</td>\n",
       "      <td>6</td>\n",
       "      <td>6</td>\n",
       "      <td>2</td>\n",
       "      <td>0</td>\n",
       "      <td>0</td>\n",
       "      <td>0</td>\n",
       "      <td>0</td>\n",
       "      <td>0</td>\n",
       "      <td>0</td>\n",
       "      <td>0</td>\n",
       "      <td>1</td>\n",
       "      <td>17</td>\n",
       "      <td>2007</td>\n",
       "      <td>143367</td>\n",
       "    </tr>\n",
       "    <tr>\n",
       "      <th>14</th>\n",
       "      <td>PARAIBUNA</td>\n",
       "      <td>353560</td>\n",
       "      <td>0</td>\n",
       "      <td>0</td>\n",
       "      <td>0</td>\n",
       "      <td>1</td>\n",
       "      <td>0</td>\n",
       "      <td>0</td>\n",
       "      <td>0</td>\n",
       "      <td>0</td>\n",
       "      <td>0</td>\n",
       "      <td>0</td>\n",
       "      <td>0</td>\n",
       "      <td>0</td>\n",
       "      <td>1</td>\n",
       "      <td>2007</td>\n",
       "      <td>17718</td>\n",
       "    </tr>\n",
       "    <tr>\n",
       "      <th>18</th>\n",
       "      <td>ROSEIRA</td>\n",
       "      <td>354430</td>\n",
       "      <td>0</td>\n",
       "      <td>0</td>\n",
       "      <td>1</td>\n",
       "      <td>2</td>\n",
       "      <td>0</td>\n",
       "      <td>0</td>\n",
       "      <td>0</td>\n",
       "      <td>0</td>\n",
       "      <td>0</td>\n",
       "      <td>0</td>\n",
       "      <td>0</td>\n",
       "      <td>0</td>\n",
       "      <td>3</td>\n",
       "      <td>2007</td>\n",
       "      <td>9883</td>\n",
       "    </tr>\n",
       "    <tr>\n",
       "      <th>12</th>\n",
       "      <td>LAVRINHAS</td>\n",
       "      <td>352660</td>\n",
       "      <td>1</td>\n",
       "      <td>0</td>\n",
       "      <td>1</td>\n",
       "      <td>2</td>\n",
       "      <td>0</td>\n",
       "      <td>0</td>\n",
       "      <td>0</td>\n",
       "      <td>0</td>\n",
       "      <td>0</td>\n",
       "      <td>0</td>\n",
       "      <td>0</td>\n",
       "      <td>0</td>\n",
       "      <td>4</td>\n",
       "      <td>2007</td>\n",
       "      <td>6954</td>\n",
       "    </tr>\n",
       "    <tr>\n",
       "      <th>1</th>\n",
       "      <td>CACAPAVA</td>\n",
       "      <td>350850</td>\n",
       "      <td>0</td>\n",
       "      <td>2</td>\n",
       "      <td>5</td>\n",
       "      <td>0</td>\n",
       "      <td>1</td>\n",
       "      <td>0</td>\n",
       "      <td>1</td>\n",
       "      <td>0</td>\n",
       "      <td>0</td>\n",
       "      <td>0</td>\n",
       "      <td>0</td>\n",
       "      <td>0</td>\n",
       "      <td>9</td>\n",
       "      <td>2007</td>\n",
       "      <td>83990</td>\n",
       "    </tr>\n",
       "    <tr>\n",
       "      <th>13</th>\n",
       "      <td>LORENA</td>\n",
       "      <td>352720</td>\n",
       "      <td>0</td>\n",
       "      <td>0</td>\n",
       "      <td>0</td>\n",
       "      <td>2</td>\n",
       "      <td>2</td>\n",
       "      <td>0</td>\n",
       "      <td>0</td>\n",
       "      <td>0</td>\n",
       "      <td>0</td>\n",
       "      <td>0</td>\n",
       "      <td>0</td>\n",
       "      <td>0</td>\n",
       "      <td>4</td>\n",
       "      <td>2007</td>\n",
       "      <td>83059</td>\n",
       "    </tr>\n",
       "    <tr>\n",
       "      <th>3</th>\n",
       "      <td>CAMPOS DO JORDAO</td>\n",
       "      <td>350970</td>\n",
       "      <td>1</td>\n",
       "      <td>0</td>\n",
       "      <td>0</td>\n",
       "      <td>0</td>\n",
       "      <td>0</td>\n",
       "      <td>0</td>\n",
       "      <td>0</td>\n",
       "      <td>0</td>\n",
       "      <td>0</td>\n",
       "      <td>0</td>\n",
       "      <td>0</td>\n",
       "      <td>0</td>\n",
       "      <td>1</td>\n",
       "      <td>2007</td>\n",
       "      <td>47922</td>\n",
       "    </tr>\n",
       "    <tr>\n",
       "      <th>4</th>\n",
       "      <td>CARAGUATATUBA</td>\n",
       "      <td>351050</td>\n",
       "      <td>0</td>\n",
       "      <td>1</td>\n",
       "      <td>47</td>\n",
       "      <td>189</td>\n",
       "      <td>294</td>\n",
       "      <td>142</td>\n",
       "      <td>52</td>\n",
       "      <td>3</td>\n",
       "      <td>2</td>\n",
       "      <td>2</td>\n",
       "      <td>2</td>\n",
       "      <td>1</td>\n",
       "      <td>735</td>\n",
       "      <td>2007</td>\n",
       "      <td>96384</td>\n",
       "    </tr>\n",
       "    <tr>\n",
       "      <th>5</th>\n",
       "      <td>CRUZEIRO</td>\n",
       "      <td>351340</td>\n",
       "      <td>0</td>\n",
       "      <td>12</td>\n",
       "      <td>76</td>\n",
       "      <td>189</td>\n",
       "      <td>65</td>\n",
       "      <td>2</td>\n",
       "      <td>0</td>\n",
       "      <td>0</td>\n",
       "      <td>0</td>\n",
       "      <td>0</td>\n",
       "      <td>1</td>\n",
       "      <td>0</td>\n",
       "      <td>345</td>\n",
       "      <td>2007</td>\n",
       "      <td>78247</td>\n",
       "    </tr>\n",
       "    <tr>\n",
       "      <th>6</th>\n",
       "      <td>CUNHA</td>\n",
       "      <td>351360</td>\n",
       "      <td>0</td>\n",
       "      <td>4</td>\n",
       "      <td>0</td>\n",
       "      <td>0</td>\n",
       "      <td>0</td>\n",
       "      <td>0</td>\n",
       "      <td>0</td>\n",
       "      <td>0</td>\n",
       "      <td>0</td>\n",
       "      <td>0</td>\n",
       "      <td>0</td>\n",
       "      <td>0</td>\n",
       "      <td>4</td>\n",
       "      <td>2007</td>\n",
       "      <td>23254</td>\n",
       "    </tr>\n",
       "    <tr>\n",
       "      <th>2</th>\n",
       "      <td>CACHOEIRA PAULISTA</td>\n",
       "      <td>350860</td>\n",
       "      <td>2</td>\n",
       "      <td>1</td>\n",
       "      <td>8</td>\n",
       "      <td>8</td>\n",
       "      <td>7</td>\n",
       "      <td>0</td>\n",
       "      <td>0</td>\n",
       "      <td>3</td>\n",
       "      <td>0</td>\n",
       "      <td>1</td>\n",
       "      <td>0</td>\n",
       "      <td>0</td>\n",
       "      <td>30</td>\n",
       "      <td>2007</td>\n",
       "      <td>32077</td>\n",
       "    </tr>\n",
       "    <tr>\n",
       "      <th>8</th>\n",
       "      <td>ILHABELA</td>\n",
       "      <td>352040</td>\n",
       "      <td>0</td>\n",
       "      <td>1</td>\n",
       "      <td>1</td>\n",
       "      <td>0</td>\n",
       "      <td>2</td>\n",
       "      <td>0</td>\n",
       "      <td>1</td>\n",
       "      <td>0</td>\n",
       "      <td>0</td>\n",
       "      <td>0</td>\n",
       "      <td>0</td>\n",
       "      <td>0</td>\n",
       "      <td>5</td>\n",
       "      <td>2007</td>\n",
       "      <td>25890</td>\n",
       "    </tr>\n",
       "    <tr>\n",
       "      <th>9</th>\n",
       "      <td>JACAREI</td>\n",
       "      <td>352440</td>\n",
       "      <td>1</td>\n",
       "      <td>2</td>\n",
       "      <td>8</td>\n",
       "      <td>9</td>\n",
       "      <td>4</td>\n",
       "      <td>1</td>\n",
       "      <td>4</td>\n",
       "      <td>0</td>\n",
       "      <td>1</td>\n",
       "      <td>1</td>\n",
       "      <td>2</td>\n",
       "      <td>2</td>\n",
       "      <td>35</td>\n",
       "      <td>2007</td>\n",
       "      <td>211273</td>\n",
       "    </tr>\n",
       "    <tr>\n",
       "      <th>10</th>\n",
       "      <td>JAMBEIRO</td>\n",
       "      <td>352490</td>\n",
       "      <td>0</td>\n",
       "      <td>0</td>\n",
       "      <td>0</td>\n",
       "      <td>0</td>\n",
       "      <td>0</td>\n",
       "      <td>1</td>\n",
       "      <td>0</td>\n",
       "      <td>0</td>\n",
       "      <td>0</td>\n",
       "      <td>0</td>\n",
       "      <td>0</td>\n",
       "      <td>0</td>\n",
       "      <td>1</td>\n",
       "      <td>2007</td>\n",
       "      <td>4962</td>\n",
       "    </tr>\n",
       "    <tr>\n",
       "      <th>11</th>\n",
       "      <td>LAGOINHA</td>\n",
       "      <td>352630</td>\n",
       "      <td>0</td>\n",
       "      <td>0</td>\n",
       "      <td>1</td>\n",
       "      <td>0</td>\n",
       "      <td>0</td>\n",
       "      <td>0</td>\n",
       "      <td>0</td>\n",
       "      <td>0</td>\n",
       "      <td>0</td>\n",
       "      <td>0</td>\n",
       "      <td>0</td>\n",
       "      <td>0</td>\n",
       "      <td>1</td>\n",
       "      <td>2007</td>\n",
       "      <td>5056</td>\n",
       "    </tr>\n",
       "    <tr>\n",
       "      <th>7</th>\n",
       "      <td>GUARATINGUETA</td>\n",
       "      <td>351840</td>\n",
       "      <td>0</td>\n",
       "      <td>3</td>\n",
       "      <td>13</td>\n",
       "      <td>4</td>\n",
       "      <td>0</td>\n",
       "      <td>0</td>\n",
       "      <td>1</td>\n",
       "      <td>0</td>\n",
       "      <td>0</td>\n",
       "      <td>0</td>\n",
       "      <td>0</td>\n",
       "      <td>0</td>\n",
       "      <td>21</td>\n",
       "      <td>2007</td>\n",
       "      <td>112804</td>\n",
       "    </tr>\n",
       "    <tr>\n",
       "      <th>40</th>\n",
       "      <td>PINDAMONHANGABA</td>\n",
       "      <td>353800</td>\n",
       "      <td>0</td>\n",
       "      <td>0</td>\n",
       "      <td>0</td>\n",
       "      <td>0</td>\n",
       "      <td>0</td>\n",
       "      <td>0</td>\n",
       "      <td>1</td>\n",
       "      <td>0</td>\n",
       "      <td>0</td>\n",
       "      <td>1</td>\n",
       "      <td>0</td>\n",
       "      <td>1</td>\n",
       "      <td>3</td>\n",
       "      <td>2008</td>\n",
       "      <td>142997</td>\n",
       "    </tr>\n",
       "    <tr>\n",
       "      <th>48</th>\n",
       "      <td>TAUBATE</td>\n",
       "      <td>355410</td>\n",
       "      <td>0</td>\n",
       "      <td>1</td>\n",
       "      <td>5</td>\n",
       "      <td>12</td>\n",
       "      <td>1</td>\n",
       "      <td>4</td>\n",
       "      <td>0</td>\n",
       "      <td>0</td>\n",
       "      <td>0</td>\n",
       "      <td>0</td>\n",
       "      <td>0</td>\n",
       "      <td>0</td>\n",
       "      <td>23</td>\n",
       "      <td>2008</td>\n",
       "      <td>270918</td>\n",
       "    </tr>\n",
       "    <tr>\n",
       "      <th>47</th>\n",
       "      <td>SAO SEBASTIAO</td>\n",
       "      <td>355070</td>\n",
       "      <td>0</td>\n",
       "      <td>4</td>\n",
       "      <td>17</td>\n",
       "      <td>52</td>\n",
       "      <td>24</td>\n",
       "      <td>4</td>\n",
       "      <td>2</td>\n",
       "      <td>2</td>\n",
       "      <td>0</td>\n",
       "      <td>0</td>\n",
       "      <td>4</td>\n",
       "      <td>1</td>\n",
       "      <td>110</td>\n",
       "      <td>2008</td>\n",
       "      <td>72236</td>\n",
       "    </tr>\n",
       "    <tr>\n",
       "      <th>46</th>\n",
       "      <td>SAO JOSE DOS CAMPOS</td>\n",
       "      <td>354990</td>\n",
       "      <td>3</td>\n",
       "      <td>14</td>\n",
       "      <td>103</td>\n",
       "      <td>97</td>\n",
       "      <td>32</td>\n",
       "      <td>10</td>\n",
       "      <td>0</td>\n",
       "      <td>0</td>\n",
       "      <td>0</td>\n",
       "      <td>0</td>\n",
       "      <td>0</td>\n",
       "      <td>0</td>\n",
       "      <td>259</td>\n",
       "      <td>2008</td>\n",
       "      <td>609229</td>\n",
       "    </tr>\n",
       "    <tr>\n",
       "      <th>45</th>\n",
       "      <td>SANTO ANTONIO DO PINHAL</td>\n",
       "      <td>354820</td>\n",
       "      <td>0</td>\n",
       "      <td>0</td>\n",
       "      <td>0</td>\n",
       "      <td>1</td>\n",
       "      <td>0</td>\n",
       "      <td>0</td>\n",
       "      <td>0</td>\n",
       "      <td>0</td>\n",
       "      <td>0</td>\n",
       "      <td>0</td>\n",
       "      <td>0</td>\n",
       "      <td>0</td>\n",
       "      <td>1</td>\n",
       "      <td>2008</td>\n",
       "      <td>6849</td>\n",
       "    </tr>\n",
       "    <tr>\n",
       "      <th>44</th>\n",
       "      <td>SANTA BRANCA</td>\n",
       "      <td>354600</td>\n",
       "      <td>0</td>\n",
       "      <td>0</td>\n",
       "      <td>0</td>\n",
       "      <td>1</td>\n",
       "      <td>0</td>\n",
       "      <td>0</td>\n",
       "      <td>0</td>\n",
       "      <td>0</td>\n",
       "      <td>0</td>\n",
       "      <td>0</td>\n",
       "      <td>0</td>\n",
       "      <td>0</td>\n",
       "      <td>1</td>\n",
       "      <td>2008</td>\n",
       "      <td>13811</td>\n",
       "    </tr>\n",
       "    <tr>\n",
       "      <th>43</th>\n",
       "      <td>QUELUZ</td>\n",
       "      <td>354190</td>\n",
       "      <td>0</td>\n",
       "      <td>0</td>\n",
       "      <td>0</td>\n",
       "      <td>1</td>\n",
       "      <td>1</td>\n",
       "      <td>0</td>\n",
       "      <td>0</td>\n",
       "      <td>0</td>\n",
       "      <td>0</td>\n",
       "      <td>0</td>\n",
       "      <td>0</td>\n",
       "      <td>0</td>\n",
       "      <td>2</td>\n",
       "      <td>2008</td>\n",
       "      <td>11012</td>\n",
       "    </tr>\n",
       "    <tr>\n",
       "      <th>42</th>\n",
       "      <td>POTIM</td>\n",
       "      <td>354075</td>\n",
       "      <td>0</td>\n",
       "      <td>1</td>\n",
       "      <td>4</td>\n",
       "      <td>3</td>\n",
       "      <td>0</td>\n",
       "      <td>0</td>\n",
       "      <td>0</td>\n",
       "      <td>0</td>\n",
       "      <td>0</td>\n",
       "      <td>2</td>\n",
       "      <td>0</td>\n",
       "      <td>0</td>\n",
       "      <td>10</td>\n",
       "      <td>2008</td>\n",
       "      <td>20026</td>\n",
       "    </tr>\n",
       "    <tr>\n",
       "      <th>41</th>\n",
       "      <td>PIQUETE</td>\n",
       "      <td>353850</td>\n",
       "      <td>0</td>\n",
       "      <td>0</td>\n",
       "      <td>2</td>\n",
       "      <td>1</td>\n",
       "      <td>0</td>\n",
       "      <td>0</td>\n",
       "      <td>0</td>\n",
       "      <td>0</td>\n",
       "      <td>0</td>\n",
       "      <td>0</td>\n",
       "      <td>0</td>\n",
       "      <td>0</td>\n",
       "      <td>3</td>\n",
       "      <td>2008</td>\n",
       "      <td>14766</td>\n",
       "    </tr>\n",
       "    <tr>\n",
       "      <th>39</th>\n",
       "      <td>NATIVIDADE DA SERRA</td>\n",
       "      <td>353230</td>\n",
       "      <td>0</td>\n",
       "      <td>0</td>\n",
       "      <td>1</td>\n",
       "      <td>0</td>\n",
       "      <td>0</td>\n",
       "      <td>0</td>\n",
       "      <td>0</td>\n",
       "      <td>0</td>\n",
       "      <td>0</td>\n",
       "      <td>0</td>\n",
       "      <td>0</td>\n",
       "      <td>0</td>\n",
       "      <td>1</td>\n",
       "      <td>2008</td>\n",
       "      <td>7613</td>\n",
       "    </tr>\n",
       "    <tr>\n",
       "      <th>38</th>\n",
       "      <td>MONTEIRO LOBATO</td>\n",
       "      <td>353170</td>\n",
       "      <td>0</td>\n",
       "      <td>0</td>\n",
       "      <td>2</td>\n",
       "      <td>0</td>\n",
       "      <td>0</td>\n",
       "      <td>0</td>\n",
       "      <td>0</td>\n",
       "      <td>0</td>\n",
       "      <td>0</td>\n",
       "      <td>0</td>\n",
       "      <td>0</td>\n",
       "      <td>0</td>\n",
       "      <td>2</td>\n",
       "      <td>2008</td>\n",
       "      <td>4235</td>\n",
       "    </tr>\n",
       "    <tr>\n",
       "      <th>29</th>\n",
       "      <td>CACHOEIRA PAULISTA</td>\n",
       "      <td>350860</td>\n",
       "      <td>1</td>\n",
       "      <td>1</td>\n",
       "      <td>1</td>\n",
       "      <td>1</td>\n",
       "      <td>2</td>\n",
       "      <td>0</td>\n",
       "      <td>0</td>\n",
       "      <td>0</td>\n",
       "      <td>0</td>\n",
       "      <td>1</td>\n",
       "      <td>1</td>\n",
       "      <td>0</td>\n",
       "      <td>8</td>\n",
       "      <td>2008</td>\n",
       "      <td>33999</td>\n",
       "    </tr>\n",
       "    <tr>\n",
       "      <th>36</th>\n",
       "      <td>LAVRINHAS</td>\n",
       "      <td>352660</td>\n",
       "      <td>0</td>\n",
       "      <td>1</td>\n",
       "      <td>0</td>\n",
       "      <td>0</td>\n",
       "      <td>0</td>\n",
       "      <td>0</td>\n",
       "      <td>0</td>\n",
       "      <td>0</td>\n",
       "      <td>0</td>\n",
       "      <td>0</td>\n",
       "      <td>0</td>\n",
       "      <td>0</td>\n",
       "      <td>1</td>\n",
       "      <td>2008</td>\n",
       "      <td>6915</td>\n",
       "    </tr>\n",
       "    <tr>\n",
       "      <th>35</th>\n",
       "      <td>JAMBEIRO</td>\n",
       "      <td>352490</td>\n",
       "      <td>0</td>\n",
       "      <td>0</td>\n",
       "      <td>0</td>\n",
       "      <td>1</td>\n",
       "      <td>0</td>\n",
       "      <td>0</td>\n",
       "      <td>0</td>\n",
       "      <td>0</td>\n",
       "      <td>0</td>\n",
       "      <td>0</td>\n",
       "      <td>0</td>\n",
       "      <td>0</td>\n",
       "      <td>1</td>\n",
       "      <td>2008</td>\n",
       "      <td>5409</td>\n",
       "    </tr>\n",
       "    <tr>\n",
       "      <th>34</th>\n",
       "      <td>JACAREI</td>\n",
       "      <td>352440</td>\n",
       "      <td>2</td>\n",
       "      <td>6</td>\n",
       "      <td>14</td>\n",
       "      <td>12</td>\n",
       "      <td>4</td>\n",
       "      <td>3</td>\n",
       "      <td>0</td>\n",
       "      <td>0</td>\n",
       "      <td>0</td>\n",
       "      <td>0</td>\n",
       "      <td>0</td>\n",
       "      <td>0</td>\n",
       "      <td>41</td>\n",
       "      <td>2008</td>\n",
       "      <td>210988</td>\n",
       "    </tr>\n",
       "    <tr>\n",
       "      <th>33</th>\n",
       "      <td>ILHABELA</td>\n",
       "      <td>352040</td>\n",
       "      <td>1</td>\n",
       "      <td>0</td>\n",
       "      <td>0</td>\n",
       "      <td>4</td>\n",
       "      <td>5</td>\n",
       "      <td>0</td>\n",
       "      <td>0</td>\n",
       "      <td>0</td>\n",
       "      <td>0</td>\n",
       "      <td>0</td>\n",
       "      <td>0</td>\n",
       "      <td>0</td>\n",
       "      <td>10</td>\n",
       "      <td>2008</td>\n",
       "      <td>25550</td>\n",
       "    </tr>\n",
       "    <tr>\n",
       "      <th>32</th>\n",
       "      <td>GUARATINGUETA</td>\n",
       "      <td>351840</td>\n",
       "      <td>1</td>\n",
       "      <td>2</td>\n",
       "      <td>3</td>\n",
       "      <td>4</td>\n",
       "      <td>3</td>\n",
       "      <td>1</td>\n",
       "      <td>0</td>\n",
       "      <td>0</td>\n",
       "      <td>0</td>\n",
       "      <td>0</td>\n",
       "      <td>1</td>\n",
       "      <td>1</td>\n",
       "      <td>16</td>\n",
       "      <td>2008</td>\n",
       "      <td>112596</td>\n",
       "    </tr>\n",
       "    <tr>\n",
       "      <th>31</th>\n",
       "      <td>CRUZEIRO</td>\n",
       "      <td>351340</td>\n",
       "      <td>0</td>\n",
       "      <td>0</td>\n",
       "      <td>14</td>\n",
       "      <td>5</td>\n",
       "      <td>6</td>\n",
       "      <td>0</td>\n",
       "      <td>0</td>\n",
       "      <td>0</td>\n",
       "      <td>0</td>\n",
       "      <td>0</td>\n",
       "      <td>0</td>\n",
       "      <td>2</td>\n",
       "      <td>27</td>\n",
       "      <td>2008</td>\n",
       "      <td>79418</td>\n",
       "    </tr>\n",
       "    <tr>\n",
       "      <th>30</th>\n",
       "      <td>CARAGUATATUBA</td>\n",
       "      <td>351050</td>\n",
       "      <td>0</td>\n",
       "      <td>1</td>\n",
       "      <td>45</td>\n",
       "      <td>44</td>\n",
       "      <td>11</td>\n",
       "      <td>3</td>\n",
       "      <td>0</td>\n",
       "      <td>0</td>\n",
       "      <td>0</td>\n",
       "      <td>0</td>\n",
       "      <td>0</td>\n",
       "      <td>1</td>\n",
       "      <td>105</td>\n",
       "      <td>2008</td>\n",
       "      <td>94598</td>\n",
       "    </tr>\n",
       "    <tr>\n",
       "      <th>37</th>\n",
       "      <td>LORENA</td>\n",
       "      <td>352720</td>\n",
       "      <td>5</td>\n",
       "      <td>1</td>\n",
       "      <td>3</td>\n",
       "      <td>3</td>\n",
       "      <td>0</td>\n",
       "      <td>0</td>\n",
       "      <td>0</td>\n",
       "      <td>0</td>\n",
       "      <td>0</td>\n",
       "      <td>0</td>\n",
       "      <td>0</td>\n",
       "      <td>0</td>\n",
       "      <td>12</td>\n",
       "      <td>2008</td>\n",
       "      <td>82391</td>\n",
       "    </tr>\n",
       "    <tr>\n",
       "      <th>28</th>\n",
       "      <td>CACAPAVA</td>\n",
       "      <td>350850</td>\n",
       "      <td>0</td>\n",
       "      <td>0</td>\n",
       "      <td>0</td>\n",
       "      <td>1</td>\n",
       "      <td>0</td>\n",
       "      <td>0</td>\n",
       "      <td>0</td>\n",
       "      <td>0</td>\n",
       "      <td>0</td>\n",
       "      <td>0</td>\n",
       "      <td>0</td>\n",
       "      <td>0</td>\n",
       "      <td>1</td>\n",
       "      <td>2008</td>\n",
       "      <td>84406</td>\n",
       "    </tr>\n",
       "    <tr>\n",
       "      <th>27</th>\n",
       "      <td>APARECIDA</td>\n",
       "      <td>350250</td>\n",
       "      <td>0</td>\n",
       "      <td>1</td>\n",
       "      <td>0</td>\n",
       "      <td>1</td>\n",
       "      <td>0</td>\n",
       "      <td>0</td>\n",
       "      <td>0</td>\n",
       "      <td>0</td>\n",
       "      <td>0</td>\n",
       "      <td>0</td>\n",
       "      <td>0</td>\n",
       "      <td>0</td>\n",
       "      <td>2</td>\n",
       "      <td>2008</td>\n",
       "      <td>37405</td>\n",
       "    </tr>\n",
       "    <tr>\n",
       "      <th>58</th>\n",
       "      <td>REDENCAO DA SERRA</td>\n",
       "      <td>354230</td>\n",
       "      <td>1</td>\n",
       "      <td>0</td>\n",
       "      <td>0</td>\n",
       "      <td>0</td>\n",
       "      <td>0</td>\n",
       "      <td>0</td>\n",
       "      <td>0</td>\n",
       "      <td>0</td>\n",
       "      <td>0</td>\n",
       "      <td>0</td>\n",
       "      <td>0</td>\n",
       "      <td>0</td>\n",
       "      <td>1</td>\n",
       "      <td>2009</td>\n",
       "      <td>4245</td>\n",
       "    </tr>\n",
       "  </tbody>\n",
       "</table>\n",
       "</div>"
      ],
      "text/plain": [
       "   Município de notificação  Codigo Município  Jan  Fev  Mar  Abr  Mai  Jun  \\\n",
       "0                 APARECIDA            350250    0   13  127   41    1    0   \n",
       "26                 TREMEMBE            355480    0    0    5    0    0    0   \n",
       "25                  TAUBATE            355410   12   23   35   37   16    5   \n",
       "24            SAO SEBASTIAO            355070   11    5   37   68   79   14   \n",
       "23   SAO LUIS DO PARAITINGA            355000    0    0    0    2    1    0   \n",
       "22      SAO JOSE DOS CAMPOS            354990    8   31  115  213  159   32   \n",
       "21     SAO JOSE DO BARREIRO            354960    0    0    1    0    0    0   \n",
       "20  SANTO ANTONIO DO PINHAL            354820    0    1    1    1    0    0   \n",
       "19             SANTA BRANCA            354600    0    0    0    0    0    0   \n",
       "17                   QUELUZ            354190    0    0    0    1    5    1   \n",
       "16                    POTIM            354075    0    2   33   16    2    0   \n",
       "15          PINDAMONHANGABA            353800    2    6    6    2    0    0   \n",
       "14                PARAIBUNA            353560    0    0    0    1    0    0   \n",
       "18                  ROSEIRA            354430    0    0    1    2    0    0   \n",
       "12                LAVRINHAS            352660    1    0    1    2    0    0   \n",
       "1                  CACAPAVA            350850    0    2    5    0    1    0   \n",
       "13                   LORENA            352720    0    0    0    2    2    0   \n",
       "3          CAMPOS DO JORDAO            350970    1    0    0    0    0    0   \n",
       "4             CARAGUATATUBA            351050    0    1   47  189  294  142   \n",
       "5                  CRUZEIRO            351340    0   12   76  189   65    2   \n",
       "6                     CUNHA            351360    0    4    0    0    0    0   \n",
       "2        CACHOEIRA PAULISTA            350860    2    1    8    8    7    0   \n",
       "8                  ILHABELA            352040    0    1    1    0    2    0   \n",
       "9                   JACAREI            352440    1    2    8    9    4    1   \n",
       "10                 JAMBEIRO            352490    0    0    0    0    0    1   \n",
       "11                 LAGOINHA            352630    0    0    1    0    0    0   \n",
       "7             GUARATINGUETA            351840    0    3   13    4    0    0   \n",
       "40          PINDAMONHANGABA            353800    0    0    0    0    0    0   \n",
       "48                  TAUBATE            355410    0    1    5   12    1    4   \n",
       "47            SAO SEBASTIAO            355070    0    4   17   52   24    4   \n",
       "46      SAO JOSE DOS CAMPOS            354990    3   14  103   97   32   10   \n",
       "45  SANTO ANTONIO DO PINHAL            354820    0    0    0    1    0    0   \n",
       "44             SANTA BRANCA            354600    0    0    0    1    0    0   \n",
       "43                   QUELUZ            354190    0    0    0    1    1    0   \n",
       "42                    POTIM            354075    0    1    4    3    0    0   \n",
       "41                  PIQUETE            353850    0    0    2    1    0    0   \n",
       "39      NATIVIDADE DA SERRA            353230    0    0    1    0    0    0   \n",
       "38          MONTEIRO LOBATO            353170    0    0    2    0    0    0   \n",
       "29       CACHOEIRA PAULISTA            350860    1    1    1    1    2    0   \n",
       "36                LAVRINHAS            352660    0    1    0    0    0    0   \n",
       "35                 JAMBEIRO            352490    0    0    0    1    0    0   \n",
       "34                  JACAREI            352440    2    6   14   12    4    3   \n",
       "33                 ILHABELA            352040    1    0    0    4    5    0   \n",
       "32            GUARATINGUETA            351840    1    2    3    4    3    1   \n",
       "31                 CRUZEIRO            351340    0    0   14    5    6    0   \n",
       "30            CARAGUATATUBA            351050    0    1   45   44   11    3   \n",
       "37                   LORENA            352720    5    1    3    3    0    0   \n",
       "28                 CACAPAVA            350850    0    0    0    1    0    0   \n",
       "27                APARECIDA            350250    0    1    0    1    0    0   \n",
       "58        REDENCAO DA SERRA            354230    1    0    0    0    0    0   \n",
       "\n",
       "    Jul  Ago  Set  Out  Nov  Dez  Total   Ano  Populacao  \n",
       "0     0    0    0    0    0    0    182  2007      36767  \n",
       "26    0    0    0    0    0    0      5  2007      40391  \n",
       "25    0    0    0    1    1    1    131  2007     271289  \n",
       "24   11    1    1    5    3    5    240  2007      74061  \n",
       "23    0    0    0    0    0    0      3  2007      10838  \n",
       "22   17    8   10   16   22   27    658  2007     610097  \n",
       "21    0    0    0    0    0    0      1  2007       4379  \n",
       "20    0    0    0    0    0    0      3  2007       6948  \n",
       "19    0    0    1    0    0    0      1  2007      14410  \n",
       "17    0    0    0    0    0    0      7  2007      10580  \n",
       "16    0    0    0    0    1    0     54  2007      18240  \n",
       "15    0    0    0    0    0    1     17  2007     143367  \n",
       "14    0    0    0    0    0    0      1  2007      17718  \n",
       "18    0    0    0    0    0    0      3  2007       9883  \n",
       "12    0    0    0    0    0    0      4  2007       6954  \n",
       "1     1    0    0    0    0    0      9  2007      83990  \n",
       "13    0    0    0    0    0    0      4  2007      83059  \n",
       "3     0    0    0    0    0    0      1  2007      47922  \n",
       "4    52    3    2    2    2    1    735  2007      96384  \n",
       "5     0    0    0    0    1    0    345  2007      78247  \n",
       "6     0    0    0    0    0    0      4  2007      23254  \n",
       "2     0    3    0    1    0    0     30  2007      32077  \n",
       "8     1    0    0    0    0    0      5  2007      25890  \n",
       "9     4    0    1    1    2    2     35  2007     211273  \n",
       "10    0    0    0    0    0    0      1  2007       4962  \n",
       "11    0    0    0    0    0    0      1  2007       5056  \n",
       "7     1    0    0    0    0    0     21  2007     112804  \n",
       "40    1    0    0    1    0    1      3  2008     142997  \n",
       "48    0    0    0    0    0    0     23  2008     270918  \n",
       "47    2    2    0    0    4    1    110  2008      72236  \n",
       "46    0    0    0    0    0    0    259  2008     609229  \n",
       "45    0    0    0    0    0    0      1  2008       6849  \n",
       "44    0    0    0    0    0    0      1  2008      13811  \n",
       "43    0    0    0    0    0    0      2  2008      11012  \n",
       "42    0    0    0    2    0    0     10  2008      20026  \n",
       "41    0    0    0    0    0    0      3  2008      14766  \n",
       "39    0    0    0    0    0    0      1  2008       7613  \n",
       "38    0    0    0    0    0    0      2  2008       4235  \n",
       "29    0    0    0    1    1    0      8  2008      33999  \n",
       "36    0    0    0    0    0    0      1  2008       6915  \n",
       "35    0    0    0    0    0    0      1  2008       5409  \n",
       "34    0    0    0    0    0    0     41  2008     210988  \n",
       "33    0    0    0    0    0    0     10  2008      25550  \n",
       "32    0    0    0    0    1    1     16  2008     112596  \n",
       "31    0    0    0    0    0    2     27  2008      79418  \n",
       "30    0    0    0    0    0    1    105  2008      94598  \n",
       "37    0    0    0    0    0    0     12  2008      82391  \n",
       "28    0    0    0    0    0    0      1  2008      84406  \n",
       "27    0    0    0    0    0    0      2  2008      37405  \n",
       "58    0    0    0    0    0    0      1  2009       4245  "
      ]
     },
     "execution_count": 40,
     "metadata": {},
     "output_type": "execute_result"
    }
   ],
   "source": [
    "dados.head(50)"
   ]
  },
  {
   "cell_type": "code",
   "execution_count": 41,
   "metadata": {
    "id": "fnIJtDchgVqo"
   },
   "outputs": [],
   "source": [
    "for meses in [\"Jan\", \"Fev\", \"Mar\", \"Abr\", \"Mai\", \"Jun\", \"Jul\", \"Ago\", \"Set\", \"Out\", \"Nov\", \"Dez\"]:\n",
    "    dados[meses] = (dados[meses] / dados[\"Populacao\"]) * 100000\n",
    "    dados[meses] = dados[meses].replace([np.inf, -np.inf], np.nan)\n",
    "    dados[meses] = dados[meses].fillna(0)\n",
    "    dados[meses] = dados[meses].astype(int)"
   ]
  },
  {
   "cell_type": "code",
   "execution_count": 42,
   "metadata": {
    "colab": {
     "base_uri": "https://localhost:8080/",
     "height": 530
    },
    "id": "yVEhLqyGuwXs",
    "outputId": "9e850155-064e-4f98-b835-96f3307e9abe"
   },
   "outputs": [
    {
     "data": {
      "text/html": [
       "<div>\n",
       "<style scoped>\n",
       "    .dataframe tbody tr th:only-of-type {\n",
       "        vertical-align: middle;\n",
       "    }\n",
       "\n",
       "    .dataframe tbody tr th {\n",
       "        vertical-align: top;\n",
       "    }\n",
       "\n",
       "    .dataframe thead th {\n",
       "        text-align: right;\n",
       "    }\n",
       "</style>\n",
       "<table border=\"1\" class=\"dataframe\">\n",
       "  <thead>\n",
       "    <tr style=\"text-align: right;\">\n",
       "      <th></th>\n",
       "      <th>Município de notificação</th>\n",
       "      <th>Codigo Município</th>\n",
       "      <th>Jan</th>\n",
       "      <th>Fev</th>\n",
       "      <th>Mar</th>\n",
       "      <th>Abr</th>\n",
       "      <th>Mai</th>\n",
       "      <th>Jun</th>\n",
       "      <th>Jul</th>\n",
       "      <th>Ago</th>\n",
       "      <th>Set</th>\n",
       "      <th>Out</th>\n",
       "      <th>Nov</th>\n",
       "      <th>Dez</th>\n",
       "      <th>Total</th>\n",
       "      <th>Ano</th>\n",
       "      <th>Populacao</th>\n",
       "    </tr>\n",
       "  </thead>\n",
       "  <tbody>\n",
       "    <tr>\n",
       "      <th>0</th>\n",
       "      <td>APARECIDA</td>\n",
       "      <td>350250</td>\n",
       "      <td>0</td>\n",
       "      <td>35</td>\n",
       "      <td>345</td>\n",
       "      <td>111</td>\n",
       "      <td>2</td>\n",
       "      <td>0</td>\n",
       "      <td>0</td>\n",
       "      <td>0</td>\n",
       "      <td>0</td>\n",
       "      <td>0</td>\n",
       "      <td>0</td>\n",
       "      <td>0</td>\n",
       "      <td>182</td>\n",
       "      <td>2007</td>\n",
       "      <td>36767</td>\n",
       "    </tr>\n",
       "    <tr>\n",
       "      <th>26</th>\n",
       "      <td>TREMEMBE</td>\n",
       "      <td>355480</td>\n",
       "      <td>0</td>\n",
       "      <td>0</td>\n",
       "      <td>12</td>\n",
       "      <td>0</td>\n",
       "      <td>0</td>\n",
       "      <td>0</td>\n",
       "      <td>0</td>\n",
       "      <td>0</td>\n",
       "      <td>0</td>\n",
       "      <td>0</td>\n",
       "      <td>0</td>\n",
       "      <td>0</td>\n",
       "      <td>5</td>\n",
       "      <td>2007</td>\n",
       "      <td>40391</td>\n",
       "    </tr>\n",
       "    <tr>\n",
       "      <th>25</th>\n",
       "      <td>TAUBATE</td>\n",
       "      <td>355410</td>\n",
       "      <td>4</td>\n",
       "      <td>8</td>\n",
       "      <td>12</td>\n",
       "      <td>13</td>\n",
       "      <td>5</td>\n",
       "      <td>1</td>\n",
       "      <td>0</td>\n",
       "      <td>0</td>\n",
       "      <td>0</td>\n",
       "      <td>0</td>\n",
       "      <td>0</td>\n",
       "      <td>0</td>\n",
       "      <td>131</td>\n",
       "      <td>2007</td>\n",
       "      <td>271289</td>\n",
       "    </tr>\n",
       "    <tr>\n",
       "      <th>24</th>\n",
       "      <td>SAO SEBASTIAO</td>\n",
       "      <td>355070</td>\n",
       "      <td>14</td>\n",
       "      <td>6</td>\n",
       "      <td>49</td>\n",
       "      <td>91</td>\n",
       "      <td>106</td>\n",
       "      <td>18</td>\n",
       "      <td>14</td>\n",
       "      <td>1</td>\n",
       "      <td>1</td>\n",
       "      <td>6</td>\n",
       "      <td>4</td>\n",
       "      <td>6</td>\n",
       "      <td>240</td>\n",
       "      <td>2007</td>\n",
       "      <td>74061</td>\n",
       "    </tr>\n",
       "    <tr>\n",
       "      <th>23</th>\n",
       "      <td>SAO LUIS DO PARAITINGA</td>\n",
       "      <td>355000</td>\n",
       "      <td>0</td>\n",
       "      <td>0</td>\n",
       "      <td>0</td>\n",
       "      <td>18</td>\n",
       "      <td>9</td>\n",
       "      <td>0</td>\n",
       "      <td>0</td>\n",
       "      <td>0</td>\n",
       "      <td>0</td>\n",
       "      <td>0</td>\n",
       "      <td>0</td>\n",
       "      <td>0</td>\n",
       "      <td>3</td>\n",
       "      <td>2007</td>\n",
       "      <td>10838</td>\n",
       "    </tr>\n",
       "    <tr>\n",
       "      <th>...</th>\n",
       "      <td>...</td>\n",
       "      <td>...</td>\n",
       "      <td>...</td>\n",
       "      <td>...</td>\n",
       "      <td>...</td>\n",
       "      <td>...</td>\n",
       "      <td>...</td>\n",
       "      <td>...</td>\n",
       "      <td>...</td>\n",
       "      <td>...</td>\n",
       "      <td>...</td>\n",
       "      <td>...</td>\n",
       "      <td>...</td>\n",
       "      <td>...</td>\n",
       "      <td>...</td>\n",
       "      <td>...</td>\n",
       "      <td>...</td>\n",
       "    </tr>\n",
       "    <tr>\n",
       "      <th>553</th>\n",
       "      <td>ILHABELA</td>\n",
       "      <td>352040</td>\n",
       "      <td>117</td>\n",
       "      <td>213</td>\n",
       "      <td>434</td>\n",
       "      <td>656</td>\n",
       "      <td>645</td>\n",
       "      <td>336</td>\n",
       "      <td>106</td>\n",
       "      <td>0</td>\n",
       "      <td>0</td>\n",
       "      <td>0</td>\n",
       "      <td>0</td>\n",
       "      <td>5</td>\n",
       "      <td>920</td>\n",
       "      <td>2025</td>\n",
       "      <td>36559</td>\n",
       "    </tr>\n",
       "    <tr>\n",
       "      <th>554</th>\n",
       "      <td>JACAREI</td>\n",
       "      <td>352440</td>\n",
       "      <td>96</td>\n",
       "      <td>247</td>\n",
       "      <td>427</td>\n",
       "      <td>361</td>\n",
       "      <td>337</td>\n",
       "      <td>102</td>\n",
       "      <td>65</td>\n",
       "      <td>39</td>\n",
       "      <td>0</td>\n",
       "      <td>0</td>\n",
       "      <td>0</td>\n",
       "      <td>1</td>\n",
       "      <td>4214</td>\n",
       "      <td>2025</td>\n",
       "      <td>250952</td>\n",
       "    </tr>\n",
       "    <tr>\n",
       "      <th>555</th>\n",
       "      <td>JAMBEIRO</td>\n",
       "      <td>352490</td>\n",
       "      <td>45</td>\n",
       "      <td>136</td>\n",
       "      <td>105</td>\n",
       "      <td>166</td>\n",
       "      <td>226</td>\n",
       "      <td>45</td>\n",
       "      <td>45</td>\n",
       "      <td>15</td>\n",
       "      <td>0</td>\n",
       "      <td>0</td>\n",
       "      <td>0</td>\n",
       "      <td>0</td>\n",
       "      <td>52</td>\n",
       "      <td>2025</td>\n",
       "      <td>6611</td>\n",
       "    </tr>\n",
       "    <tr>\n",
       "      <th>547</th>\n",
       "      <td>CANAS</td>\n",
       "      <td>350995</td>\n",
       "      <td>0</td>\n",
       "      <td>39</td>\n",
       "      <td>0</td>\n",
       "      <td>0</td>\n",
       "      <td>19</td>\n",
       "      <td>0</td>\n",
       "      <td>0</td>\n",
       "      <td>0</td>\n",
       "      <td>0</td>\n",
       "      <td>0</td>\n",
       "      <td>0</td>\n",
       "      <td>0</td>\n",
       "      <td>3</td>\n",
       "      <td>2025</td>\n",
       "      <td>5068</td>\n",
       "    </tr>\n",
       "    <tr>\n",
       "      <th>577</th>\n",
       "      <td>TREMEMBE</td>\n",
       "      <td>355480</td>\n",
       "      <td>0</td>\n",
       "      <td>16</td>\n",
       "      <td>35</td>\n",
       "      <td>87</td>\n",
       "      <td>121</td>\n",
       "      <td>54</td>\n",
       "      <td>9</td>\n",
       "      <td>11</td>\n",
       "      <td>0</td>\n",
       "      <td>0</td>\n",
       "      <td>0</td>\n",
       "      <td>0</td>\n",
       "      <td>180</td>\n",
       "      <td>2025</td>\n",
       "      <td>53426</td>\n",
       "    </tr>\n",
       "  </tbody>\n",
       "</table>\n",
       "<p>578 rows × 17 columns</p>\n",
       "</div>"
      ],
      "text/plain": [
       "    Município de notificação  Codigo Município  Jan  Fev  Mar  Abr  Mai  Jun  \\\n",
       "0                  APARECIDA            350250    0   35  345  111    2    0   \n",
       "26                  TREMEMBE            355480    0    0   12    0    0    0   \n",
       "25                   TAUBATE            355410    4    8   12   13    5    1   \n",
       "24             SAO SEBASTIAO            355070   14    6   49   91  106   18   \n",
       "23    SAO LUIS DO PARAITINGA            355000    0    0    0   18    9    0   \n",
       "..                       ...               ...  ...  ...  ...  ...  ...  ...   \n",
       "553                 ILHABELA            352040  117  213  434  656  645  336   \n",
       "554                  JACAREI            352440   96  247  427  361  337  102   \n",
       "555                 JAMBEIRO            352490   45  136  105  166  226   45   \n",
       "547                    CANAS            350995    0   39    0    0   19    0   \n",
       "577                 TREMEMBE            355480    0   16   35   87  121   54   \n",
       "\n",
       "     Jul  Ago  Set  Out  Nov  Dez  Total   Ano  Populacao  \n",
       "0      0    0    0    0    0    0    182  2007      36767  \n",
       "26     0    0    0    0    0    0      5  2007      40391  \n",
       "25     0    0    0    0    0    0    131  2007     271289  \n",
       "24    14    1    1    6    4    6    240  2007      74061  \n",
       "23     0    0    0    0    0    0      3  2007      10838  \n",
       "..   ...  ...  ...  ...  ...  ...    ...   ...        ...  \n",
       "553  106    0    0    0    0    5    920  2025      36559  \n",
       "554   65   39    0    0    0    1   4214  2025     250952  \n",
       "555   45   15    0    0    0    0     52  2025       6611  \n",
       "547    0    0    0    0    0    0      3  2025       5068  \n",
       "577    9   11    0    0    0    0    180  2025      53426  \n",
       "\n",
       "[578 rows x 17 columns]"
      ]
     },
     "execution_count": 42,
     "metadata": {},
     "output_type": "execute_result"
    }
   ],
   "source": [
    "dados"
   ]
  },
  {
   "cell_type": "code",
   "execution_count": 43,
   "metadata": {
    "id": "ni2dIQv-1KMG"
   },
   "outputs": [],
   "source": [
    "month_columns = [\"Jan\", \"Fev\", \"Mar\", \"Abr\", \"Mai\", \"Jun\", \"Jul\", \"Ago\", \"Set\", \"Out\", \"Nov\", \"Dez\"]\n",
    "dados[\"Total\"] = dados[month_columns].sum(axis=1)\n",
    "dados.reset_index(drop=True, inplace=True)"
   ]
  },
  {
   "cell_type": "code",
   "execution_count": 44,
   "metadata": {
    "id": "qgeAj4j315CS"
   },
   "outputs": [],
   "source": [
    "dados.reset_index(drop=True, inplace=True)"
   ]
  },
  {
   "cell_type": "code",
   "execution_count": 45,
   "metadata": {
    "id": "_kSY17asTEYk"
   },
   "outputs": [],
   "source": [
    "dados_incidencia_mensal = dados.copy()\n",
    "dados_incidencia_mensal.to_csv(\"../data/dados_incidencia_mensal.csv\", index=False)"
   ]
  },
  {
   "cell_type": "code",
   "execution_count": 46,
   "metadata": {
    "colab": {
     "base_uri": "https://localhost:8080/",
     "height": 275
    },
    "id": "kV0CueKaQjr0",
    "outputId": "2a3d3bc1-3bb9-424a-a4b2-9beb8e473154"
   },
   "outputs": [
    {
     "data": {
      "text/html": [
       "<div>\n",
       "<style scoped>\n",
       "    .dataframe tbody tr th:only-of-type {\n",
       "        vertical-align: middle;\n",
       "    }\n",
       "\n",
       "    .dataframe tbody tr th {\n",
       "        vertical-align: top;\n",
       "    }\n",
       "\n",
       "    .dataframe thead th {\n",
       "        text-align: right;\n",
       "    }\n",
       "</style>\n",
       "<table border=\"1\" class=\"dataframe\">\n",
       "  <thead>\n",
       "    <tr style=\"text-align: right;\">\n",
       "      <th></th>\n",
       "      <th>Município de notificação</th>\n",
       "      <th>Codigo Município</th>\n",
       "      <th>Jan</th>\n",
       "      <th>Fev</th>\n",
       "      <th>Mar</th>\n",
       "      <th>Abr</th>\n",
       "      <th>Mai</th>\n",
       "      <th>Jun</th>\n",
       "      <th>Jul</th>\n",
       "      <th>Ago</th>\n",
       "      <th>Set</th>\n",
       "      <th>Out</th>\n",
       "      <th>Nov</th>\n",
       "      <th>Dez</th>\n",
       "      <th>Total</th>\n",
       "      <th>Ano</th>\n",
       "      <th>Populacao</th>\n",
       "    </tr>\n",
       "  </thead>\n",
       "  <tbody>\n",
       "    <tr>\n",
       "      <th>0</th>\n",
       "      <td>APARECIDA</td>\n",
       "      <td>350250</td>\n",
       "      <td>0</td>\n",
       "      <td>35</td>\n",
       "      <td>345</td>\n",
       "      <td>111</td>\n",
       "      <td>2</td>\n",
       "      <td>0</td>\n",
       "      <td>0</td>\n",
       "      <td>0</td>\n",
       "      <td>0</td>\n",
       "      <td>0</td>\n",
       "      <td>0</td>\n",
       "      <td>0</td>\n",
       "      <td>493</td>\n",
       "      <td>2007</td>\n",
       "      <td>36767</td>\n",
       "    </tr>\n",
       "    <tr>\n",
       "      <th>1</th>\n",
       "      <td>TREMEMBE</td>\n",
       "      <td>355480</td>\n",
       "      <td>0</td>\n",
       "      <td>0</td>\n",
       "      <td>12</td>\n",
       "      <td>0</td>\n",
       "      <td>0</td>\n",
       "      <td>0</td>\n",
       "      <td>0</td>\n",
       "      <td>0</td>\n",
       "      <td>0</td>\n",
       "      <td>0</td>\n",
       "      <td>0</td>\n",
       "      <td>0</td>\n",
       "      <td>12</td>\n",
       "      <td>2007</td>\n",
       "      <td>40391</td>\n",
       "    </tr>\n",
       "    <tr>\n",
       "      <th>2</th>\n",
       "      <td>TAUBATE</td>\n",
       "      <td>355410</td>\n",
       "      <td>4</td>\n",
       "      <td>8</td>\n",
       "      <td>12</td>\n",
       "      <td>13</td>\n",
       "      <td>5</td>\n",
       "      <td>1</td>\n",
       "      <td>0</td>\n",
       "      <td>0</td>\n",
       "      <td>0</td>\n",
       "      <td>0</td>\n",
       "      <td>0</td>\n",
       "      <td>0</td>\n",
       "      <td>43</td>\n",
       "      <td>2007</td>\n",
       "      <td>271289</td>\n",
       "    </tr>\n",
       "    <tr>\n",
       "      <th>3</th>\n",
       "      <td>SAO SEBASTIAO</td>\n",
       "      <td>355070</td>\n",
       "      <td>14</td>\n",
       "      <td>6</td>\n",
       "      <td>49</td>\n",
       "      <td>91</td>\n",
       "      <td>106</td>\n",
       "      <td>18</td>\n",
       "      <td>14</td>\n",
       "      <td>1</td>\n",
       "      <td>1</td>\n",
       "      <td>6</td>\n",
       "      <td>4</td>\n",
       "      <td>6</td>\n",
       "      <td>316</td>\n",
       "      <td>2007</td>\n",
       "      <td>74061</td>\n",
       "    </tr>\n",
       "    <tr>\n",
       "      <th>4</th>\n",
       "      <td>SAO LUIS DO PARAITINGA</td>\n",
       "      <td>355000</td>\n",
       "      <td>0</td>\n",
       "      <td>0</td>\n",
       "      <td>0</td>\n",
       "      <td>18</td>\n",
       "      <td>9</td>\n",
       "      <td>0</td>\n",
       "      <td>0</td>\n",
       "      <td>0</td>\n",
       "      <td>0</td>\n",
       "      <td>0</td>\n",
       "      <td>0</td>\n",
       "      <td>0</td>\n",
       "      <td>27</td>\n",
       "      <td>2007</td>\n",
       "      <td>10838</td>\n",
       "    </tr>\n",
       "  </tbody>\n",
       "</table>\n",
       "</div>"
      ],
      "text/plain": [
       "  Município de notificação  Codigo Município  Jan  Fev  Mar  Abr  Mai  Jun  \\\n",
       "0                APARECIDA            350250    0   35  345  111    2    0   \n",
       "1                 TREMEMBE            355480    0    0   12    0    0    0   \n",
       "2                  TAUBATE            355410    4    8   12   13    5    1   \n",
       "3            SAO SEBASTIAO            355070   14    6   49   91  106   18   \n",
       "4   SAO LUIS DO PARAITINGA            355000    0    0    0   18    9    0   \n",
       "\n",
       "   Jul  Ago  Set  Out  Nov  Dez  Total   Ano  Populacao  \n",
       "0    0    0    0    0    0    0    493  2007      36767  \n",
       "1    0    0    0    0    0    0     12  2007      40391  \n",
       "2    0    0    0    0    0    0     43  2007     271289  \n",
       "3   14    1    1    6    4    6    316  2007      74061  \n",
       "4    0    0    0    0    0    0     27  2007      10838  "
      ]
     },
     "execution_count": 46,
     "metadata": {},
     "output_type": "execute_result"
    }
   ],
   "source": [
    "dados.head(5)"
   ]
  },
  {
   "cell_type": "code",
   "execution_count": 47,
   "metadata": {
    "colab": {
     "base_uri": "https://localhost:8080/",
     "height": 542
    },
    "id": "3594a214",
    "outputId": "04acc89b-ac31-44d9-941e-b012d4a82e5d"
   },
   "outputs": [
    {
     "data": {
      "application/vnd.plotly.v1+json": {
       "config": {
        "plotlyServerURL": "https://plot.ly"
       },
       "data": [
        {
         "hovertemplate": "Município de notificação=APARECIDA<br>Ano=%{x}<br>Incidência Mensal=%{y}<extra></extra>",
         "legendgroup": "APARECIDA",
         "line": {
          "color": "#636efa",
          "dash": "solid"
         },
         "marker": {
          "symbol": "circle"
         },
         "mode": "lines",
         "name": "APARECIDA",
         "showlegend": true,
         "type": "scattergl",
         "x": {
          "bdata": "1wfYB9oH2wfcB90H3gffB+AH4QfiB+MH5AflB+YH5wfoB+kH1wfYB9oH2wfcB90H3gffB+AH4QfiB+MH5AflB+YH5wfoB+kH1wfYB9oH2wfcB90H3gffB+AH4QfiB+MH5AflB+YH5wfoB+kH1wfYB9oH2wfcB90H3gffB+AH4QfiB+MH5AflB+YH5wfoB+kH1wfYB9oH2wfcB90H3gffB+AH4QfiB+MH5AflB+YH5wfoB+kH1wfYB9oH2wfcB90H3gffB+AH4QfiB+MH5AflB+YH5wfoB+kH1wfYB9oH2wfcB90H3gffB+AH4QfiB+MH5AflB+YH5wfoB+kH1wfYB9oH2wfcB90H3gffB+AH4QfiB+MH5AflB+YH5wfoB+kH1wfYB9oH2wfcB90H3gffB+AH4QfiB+MH5AflB+YH5wfoB+kH1wfYB9oH2wfcB90H3gffB+AH4QfiB+MH5AflB+YH5wfoB+kH1wfYB9oH2wfcB90H3gffB+AH4QfiB+MH5AflB+YH5wfoB+kH1wfYB9oH2wfcB90H3gffB+AH4QfiB+MH5AflB+YH5wfoB+kH",
          "dtype": "i2"
         },
         "xaxis": "x",
         "y": {
          "bdata": "AAAAAAAAAABHAAgACwACAAAAAAAAAAAAVAICAAAADQAzACcAIwACAAIACAAUAQUABQA3AAUAAAAFAAAA4QICAAAAkgCTATwAWQEAAAUADgCZAhsAGAB5AxMAAgAAACYAJAECAAAASAFKAjwAbwACAAAAEwCfABgAPwDNBR4AAAACACwARQAAABYAxAApA0gAAgAAAA0AMAA+AAUAbgCXAyMAAgAAAEUAIwAAADEAYwCxAloAAAAAAAIAAgARAAUALADGAAIAAAAAAAsAGwAFAA0AEACHABUAAAAAAAAAAAAAAAUAHgAQAAAAAAAAAAAACAACAAIAAAAtAAMAAAAAAAAAAAAAAAAACAAAAAAAAAAAAAsAAgACAAAAAgADAAMAAAAAAAAAAAAAAAAABQAFAAAAAgAAAAIAAAAAAAAAAAAAAAAAAAAAAAAACwAAAAUAAAAAAAAAAAAAAAIACAAFAAIAAgAGAAAAAAAAAAAADgAAAAIACwACAAAAAgAAAIEAAgAAAAIAAAAGAAAAAAAAAAAABQACAAAABQAQAAAAAAAAAJgAJgAIAAsAAgADAAAA",
          "dtype": "i2"
         },
         "yaxis": "y"
        },
        {
         "hovertemplate": "Município de notificação=TREMEMBE<br>Ano=%{x}<br>Incidência Mensal=%{y}<extra></extra>",
         "legendgroup": "TREMEMBE",
         "line": {
          "color": "#EF553B",
          "dash": "solid"
         },
         "marker": {
          "symbol": "circle"
         },
         "mode": "lines",
         "name": "TREMEMBE",
         "showlegend": true,
         "type": "scattergl",
         "x": {
          "bdata": "1wfaB9sH3AfdB94H3wfgB+EH4gfjB+QH5QfmB+cH6AfpB9cH2gfbB9wH3QfeB98H4AfhB+IH4wfkB+UH5gfnB+gH6QfXB9oH2wfcB90H3gffB+AH4QfiB+MH5AflB+YH5wfoB+kH1wfaB9sH3AfdB94H3wfgB+EH4gfjB+QH5QfmB+cH6AfpB9cH2gfbB9wH3QfeB98H4AfhB+IH4wfkB+UH5gfnB+gH6QfXB9oH2wfcB90H3gffB+AH4QfiB+MH5AflB+YH5wfoB+kH1wfaB9sH3AfdB94H3wfgB+EH4gfjB+QH5QfmB+cH6AfpB9cH2gfbB9wH3QfeB98H4AfhB+IH4wfkB+UH5gfnB+gH6QfXB9oH2wfcB90H3gffB+AH4QfiB+MH5AflB+YH5wfoB+kH1wfaB9sH3AfdB94H3wfgB+EH4gfjB+QH5QfmB+cH6AfpB9cH2gfbB9wH3QfeB98H4AfhB+IH4wfkB+UH5gfnB+gH6QfXB9oH2wfcB90H3gffB+AH4QfiB+MH5AflB+YH5wfoB+kH",
          "dtype": "i2"
         },
         "xaxis": "x",
         "y": {
          "bdata": "AAAAAAwABAAAABsABgC9AAAAAAAAAAAAAgAAABAAlwIAAAAAAgAcAAQADQCNAA8A0QAAAAAAAAACAAIAAAA3AOoFEAAMACsAGAAOABsAywF8ABwBAAAAAAQAFAAMAAwAlwD/BCMAAACpAEgAAgAyAEUCogDiAAAABAAEACUAKQCuAGUAIANXAAAArgBiAAIAGwBdAWEASgAAAAIAEwAwAAYArAA8AH4BeQAAAAcABAAAAAAAYwAcAAsAAAACAAYADAAIAAIALQCLADYAAAAAAAAABwACABsAAAAEAAAAAAACAAYAAAAEABQAHgAJAAAAAAACAAAAAAAAAAYAAgAAAAAAAgAAAAAAAgAGABoACwAAAAAAAAAAAAAAAAAPAAAAAAAAAAAAAgAAAAAABAABAAAAAAAAAAAAAAAAAAQAEQAAAAAAAAAAAAAAAAAAABAABwAAAAAAAAACAAAAAAACAA8AAAAEAAAAAAAAAAAABAApAAMAAAAAAAIADAAEAAAAAgBAAAYAAAAAAAAAAAAAAAYAigAYAAAA",
          "dtype": "i2"
         },
         "yaxis": "y"
        },
        {
         "hovertemplate": "Município de notificação=TAUBATE<br>Ano=%{x}<br>Incidência Mensal=%{y}<extra></extra>",
         "legendgroup": "TAUBATE",
         "line": {
          "color": "#00cc96",
          "dash": "solid"
         },
         "marker": {
          "symbol": "circle"
         },
         "mode": "lines",
         "name": "TAUBATE",
         "showlegend": true,
         "type": "scattergl",
         "x": {
          "bdata": "1wfYB9kH2gfbB9wH3QfeB98H4AfhB+IH4wfkB+UH5gfnB+gH6QfXB9gH2QfaB9sH3AfdB94H3wfgB+EH4gfjB+QH5QfmB+cH6AfpB9cH2AfZB9oH2wfcB90H3gffB+AH4QfiB+MH5AflB+YH5wfoB+kH1wfYB9kH2gfbB9wH3QfeB98H4AfhB+IH4wfkB+UH5gfnB+gH6QfXB9gH2QfaB9sH3AfdB94H3wfgB+EH4gfjB+QH5QfmB+cH6AfpB9cH2AfZB9oH2wfcB90H3gffB+AH4QfiB+MH5AflB+YH5wfoB+kH1wfYB9kH2gfbB9wH3QfeB98H4AfhB+IH4wfkB+UH5gfnB+gH6QfXB9gH2QfaB9sH3AfdB94H3wfgB+EH4gfjB+QH5QfmB+cH6AfpB9cH2AfZB9oH2wfcB90H3gffB+AH4QfiB+MH5AflB+YH5wfoB+kH1wfYB9kH2gfbB9wH3QfeB98H4AfhB+IH4wfkB+UH5gfnB+gH6QfXB9gH2QfaB9sH3AfdB94H3wfgB+EH4gfjB+QH5QfmB+cH6AfpB9cH2AfZB9oH2wfcB90H3gffB+AH4QfiB+MH5AflB+YH5wfoB+kH",
          "dtype": "i2"
         },
         "xaxis": "x",
         "y": {
          "bdata": "BAAAAAAABQAiAAIACQAtABYAeAADAAIAAwAnAAEAAQALALMBEQAIAAAAAAA2AL0ABAATAMoAIwCkAAUABAAFAIwABwAEABkA/wUqAAwAAQACANcByAEGAEEAXgKvAIQBBgAFAAgAygAUADAAUgAKDKYADQAEAAAAiwLnAQMARgD6BD0BOAEDAAIAEwDGAB0AkwCVABUJhAEFAAAAAAD1AFkBCAAYAGkDxQBrAAMAAAAlAGcAEADDAIgAGQUdAQEAAQAAACsANAADAAsADQFAABUAAQABABAAHAAFADYALQB8AW8AAAAAAAAADgAKAAAAAQArAAcACgABAAQACwAIAAAAEwALAB0AIAAAAAAAAAAJAAQAAQABAAUAAQAAAAAAAQAFAAUAAAADAAgADAAIAAAAAAAAAAYABAAAAAEABgACAAAAAwABAAQABQAAAAIACwAIAAAAAAAAAAAABQACAAEAAAAKAAYAAgACAAEABgACAAAABAAJAAcAAAAAAAAAAAAGAAMAAgACAAkAEgADAAIAAgAEAAIAAQABABcACAAAAAAAAAABABAABgABAAUACAAlAAcAAwAEAAkABQAAAAMALgAPAAEA",
          "dtype": "i2"
         },
         "yaxis": "y"
        },
        {
         "hovertemplate": "Município de notificação=SAO SEBASTIAO<br>Ano=%{x}<br>Incidência Mensal=%{y}<extra></extra>",
         "legendgroup": "SAO SEBASTIAO",
         "line": {
          "color": "#ab63fa",
          "dash": "solid"
         },
         "marker": {
          "symbol": "circle"
         },
         "mode": "lines",
         "name": "SAO SEBASTIAO",
         "showlegend": true,
         "type": "scattergl",
         "x": {
          "bdata": "1wfYB9kH2gfbB9wH3QfeB98H4AfhB+IH4wfkB+UH5gfnB+gH6QfXB9gH2QfaB9sH3AfdB94H3wfgB+EH4gfjB+QH5QfmB+cH6AfpB9cH2AfZB9oH2wfcB90H3gffB+AH4QfiB+MH5AflB+YH5wfoB+kH1wfYB9kH2gfbB9wH3QfeB98H4AfhB+IH4wfkB+UH5gfnB+gH6QfXB9gH2QfaB9sH3AfdB94H3wfgB+EH4gfjB+QH5QfmB+cH6AfpB9cH2AfZB9oH2wfcB90H3gffB+AH4QfiB+MH5AflB+YH5wfoB+kH1wfYB9kH2gfbB9wH3QfeB98H4AfhB+IH4wfkB+UH5gfnB+gH6QfXB9gH2QfaB9sH3AfdB94H3wfgB+EH4gfjB+QH5QfmB+cH6AfpB9cH2AfZB9oH2wfcB90H3gffB+AH4QfiB+MH5AflB+YH5wfoB+kH1wfYB9kH2gfbB9wH3QfeB98H4AfhB+IH4wfkB+UH5gfnB+gH6QfXB9gH2QfaB9sH3AfdB94H3wfgB+EH4gfjB+QH5QfmB+cH6AfpB9cH2AfZB9oH2wfcB90H3gffB+AH4QfiB+MH5AflB+YH5wfoB+kH",
          "dtype": "i2"
         },
         "xaxis": "x",
         "y": {
          "bdata": "DgAAAAUAFAAVAAsAHAASAD0ABQABAAIADQAdAEwAJAAcAHcATgAGAAUAFAB6ABcABQBqACMAVwEPAAIABABVACsAKAAhABMABALTADEAFwAyAIcBSwAFAM8AUQEzChAAAgAHAJUAJABRAPIAZABnBXwBWwBHACgAlgPkAA4AUwHmAqAJDgAEAA8A/AAwAFcAcwEUAbQHbgFqACEAGwDIAtcAEQAfASMD/wIQAAEADACdAkEAUADzADEBkAasARIABQAKALYAOgASAIAAzQBrAAgAAgADAHUBMAA0AH8AXgA2ArMADgACAAIAOQANAAsAOQD+AAcAAAABAAkAmAA8ABkAIgAsAK4AKQABAAIAAABAAA0ADgAQAIcAAQAAAAAAAwA3ACMACgAKAA0AIwAFAAEAAAAAADQAAgARAAIAIgAAAAEAAgAAAB4ADQACAAcADAAKAAAABgAAAAAAOAAKABEABwAJAAEABAAAAAQAKQAOAAcAIgAHAAgAAAAEAAUAAAAcAAoACwACAA8ABgAFAAAAGwBOABkABQAZAAUACAAAAAYAAQAEAEEADgAGAAIAJwAAAAIABQAdAFMAFQAIAAYAFgAJAAUA",
          "dtype": "i2"
         },
         "yaxis": "y"
        },
        {
         "hovertemplate": "Município de notificação=SAO LUIS DO PARAITINGA<br>Ano=%{x}<br>Incidência Mensal=%{y}<extra></extra>",
         "legendgroup": "SAO LUIS DO PARAITINGA",
         "line": {
          "color": "#FFA15A",
          "dash": "solid"
         },
         "marker": {
          "symbol": "circle"
         },
         "mode": "lines",
         "name": "SAO LUIS DO PARAITINGA",
         "showlegend": true,
         "type": "scattergl",
         "x": {
          "bdata": "1wfZB9sH3AfdB94H3wfgB+MH5AfmB+gH6QfXB9kH2wfcB90H3gffB+AH4wfkB+YH6AfpB9cH2QfbB9wH3QfeB98H4AfjB+QH5gfoB+kH1wfZB9sH3AfdB94H3wfgB+MH5AfmB+gH6QfXB9kH2wfcB90H3gffB+AH4wfkB+YH6AfpB9cH2QfbB9wH3QfeB98H4AfjB+QH5gfoB+kH1wfZB9sH3AfdB94H3wfgB+MH5AfmB+gH6QfXB9kH2wfcB90H3gffB+AH4wfkB+YH6AfpB9cH2QfbB9wH3QfeB98H4AfjB+QH5gfoB+kH1wfZB9sH3AfdB94H3wfgB+MH5AfmB+gH6QfXB9kH2wfcB90H3gffB+AH4wfkB+YH6AfpB9cH2QfbB9wH3QfeB98H4AfjB+QH5gfoB+kH",
          "dtype": "i2"
         },
         "xaxis": "x",
         "y": {
          "bdata": "AAAAAAAACQAAAAAACQAAAAAAAAAAABwAAAAAAAAAAAAAAAAAAAAJABsAAAAJAAAAoQATAAAAAAAcAAAAAAAlAC4AEgAJAAAACQCqBwAAEgAAABwACQAJAIIASgAAAAAAAAAJAAQTLwAJAAkACQAAABIACQAlABsAVAAAABwApQMAAAAAAAAJAAAAAAAlAAAAAAAJAAAAAAAAAAkAAAAAAAAAAAAAAAAAAAAAAAkAAAAAAAkAAAAAAAAAAAAAAAAAAAAAAAAAAAAAAAAAAAAAAAAAAAAAAAAAAAAAAAkAAAAAAAAAAAAAAAAAAAAAAAkAAAAAAAAAAAAAAAAAAAAAAAAAAAAAAAAAAAAJAAkAAAAAAAAAAAAAAAAAAAAAAAAAAAAAAAAACQAAABsAAAAAAAAAAAAAAAAA",
          "dtype": "i2"
         },
         "yaxis": "y"
        },
        {
         "hovertemplate": "Município de notificação=SAO JOSE DOS CAMPOS<br>Ano=%{x}<br>Incidência Mensal=%{y}<extra></extra>",
         "legendgroup": "SAO JOSE DOS CAMPOS",
         "line": {
          "color": "#19d3f3",
          "dash": "solid"
         },
         "marker": {
          "symbol": "circle"
         },
         "mode": "lines",
         "name": "SAO JOSE DOS CAMPOS",
         "showlegend": true,
         "type": "scattergl",
         "x": {
          "bdata": "1wfYB9kH2gfbB9wH3QfeB98H4AfhB+IH4wfkB+UH5gfnB+gH6QfXB9gH2QfaB9sH3AfdB94H3wfgB+EH4gfjB+QH5QfmB+cH6AfpB9cH2AfZB9oH2wfcB90H3gffB+AH4QfiB+MH5AflB+YH5wfoB+kH1wfYB9kH2gfbB9wH3QfeB98H4AfhB+IH4wfkB+UH5gfnB+gH6QfXB9gH2QfaB9sH3AfdB94H3wfgB+EH4gfjB+QH5QfmB+cH6AfpB9cH2AfZB9oH2wfcB90H3gffB+AH4QfiB+MH5AflB+YH5wfoB+kH1wfYB9kH2gfbB9wH3QfeB98H4AfhB+IH4wfkB+UH5gfnB+gH6QfXB9gH2QfaB9sH3AfdB94H3wfgB+EH4gfjB+QH5QfmB+cH6AfpB9cH2AfZB9oH2wfcB90H3gffB+AH4QfiB+MH5AflB+YH5wfoB+kH1wfYB9kH2gfbB9wH3QfeB98H4AfhB+IH4wfkB+UH5gfnB+gH6QfXB9gH2QfaB9sH3AfdB94H3wfgB+EH4gfjB+QH5QfmB+cH6AfpB9cH2AfZB9oH2wfcB90H3gffB+AH4QfiB+MH5AflB+YH5wfoB+kH",
          "dtype": "i2"
         },
         "xaxis": "x",
         "y": {
          "bdata": "AQAAAAAAAwATAAAACQAFAB4AHwAGAAYABQAEAAMAAwAGAJ4AMQAFAAIAAAAHACAABAAPAAYAegAyAAsABwAGAAkABgAHAAwAvANVABIAEAAAABcATAAEACsADwBDAkAACgAGAAsAEwASACQAJQB4DsYAIgAPAAAAQACrAAQAIQAsABsDRQALAAMAFAAQACAAagAnAE8StQAaAAUAAQAwAE8ABAAOACQAGQISAAgAAQAgAAkADwBJAB8AnguWAAUAAQAAAAoADAABAAUAEwBUAAQAAwABAA8AAwAGABQACgBUBDYAAgAAAAAAAgABAAEAAQAHAAcABAABAAAACQABAAIACQAEADIBQgABAAAAAAAAAAAAAAACAAQAAwACAAIAAAAEAAAAAQAFAAIACgA5AAEAAAAAAAAAAAAAAAMABQADAAIAAQAAAAEAAgACAAYAAwAKAAAAAgAAAAAAAAAAAAEAAQAEAAUABAACAAEAAwAAAAIABAAEAAoAAAADAAAAAAADAAAAAAAAAAUACgAJAAMAAQAEAAEAAwAFAAMACwAAAAQAAAAAAAEAAAABAAMAAwASAAkABgACAAIAAQABAAMADQALAAEA",
          "dtype": "i2"
         },
         "yaxis": "y"
        },
        {
         "hovertemplate": "Município de notificação=SAO JOSE DO BARREIRO<br>Ano=%{x}<br>Incidência Mensal=%{y}<extra></extra>",
         "legendgroup": "SAO JOSE DO BARREIRO",
         "line": {
          "color": "#FF6692",
          "dash": "solid"
         },
         "marker": {
          "symbol": "circle"
         },
         "mode": "lines",
         "name": "SAO JOSE DO BARREIRO",
         "showlegend": true,
         "type": "scattergl",
         "x": {
          "bdata": "1wfdB94H3wfiB+MH5AfnB+gH6QfXB90H3gffB+IH4wfkB+cH6AfpB9cH3QfeB98H4gfjB+QH5wfoB+kH1wfdB94H3wfiB+MH5AfnB+gH6QfXB90H3gffB+IH4wfkB+cH6AfpB9cH3QfeB98H4gfjB+QH5wfoB+kH1wfdB94H3wfiB+MH5AfnB+gH6QfXB90H3gffB+IH4wfkB+cH6AfpB9cH3QfeB98H4gfjB+QH5wfoB+kH1wfdB94H3wfiB+MH5AfnB+gH6QfXB90H3gffB+IH4wfkB+cH6AfpB9cH3QfeB98H4gfjB+QH5wfoB+kH",
          "dtype": "i2"
         },
         "xaxis": "x",
         "y": {
          "bdata": "AAAAAAAAvwAAAAAAAAAAAGYAAAAAAAAAAACuARgAAAAAAAAAAQMAABYALwAAAHQDAAAAAAAAAAC2BRkAAAAAAAAATgEAAAAAYAAAAGkGAAAAAAAAFwBfAAAAAAAYABgAmwIAAAAAAABfAEcAAAAYAAAAAADmAAAAAAAAAKcAAAAAAAAAAAAAAAAAAAAAAAAAFwAAAAAAAAAAAAAAAAAAAAAAAAAXAAAAAAAAAAAAAAAAAAAAAAAAAAAAFwAAAAAAAAAAADMAAAAAAAAAAAAAAAAAAAAAAAAAAAAAAAAAFwAAAAAAAAAAAAAAAAAAAAAA",
          "dtype": "i2"
         },
         "yaxis": "y"
        },
        {
         "hovertemplate": "Município de notificação=SANTO ANTONIO DO PINHAL<br>Ano=%{x}<br>Incidência Mensal=%{y}<extra></extra>",
         "legendgroup": "SANTO ANTONIO DO PINHAL",
         "line": {
          "color": "#B6E880",
          "dash": "solid"
         },
         "marker": {
          "symbol": "circle"
         },
         "mode": "lines",
         "name": "SANTO ANTONIO DO PINHAL",
         "showlegend": true,
         "type": "scattergl",
         "x": {
          "bdata": "1wfYB94H3wfgB+IH4wfkB+UH5gfnB+gH6QfXB9gH3gffB+AH4gfjB+QH5QfmB+cH6AfpB9cH2AfeB98H4AfiB+MH5AflB+YH5wfoB+kH1wfYB94H3wfgB+IH4wfkB+UH5gfnB+gH6QfXB9gH3gffB+AH4gfjB+QH5QfmB+cH6AfpB9cH2AfeB98H4AfiB+MH5AflB+YH5wfoB+kH1wfYB94H3wfgB+IH4wfkB+UH5gfnB+gH6QfXB9gH3gffB+AH4gfjB+QH5QfmB+cH6AfpB9cH2AfeB98H4AfiB+MH5AflB+YH5wfoB+kH1wfYB94H3wfgB+IH4wfkB+UH5gfnB+gH6QfXB9gH3gffB+AH4gfjB+QH5QfmB+cH6AfpB9cH2AfeB98H4AfiB+MH5AflB+YH5wfoB+kH",
          "dtype": "i2"
         },
         "xaxis": "x",
         "y": {
          "bdata": "AAAAAAAAAAAOAAAAAAAOAAAAAAAAAAAAAAAOAAAAAAAdAB0AAAAAAAAAAAAAAAAARAAAAA4AAAAAAAAAAAAAAAAAAAAAAAAAAAB/ARsADgAOAA4AHQAAAAAAAAAAAA4AAAAOAC0BDQAAAAAAAAAsAAAAAAAAAAAAAAAAAAAAvwANAAAAAAAAAA4AAAAAAA4AAAAAAA4AAABfAAAAAAAAAAAAAAAAAAAAAAAAAA4AAAAAADYAAAAAAAAAAAAAAAAAAAAAAAAAAAAAAAAAAAAAAAAAAAAAAAAAAAAAAA4AAAAAAAAAAAAAAAAAAAAAAAAAAAAAAAAAAAAAAAAAAAAAAAAAAAAAAAAAAAAAAAAAAAAAAAAAAAAAAA4AAAAAAAAAAAAAAAAAAAAOAAAAAAAAAAAAAAAAAAAA",
          "dtype": "i2"
         },
         "yaxis": "y"
        },
        {
         "hovertemplate": "Município de notificação=SANTA BRANCA<br>Ano=%{x}<br>Incidência Mensal=%{y}<extra></extra>",
         "legendgroup": "SANTA BRANCA",
         "line": {
          "color": "#FF97FF",
          "dash": "solid"
         },
         "marker": {
          "symbol": "circle"
         },
         "mode": "lines",
         "name": "SANTA BRANCA",
         "showlegend": true,
         "type": "scattergl",
         "x": {
          "bdata": "1wfYB9oH2wfcB90H3gffB+AH4QfiB+MH5QfmB+cH6AfpB9cH2AfaB9sH3AfdB94H3wfgB+EH4gfjB+UH5gfnB+gH6QfXB9gH2gfbB9wH3QfeB98H4AfhB+IH4wflB+YH5wfoB+kH1wfYB9oH2wfcB90H3gffB+AH4QfiB+MH5QfmB+cH6AfpB9cH2AfaB9sH3AfdB94H3wfgB+EH4gfjB+UH5gfnB+gH6QfXB9gH2gfbB9wH3QfeB98H4AfhB+IH4wflB+YH5wfoB+kH1wfYB9oH2wfcB90H3gffB+AH4QfiB+MH5QfmB+cH6AfpB9cH2AfaB9sH3AfdB94H3wfgB+EH4gfjB+UH5gfnB+gH6QfXB9gH2gfbB9wH3QfeB98H4AfhB+IH4wflB+YH5wfoB+kH1wfYB9oH2wfcB90H3gffB+AH4QfiB+MH5QfmB+cH6AfpB9cH2AfaB9sH3AfdB94H3wfgB+EH4gfjB+UH5gfnB+gH6QfXB9gH2gfbB9wH3QfeB98H4AfhB+IH4wflB+YH5wfoB+kH",
          "dtype": "i2"
         },
         "xaxis": "x",
         "y": {
          "bdata": "AAAAAAAAQQAAAAAAAAAAAFIAAAAAAAYAAAAUAAAAmgAOAAAAAAAAAA4AAAAAAAAAFABfAAYAGwAAAAAAAAAAAGAGOAAAAAAAAAAVAAAAAAAAAM4A4gAGAAAAAAAAAAAADQA9BlQAAAAHAAAAHAAAABQAAAC/AcYAAAAAAC8AAAANAEMAWw0qAAAAAAAHAAAAAAAAABsA9gENAAYAAAByAAAABgCaAEkEVAAAAAAABwAAAAcAAAANACkABgAAAAAAcgAAAAAAGgB+ABwAAAAAAAAAAAAAAAAABgAiAAAAAAAAAAAAAAAAAA0AAAAAAAAAAAAAAAAAAAAAAAYAAAAAAAAAAAAAAAAAAAAAAAcABwAGAAAADgAAAAAAAAAAAAYAAAAAAAAAAAAAAAYABgAAAAAAAAAAAAAAAAAAAAAABgAGAAAABgAAAAAAAAAAAAAAAAAAAAAAAAAAAAcAAAAAAAYABgANAAYAAAAAAAYAAAAAADEAAAAAAAAAAAAAAAAAAAAGADAAAAAAAAAAAAAAAAAAAABUAAAA",
          "dtype": "i2"
         },
         "yaxis": "y"
        },
        {
         "hovertemplate": "Município de notificação=QUELUZ<br>Ano=%{x}<br>Incidência Mensal=%{y}<extra></extra>",
         "legendgroup": "QUELUZ",
         "line": {
          "color": "#FECB52",
          "dash": "solid"
         },
         "marker": {
          "symbol": "circle"
         },
         "mode": "lines",
         "name": "QUELUZ",
         "showlegend": true,
         "type": "scattergl",
         "x": {
          "bdata": "1wfYB9oH2wfcB90H3gffB+AH4QfjB+QH5QfmB+cH6AfpB9cH2AfaB9sH3AfdB94H3wfgB+EH4wfkB+UH5gfnB+gH6QfXB9gH2gfbB9wH3QfeB98H4AfhB+MH5AflB+YH5wfoB+kH1wfYB9oH2wfcB90H3gffB+AH4QfjB+QH5QfmB+cH6AfpB9cH2AfaB9sH3AfdB94H3wfgB+EH4wfkB+UH5gfnB+gH6QfXB9gH2gfbB9wH3QfeB98H4AfhB+MH5AflB+YH5wfoB+kH1wfYB9oH2wfcB90H3gffB+AH4QfjB+QH5QfmB+cH6AfpB9cH2AfaB9sH3AfdB94H3wfgB+EH4wfkB+UH5gfnB+gH6QfXB9gH2gfbB9wH3QfeB98H4AfhB+MH5AflB+YH5wfoB+kH1wfYB9oH2wfcB90H3gffB+AH4QfjB+QH5QfmB+cH6AfpB9cH2AfaB9sH3AfdB94H3wfgB+EH4wfkB+UH5gfnB+gH6QfXB9gH2gfbB9wH3QfeB98H4AfhB+MH5AflB+YH5wfoB+kH",
          "dtype": "i2"
         },
         "xaxis": "x",
         "y": {
          "bdata": "AAAAAAAACAAIABgAEAAHAD4AAAAHAA4AOgAHAAcANgAAAAAAAAAAAAgAAADHAgAAVwBtAAAAAAABAQcAAAAHAGIAAAAAAAAAAAARAAAAvwUQAEsG4gAAAAAAtwAAAF4AewDlADcACQAJAAgACAAAAPsEEAAHBAAAAAAlAKEAAAC8AB0AQwI3AC8ACQAAACsACACbAAgADwAAAAAADgA6AAAApgAyAM0DTQAJAAAAAAAAAAAACAAIAAAAAAAAAAcAJAAAABUAAAAnAQsAAAAAAAAAAAAAAAAAAAAAAAAAAAAAAAAAAAAAAAAAAAALAAAAAAAAAAAAAAAAAAAAAAAAAAAAAAAAAAAAAAAHAAAAAAAAAAAAAAAIAAAAAAAAAAcAAAAAAAAAAAAAAAAAAAAAAAAAAAAAAAAAAAAAAAAAAAAnAAAAAAAAAAcAAAAAAAAAAAAAAAAAAAAAAAAAAAAAAAAABwAAAAAAAAAAAAAAAAAAAAAAAAAAAAAAAAAAAAAACAAIAA8AAAAHAAAAAAAAAAcAAAAAAAAA",
          "dtype": "i2"
         },
         "yaxis": "y"
        },
        {
         "hovertemplate": "Município de notificação=POTIM<br>Ano=%{x}<br>Incidência Mensal=%{y}<extra></extra>",
         "legendgroup": "POTIM",
         "line": {
          "color": "#636efa",
          "dash": "solid"
         },
         "marker": {
          "symbol": "circle"
         },
         "mode": "lines",
         "name": "POTIM",
         "showlegend": true,
         "type": "scattergl",
         "x": {
          "bdata": "1wfYB9kH2gfbB9wH3QfeB98H4AfhB+IH4wfkB+UH5gfnB+gH6QfXB9gH2QfaB9sH3AfdB94H3wfgB+EH4gfjB+QH5QfmB+cH6AfpB9cH2AfZB9oH2wfcB90H3gffB+AH4QfiB+MH5AflB+YH5wfoB+kH1wfYB9kH2gfbB9wH3QfeB98H4AfhB+IH4wfkB+UH5gfnB+gH6QfXB9gH2QfaB9sH3AfdB94H3wfgB+EH4gfjB+QH5QfmB+cH6AfpB9cH2AfZB9oH2wfcB90H3gffB+AH4QfiB+MH5AflB+YH5wfoB+kH1wfYB9kH2gfbB9wH3QfeB98H4AfhB+IH4wfkB+UH5gfnB+gH6QfXB9gH2QfaB9sH3AfdB94H3wfgB+EH4gfjB+QH5QfmB+cH6AfpB9cH2AfZB9oH2wfcB90H3gffB+AH4QfiB+MH5AflB+YH5wfoB+kH1wfYB9kH2gfbB9wH3QfeB98H4AfhB+IH4wfkB+UH5gfnB+gH6QfXB9gH2QfaB9sH3AfdB94H3wfgB+EH4gfjB+QH5QfmB+cH6AfpB9cH2AfZB9oH2wfcB90H3gffB+AH4QfiB+MH5AflB+YH5wfoB+kH",
          "dtype": "i2"
         },
         "xaxis": "x",
         "y": {
          "bdata": "AAAAAAQAAAAFAKUGBAAWAEIAAAAAAAQABAA+FgMAAAA6AhwBsQAKAAQABAAAAAoAMw4XAAAAvwAIAAAAAAAIAGwFAwAAAKEF7QTdALQAEwAEAAQABQAOCiAADQDYAw0ACAAAAAwA+QEAAAMAYwrsBvUAVwAOAAAAAAAtAF4BXQAbALcGKwAEAAQAaQA/ABMAAwAtCAQGJQEKAAAAAAAEAIgAcQAuAJoAUAQaAAAAAAA8AT8AAAAjAF4FfwOTAQAAAAAAAAQAIwAOAAAAUQDMAAAAAAAEANsAEwAAAAcAWwGPAVEAAAAAAAAAAAAZAAQAAAAfAA0AAAAAAAQAZQAbAAAAAABVAMAAYAAAAAAAAAAAABQACQAEAAAAEQAAAAAAAAB1AAsAAwADACoARwFDAAAAAAAAAAAAVQAAAAQAAAAEAAQAAAAEAFEABwATABMAcQB8AQAAAAAJAAAAAAC1AAQACQAtAAAABAAMAAQA7gIDABsAFwBxAP8AAAAFAAAABAAAAMoBCQAJABsAAAAAAAgAAADODQMAGwAjAEoA0wAAAAAAAAAAAAAAIwWAAAkAJAAAAAQABAAMAOAU2gNZAC4AEwCVAA4A",
          "dtype": "i2"
         },
         "yaxis": "y"
        },
        {
         "hovertemplate": "Município de notificação=PINDAMONHANGABA<br>Ano=%{x}<br>Incidência Mensal=%{y}<extra></extra>",
         "legendgroup": "PINDAMONHANGABA",
         "line": {
          "color": "#EF553B",
          "dash": "solid"
         },
         "marker": {
          "symbol": "circle"
         },
         "mode": "lines",
         "name": "PINDAMONHANGABA",
         "showlegend": true,
         "type": "scattergl",
         "x": {
          "bdata": "1wfYB9kH2gfbB9wH3QfeB98H4AfhB+IH4wfkB+UH5gfnB+gH6QfXB9gH2QfaB9sH3AfdB94H3wfgB+EH4gfjB+QH5QfmB+cH6AfpB9cH2AfZB9oH2wfcB90H3gffB+AH4QfiB+MH5AflB+YH5wfoB+kH1wfYB9kH2gfbB9wH3QfeB98H4AfhB+IH4wfkB+UH5gfnB+gH6QfXB9gH2QfaB9sH3AfdB94H3wfgB+EH4gfjB+QH5QfmB+cH6AfpB9cH2AfZB9oH2wfcB90H3gffB+AH4QfiB+MH5AflB+YH5wfoB+kH1wfYB9kH2gfbB9wH3QfeB98H4AfhB+IH4wfkB+UH5gfnB+gH6QfXB9gH2QfaB9sH3AfdB94H3wfgB+EH4gfjB+QH5QfmB+cH6AfpB9cH2AfZB9oH2wfcB90H3gffB+AH4QfiB+MH5AflB+YH5wfoB+kH1wfYB9kH2gfbB9wH3QfeB98H4AfhB+IH4wfkB+UH5gfnB+gH6QfXB9gH2QfaB9sH3AfdB94H3wfgB+EH4gfjB+QH5QfmB+cH6AfpB9cH2AfZB9oH2wfcB90H3gffB+AH4QfiB+MH5AflB+YH5wfoB+kH",
          "dtype": "i2"
         },
         "xaxis": "x",
         "y": {
          "bdata": "AQAAAAAAAAAFAAMAHQANAAoAMAACAAMAAQA2ACUABAAJABgIEQAEAAAAAAAAABsABQBZACEAGgA7AAMAAgAFAOwAtgAPACwAvw4pAAQAAAAAAAYAvgAHAKQAmgBVAF8ABgAFABEAgwH0AD4AtgAlEn0AAQAAAAAAEwADAQ4AcwBZA+gARgAFAAUAGwBCAagATAAPAYEJnAAAAAAAAAAPABYBBAAsAKkCtAATAAEAAgAjALYASABTAAwBxwO7AAAAAAAAAAEAHAABAAUAYwBEAAkAAQABAAsAGwANABgAXwCmAE8AAAAAAAAAAAAGAAEAAgAXAAwAAwAAAAMACAAIAAMABgAWAB8AEQAAAAAAAAAAAAAAAAAAAAMAAQACAAEAAAABAAIAAgABAAoADAADAAAAAAAAAAAAAAAAAAAABAAAAAEAAAABAAMAAQABAAEAEAAGAAAAAAAAAAAAAQABAAAAAAAAAAIAAQABAAEAAQABAAEAAwArAAQAAAAAAAAAAAAAAAAAAAADAAEAAwAAAAAAAAAEAAIAAAADAGsABAAAAAAAAAAAAAIAAgAAAAEABQAHAAEAAQABAAgAEQABAAQAuwE5AAAA",
          "dtype": "i2"
         },
         "yaxis": "y"
        },
        {
         "hovertemplate": "Município de notificação=PARAIBUNA<br>Ano=%{x}<br>Incidência Mensal=%{y}<extra></extra>",
         "legendgroup": "PARAIBUNA",
         "line": {
          "color": "#00cc96",
          "dash": "solid"
         },
         "marker": {
          "symbol": "circle"
         },
         "mode": "lines",
         "name": "PARAIBUNA",
         "showlegend": true,
         "type": "scattergl",
         "x": {
          "bdata": "1wfaB9sH3gffB+AH4gfjB+QH5gfnB+gH6QfXB9oH2wfeB98H4AfiB+MH5AfmB+cH6AfpB9cH2gfbB94H3wfgB+IH4wfkB+YH5wfoB+kH1wfaB9sH3gffB+AH4gfjB+QH5gfnB+gH6QfXB9oH2wfeB98H4AfiB+MH5AfmB+cH6AfpB9cH2gfbB94H3wfgB+IH4wfkB+YH5wfoB+kH1wfaB9sH3gffB+AH4gfjB+QH5gfnB+gH6QfXB9oH2wfeB98H4AfiB+MH5AfmB+cH6AfpB9cH2gfbB94H3wfgB+IH4wfkB+YH5wfoB+kH1wfaB9sH3gffB+AH4gfjB+QH5gfnB+gH6QfXB9oH2wfeB98H4AfiB+MH5AfmB+cH6AfpB9cH2gfbB94H3wfgB+IH4wfkB+YH5wfoB+kH",
          "dtype": "i2"
         },
         "xaxis": "x",
         "y": {
          "bdata": "AAAAAAAAAAAmAAAAAAAAAAAABQAKABsAzgAAAAAAAAAAAFIAAAALAAUACgAAAAoALAFeAAAABQAAAAAAqwAAAAAAAAAAAAAACgCnA7IABQAAABEABQAxAAsAAAAFAAAAJgAAAL8GegAAAAAAAAAAABAAAAAAABAAAAAVAAAAOQYyAAAABQAAAAAAAAAAAAAABQAAAAoAAACFAQAAAAAAAAAAAAAAAAAAAAAAAAAACgAAAIsAAAAAAAAAAAAAAAAAAAAAAAoAAAAAAAAALAAAAAAAAAAAAAAAAAAAAAAAAAAAAAUAAAAFAAAAAAAAAAAAAAAAAAAAAAAAAAoAAAAFAJYAAAAAAAAABQAAAAAAAAAAAAUABQAAAAAACwAAAAAAAAAAAAAAAAAAAAAAAAAFAAAAAABNABAA",
          "dtype": "i2"
         },
         "yaxis": "y"
        },
        {
         "hovertemplate": "Município de notificação=ROSEIRA<br>Ano=%{x}<br>Incidência Mensal=%{y}<extra></extra>",
         "legendgroup": "ROSEIRA",
         "line": {
          "color": "#ab63fa",
          "dash": "solid"
         },
         "marker": {
          "symbol": "circle"
         },
         "mode": "lines",
         "name": "ROSEIRA",
         "showlegend": true,
         "type": "scattergl",
         "x": {
          "bdata": "1wfaB9sH3AfdB94H3wfgB+MH5AflB+YH5wfoB+kH1wfaB9sH3AfdB94H3wfgB+MH5AflB+YH5wfoB+kH1wfaB9sH3AfdB94H3wfgB+MH5AflB+YH5wfoB+kH1wfaB9sH3AfdB94H3wfgB+MH5AflB+YH5wfoB+kH1wfaB9sH3AfdB94H3wfgB+MH5AflB+YH5wfoB+kH1wfaB9sH3AfdB94H3wfgB+MH5AflB+YH5wfoB+kH1wfaB9sH3AfdB94H3wfgB+MH5AflB+YH5wfoB+kH1wfaB9sH3AfdB94H3wfgB+MH5AflB+YH5wfoB+kH1wfaB9sH3AfdB94H3wfgB+MH5AflB+YH5wfoB+kH1wfaB9sH3AfdB94H3wfgB+MH5AflB+YH5wfoB+kH1wfaB9sH3AfdB94H3wfgB+MH5AflB+YH5wfoB+kH1wfaB9sH3AfdB94H3wfgB+MH5AflB+YH5wfoB+kH",
          "dtype": "i2"
         },
         "xaxis": "x",
         "y": {
          "bdata": "AAAAAAAAAAAAAAAAAAAAAAAAwgAJAAAACQCeAQgAAAAAAAAAcAAdAAAAHQAmAAAAeAMJAAAAEgA0AwgACgAAACkAewBsAAkAkQAmAAkAAwEAAAAAdwB+BSMAFAAAACkAuAATACYAjAMJAAAAUwAAAGUACgHsAiMAAAAKAAoAHgAJACYAoAMJAAkANwAJAMAAbgBoAWIAAAAAAAAACgAAACYApAAAAAAAAAAJAAkASQBaAAAAAAAAAAAAAAAAAAAAAAAAAAAACQAAAAkALQAAAAAAAAAAAAAAAAAAAAAAAAAAAAAAAAAJAAAAEgAAAAAAAAAAAAAAAAAAAAAAAAAAAAAAAAAAAAAASQAAAAAAAAAAAAAAAAAAAAAACQAAAAAAEgAAAAAAZQAAAAAAAAAAAAAAHgAAAAAAAAAAACUAAAAAAAAAdwAAAAAAAAAUABQAFAAAAAAACQAAABIAGwAAAAAAWwAAAAAA",
          "dtype": "i2"
         },
         "yaxis": "y"
        },
        {
         "hovertemplate": "Município de notificação=LAVRINHAS<br>Ano=%{x}<br>Incidência Mensal=%{y}<extra></extra>",
         "legendgroup": "LAVRINHAS",
         "line": {
          "color": "#FFA15A",
          "dash": "solid"
         },
         "marker": {
          "symbol": "circle"
         },
         "mode": "lines",
         "name": "LAVRINHAS",
         "showlegend": true,
         "type": "scattergl",
         "x": {
          "bdata": "1wfYB9sH3AfdB94H3wfgB+EH4gfjB+QH5QfmB+cH6AfpB9cH2AfbB9wH3QfeB98H4AfhB+IH4wfkB+UH5gfnB+gH6QfXB9gH2wfcB90H3gffB+AH4QfiB+MH5AflB+YH5wfoB+kH1wfYB9sH3AfdB94H3wfgB+EH4gfjB+QH5QfmB+cH6AfpB9cH2AfbB9wH3QfeB98H4AfhB+IH4wfkB+UH5gfnB+gH6QfXB9gH2wfcB90H3gffB+AH4QfiB+MH5AflB+YH5wfoB+kH1wfYB9sH3AfdB94H3wfgB+EH4gfjB+QH5QfmB+cH6AfpB9cH2AfbB9wH3QfeB98H4AfhB+IH4wfkB+UH5gfnB+gH6QfXB9gH2wfcB90H3gffB+AH4QfiB+MH5AflB+YH5wfoB+kH1wfYB9sH3AfdB94H3wfgB+EH4gfjB+QH5QfmB+cH6AfpB9cH2AfbB9wH3QfeB98H4AfhB+IH4wfkB+UH5gfnB+gH6QfXB9gH2wfcB90H3gffB+AH4QfiB+MH5AflB+YH5wfoB+kH",
          "dtype": "i2"
         },
         "xaxis": "x",
         "y": {
          "bdata": "DgAAAAAAAAC7ACoAAAAqAAAAAAAAABUCDQAAAAAAGwAoAAAADgAPAAAAfAMOAAAAOAAAAAAARAANBwAAAAAAAM8BKAAOAAAALQAAAFEIKgBjADgAAAAAAJ0BTwoNAAAAAABeBAAAHAAAADwAlQCVAjkAAAAcAAAAAAC+AgsDAAAAAF8AOQVEAAAAAACWAJUADgAAAAAAAAAAAA0AHgOkAAAAGwAbAOsBDQAAAAAASwA7AAAAAAAAAA4AAAAAAOoAKQAAAAAAAABfAAAAAAAAAAAASgAAADkAAAAAAAAAAAA3AA0AAAANAAAADQAAAAAAAAAAAAAAAAAAAAAAAAAAAAAADQANAAAAAAAAAAAAAAAAAAAAAAAAAAAAAAAAAAAAAAAAAAAAAAAAAAAAAAAAAAAAAAAAAAAAAAAAABwAAAAAAA0AAAAAAAAAAAAbAA0AAAAAAAAAAAAAAAAAAAAAAAAAAAAAAAAAAAAbAAAAAAANAAAAAAAAAAAAAAAOAAAAAAAAAA4AAAAAAAAAAAAAAAAAAAAAAAAA",
          "dtype": "i2"
         },
         "yaxis": "y"
        },
        {
         "hovertemplate": "Município de notificação=CACAPAVA<br>Ano=%{x}<br>Incidência Mensal=%{y}<extra></extra>",
         "legendgroup": "CACAPAVA",
         "line": {
          "color": "#19d3f3",
          "dash": "solid"
         },
         "marker": {
          "symbol": "circle"
         },
         "mode": "lines",
         "name": "CACAPAVA",
         "showlegend": true,
         "type": "scattergl",
         "x": {
          "bdata": "1wfYB9oH2wfcB90H3gffB+AH4QfiB+MH5AflB+YH5wfoB+kH1wfYB9oH2wfcB90H3gffB+AH4QfiB+MH5AflB+YH5wfoB+kH1wfYB9oH2wfcB90H3gffB+AH4QfiB+MH5AflB+YH5wfoB+kH1wfYB9oH2wfcB90H3gffB+AH4QfiB+MH5AflB+YH5wfoB+kH1wfYB9oH2wfcB90H3gffB+AH4QfiB+MH5AflB+YH5wfoB+kH1wfYB9oH2wfcB90H3gffB+AH4QfiB+MH5AflB+YH5wfoB+kH1wfYB9oH2wfcB90H3gffB+AH4QfiB+MH5AflB+YH5wfoB+kH1wfYB9oH2wfcB90H3gffB+AH4QfiB+MH5AflB+YH5wfoB+kH1wfYB9oH2wfcB90H3gffB+AH4QfiB+MH5AflB+YH5wfoB+kH1wfYB9oH2wfcB90H3gffB+AH4QfiB+MH5AflB+YH5wfoB+kH1wfYB9oH2wfcB90H3gffB+AH4QfiB+MH5AflB+YH5wfoB+kH1wfYB9oH2wfcB90H3gffB+AH4QfiB+MH5AflB+YH5wfoB+kH",
          "dtype": "i2"
         },
         "xaxis": "x",
         "y": {
          "bdata": "AAAAAAMAAQACAAIAAwANAAoABwABAAEABgAAAAEABAApABEAAgAAAB4AAgADAAUABgA5AAoABAABAAgAFgAAAAAAAgAbASwABQAAAIwADwADABEAKADnABcABwABAEAAGAABAAkAKgCPBo8AAAABAHkAIQAJACAAdQCRAQkAAgAEAI0BGwAAAB0AVgAWC8UAAQAAAFUAHwACAAUAUQCuAQIAAgABAEYBHQACADQAWADADIsBAAAAABYAAgAGAAEAIQA1AAAAAAAAAGEAAwABAAkAIgA1AjwAAQAAAAIAAAACAAEACAABAAAAAQABABQABQABAAIAAwBuACYAAAAAAAIAAAAAAAAAAQAAAAEAAAAAAAEAAgAAAAEAAwBWAC4AAAAAAAEAAAAAAAAAAQAAAAAAAAABAAIAAQAAAAIAAAAbAAAAAAAAAAAAAAAAAAAAAQAAAAEAAwAAAAIAAAACAAAAAAATAAAAAAAAAAAAAQABAAEAAgABAAEAAAAAAAMAAQAAAAIAAAAVAAAAAAAAAAMAAAACAAAAAAAEAAEAAAABAAEAAQAAAAAAAQATAAAA",
          "dtype": "i2"
         },
         "yaxis": "y"
        },
        {
         "hovertemplate": "Município de notificação=LORENA<br>Ano=%{x}<br>Incidência Mensal=%{y}<extra></extra>",
         "legendgroup": "LORENA",
         "line": {
          "color": "#FF6692",
          "dash": "solid"
         },
         "marker": {
          "symbol": "circle"
         },
         "mode": "lines",
         "name": "LORENA",
         "showlegend": true,
         "type": "scattergl",
         "x": {
          "bdata": "1wfYB9oH2wfcB90H3gffB+AH4QfiB+MH5AflB+YH5wfoB+kH1wfYB9oH2wfcB90H3gffB+AH4QfiB+MH5AflB+YH5wfoB+kH1wfYB9oH2wfcB90H3gffB+AH4QfiB+MH5AflB+YH5wfoB+kH1wfYB9oH2wfcB90H3gffB+AH4QfiB+MH5AflB+YH5wfoB+kH1wfYB9oH2wfcB90H3gffB+AH4QfiB+MH5AflB+YH5wfoB+kH1wfYB9oH2wfcB90H3gffB+AH4QfiB+MH5AflB+YH5wfoB+kH1wfYB9oH2wfcB90H3gffB+AH4QfiB+MH5AflB+YH5wfoB+kH1wfYB9oH2wfcB90H3gffB+AH4QfiB+MH5AflB+YH5wfoB+kH1wfYB9oH2wfcB90H3gffB+AH4QfiB+MH5AflB+YH5wfoB+kH1wfYB9oH2wfcB90H3gffB+AH4QfiB+MH5AflB+YH5wfoB+kH1wfYB9oH2wfcB90H3gffB+AH4QfiB+MH5AflB+YH5wfoB+kH1wfYB9oH2wfcB90H3gffB+AH4QfiB+MH5AflB+YH5wfoB+kH",
          "dtype": "i2"
         },
         "xaxis": "x",
         "y": {
          "bdata": "AAAGAAAANwAAAAsAAABbAAwABAAAAAMAWgQGAAEABwC5AAwAAAABAAAAxQMDAC0AAgAAASUABAAAAAYAHAkDAAIABwBfBQkAAAADAAIAjwQNAGQAAwDJAhUAAgAAAEMAcwUAAAIABgBnDBEAAgADAAgALwIUAFwAFAA6BB8ABAAAAFMA3QEEAAIADwD8DBAAAgAAAAQANAEOABoAHQDuAQUAAQAAAOsAfQAFAAUADQAxBhMAAAAAAAEAFgACAAMAGABaAAAAAgABAHQAGgACAAEABADhAAUAAAAAAAAABAABAAIACQAUAAEAAgABABAABQAAAAIAAgAzAAIAAAAAAAAAAgAAAAAABQAFAAAAAAAAAA4ABwAAAAEAAAAZAAAAAAAAAAAAAgAAAAIABAAJAAAAAAACAAUAAQAAAAEAAgAMAAAAAAAAAAAAAQAAAAAABgAIAAAAAQADAAoAAwAAAAAAAQALAAAAAAAAAAEABgAAAAIADQAIAAMAAgAAABQAAgAAAAAAAwAYAAAAAAAAAAAABAABAAMACAATAAIAAQAAABcAFAAAAAAACgAZAAEA",
          "dtype": "i2"
         },
         "yaxis": "y"
        },
        {
         "hovertemplate": "Município de notificação=CAMPOS DO JORDAO<br>Ano=%{x}<br>Incidência Mensal=%{y}<extra></extra>",
         "legendgroup": "CAMPOS DO JORDAO",
         "line": {
          "color": "#B6E880",
          "dash": "solid"
         },
         "marker": {
          "symbol": "circle"
         },
         "mode": "lines",
         "name": "CAMPOS DO JORDAO",
         "showlegend": true,
         "type": "scattergl",
         "x": {
          "bdata": "1wfaB9sH3AfdB94H3wfgB+MH5AflB+YH5wfoB+kH1wfaB9sH3AfdB94H3wfgB+MH5AflB+YH5wfoB+kH1wfaB9sH3AfdB94H3wfgB+MH5AflB+YH5wfoB+kH1wfaB9sH3AfdB94H3wfgB+MH5AflB+YH5wfoB+kH1wfaB9sH3AfdB94H3wfgB+MH5AflB+YH5wfoB+kH1wfaB9sH3AfdB94H3wfgB+MH5AflB+YH5wfoB+kH1wfaB9sH3AfdB94H3wfgB+MH5AflB+YH5wfoB+kH1wfaB9sH3AfdB94H3wfgB+MH5AflB+YH5wfoB+kH1wfaB9sH3AfdB94H3wfgB+MH5AflB+YH5wfoB+kH1wfaB9sH3AfdB94H3wfgB+MH5AflB+YH5wfoB+kH1wfaB9sH3AfdB94H3wfgB+MH5AflB+YH5wfoB+kH1wfaB9sH3AfdB94H3wfgB+MH5AflB+YH5wfoB+kH",
          "dtype": "i2"
         },
         "xaxis": "x",
         "y": {
          "bdata": "AgIAAAAAAQAAAAABABAMAAIABAAAAAEAAAAAAEIMAAIAAAAAAAkBAwEBAXgKAAAEAAADAwABAAAFAFMMAAACAAEDAQMDAAAAAEgOAAAAAAABAAAAAAAAAAoAAAAAAAAAAAAAAAAAAQYCAAAAAAAAAAEAAAAAAAAAAAAAAAAAAAABAAEAAAAAAAAAAAAAAAAAAAEAAAAAAAAAAAAAAAEAAAAAAAAAAAAABAABAAAAAwAAAAYA",
          "dtype": "i1"
         },
         "yaxis": "y"
        },
        {
         "hovertemplate": "Município de notificação=CARAGUATATUBA<br>Ano=%{x}<br>Incidência Mensal=%{y}<extra></extra>",
         "legendgroup": "CARAGUATATUBA",
         "line": {
          "color": "#FF97FF",
          "dash": "solid"
         },
         "marker": {
          "symbol": "circle"
         },
         "mode": "lines",
         "name": "CARAGUATATUBA",
         "showlegend": true,
         "type": "scattergl",
         "x": {
          "bdata": "1wfYB9kH2gfbB9wH3QfeB98H4AfhB+IH4wfkB+UH5gfnB+gH6QfXB9gH2QfaB9sH3AfdB94H3wfgB+EH4gfjB+QH5QfmB+cH6AfpB9cH2AfZB9oH2wfcB90H3gffB+AH4QfiB+MH5AflB+YH5wfoB+kH1wfYB9kH2gfbB9wH3QfeB98H4AfhB+IH4wfkB+UH5gfnB+gH6QfXB9gH2QfaB9sH3AfdB94H3wfgB+EH4gfjB+QH5QfmB+cH6AfpB9cH2AfZB9oH2wfcB90H3gffB+AH4QfiB+MH5AflB+YH5wfoB+kH1wfYB9kH2gfbB9wH3QfeB98H4AfhB+IH4wfkB+UH5gfnB+gH6QfXB9gH2QfaB9sH3AfdB94H3wfgB+EH4gfjB+QH5QfmB+cH6AfpB9cH2AfZB9oH2wfcB90H3gffB+AH4QfiB+MH5AflB+YH5wfoB+kH1wfYB9kH2gfbB9wH3QfeB98H4AfhB+IH4wfkB+UH5gfnB+gH6QfXB9gH2QfaB9sH3AfdB94H3wfgB+EH4gfjB+QH5QfmB+cH6AfpB9cH2AfZB9oH2wfcB90H3gffB+AH4QfiB+MH5AflB+YH5wfoB+kH",
          "dtype": "i2"
         },
         "xaxis": "x",
         "y": {
          "bdata": "AAAAAAEABgAHAAEAJAAOAKkBCQAAAAEAAwA+AAoAHAAIAF4AKgABAAEAAQAiACkAAQDYAAoArwIKAAAAAAAfAHsAAQAfAF8AcQFiADAALwAFAGMCiwATAF4BKgA3BxgAAgAAAI8A6wAPABMAawDCBrIAxAAuAAcAOQQ0AQsArgF3AeEEJAAEAAMAQgNmAB8AKACiAEwK+QAxAQsABQAPBkgBEgDzAC4DegEgAAAAAQAHBCUAFwBDALMA4AjJAJMAAwAFAPcAKAAeAGwAzQE0AAAAAAAAACgCDAAPAC0AnQBKA1UANQAAAAAAIQADABUACgAiAAQABwAAAAAAjQARAAMAFABcAAkBHAADAAAAAgAIAAEADQADACsABQAAAAAAAABKAAIAAQALABIAYAADAAIAAAAAAAUAAAAJAAAAFAABAAAAAAAAAAYAAAACAAcADgB8AAAAAgAAAAEAAAAAABIAAwASAAQABQAAAAAAAgAAAAAACAALAGMAAAACAAAAAAABAAAAAAADABwABAAAAAAAAAAEAAAAAAAWABsAcAAAAAEAAQAAAAkAAgADAAUASwAJAAAAAQAAAAgACAADAAQAJwBNAAQA",
          "dtype": "i2"
         },
         "yaxis": "y"
        },
        {
         "hovertemplate": "Município de notificação=CRUZEIRO<br>Ano=%{x}<br>Incidência Mensal=%{y}<extra></extra>",
         "legendgroup": "CRUZEIRO",
         "line": {
          "color": "#FECB52",
          "dash": "solid"
         },
         "marker": {
          "symbol": "circle"
         },
         "mode": "lines",
         "name": "CRUZEIRO",
         "showlegend": true,
         "type": "scattergl",
         "x": {
          "bdata": "1wfYB9kH2gfbB9wH3QfeB98H4AfhB+IH4wfkB+UH5gfnB+gH6QfXB9gH2QfaB9sH3AfdB94H3wfgB+EH4gfjB+QH5QfmB+cH6AfpB9cH2AfZB9oH2wfcB90H3gffB+AH4QfiB+MH5AflB+YH5wfoB+kH1wfYB9kH2gfbB9wH3QfeB98H4AfhB+IH4wfkB+UH5gfnB+gH6QfXB9gH2QfaB9sH3AfdB94H3wfgB+EH4gfjB+QH5QfmB+cH6AfpB9cH2AfZB9oH2wfcB90H3gffB+AH4QfiB+MH5AflB+YH5wfoB+kH1wfYB9kH2gfbB9wH3QfeB98H4AfhB+IH4wfkB+UH5gfnB+gH6QfXB9gH2QfaB9sH3AfdB94H3wfgB+EH4gfjB+QH5QfmB+cH6AfpB9cH2AfZB9oH2wfcB90H3gffB+AH4QfiB+MH5AflB+YH5wfoB+kH1wfYB9kH2gfbB9wH3QfeB98H4AfhB+IH4wfkB+UH5gfnB+gH6QfXB9gH2QfaB9sH3AfdB94H3wfgB+EH4gfjB+QH5QfmB+cH6AfpB9cH2AfZB9oH2wfcB90H3gffB+AH4QfiB+MH5AflB+YH5wfoB+kH",
          "dtype": "i2"
         },
         "xaxis": "x",
         "y": {
          "bdata": "AAAAAAEAAQADAAIAoQMEAAcABAABAAAAAgC0BQIABgAAABgAAwAPAAAAAAADAAoADACxBQkAFAATAAAAAAABACAJAwAAAAEAfQADAGEAEQAAABQAYwCDAHYNDgA7AB4AAAADABgA3QMDAAMAAQB9ARgA8QAGAAEANACkAdsBQAcJAHcAFwACAAAAXgA9AQEAAQABAA0BDgBTAAcAAABAANEBKQLVAAYALAAUAAAAAACyAFUAAAADAAAAjQALAAIAAAAAABMAQQDKAA0ABwARAAAAAQAAAEgAGQABAAAAAAAeAAMAAAAAAAAABQAKABsAAgACAAMAAwAAAAQAEwAJAAAAAAABAAsAAQAAAAAAAQAAAAUACwADAAEAAAAAAAIAAAAAAAEAAAABAAEABQAAAAAAAAAAAAAABwACAAMAAQAAAAAAAgAHAAEABgAAAAAAAAABAAAAAAAAAAAAAAAGAAUABAADAAAAAQABAAAABgAGAAAAAQABAAMAAAABAAAAAAABAAwABwAHAAgAAAABAAAAAgAHAAEAAgAAAAIAAwAAAAAAAgAAAAMAAgAXABoAAgACAAIAAQAAAA0AEgAEAAEAAAABAAAA",
          "dtype": "i2"
         },
         "yaxis": "y"
        },
        {
         "hovertemplate": "Município de notificação=CUNHA<br>Ano=%{x}<br>Incidência Mensal=%{y}<extra></extra>",
         "legendgroup": "CUNHA",
         "line": {
          "color": "#636efa",
          "dash": "solid"
         },
         "marker": {
          "symbol": "circle"
         },
         "mode": "lines",
         "name": "CUNHA",
         "showlegend": true,
         "type": "scattergl",
         "x": {
          "bdata": "1wfaB9sH3AffB+IH4wfkB+UH5gfnB+gH6QfXB9oH2wfcB98H4gfjB+QH5QfmB+cH6AfpB9cH2gfbB9wH3wfiB+MH5AflB+YH5wfoB+kH1wfaB9sH3AffB+IH4wfkB+UH5gfnB+gH6QfXB9oH2wfcB98H4gfjB+QH5QfmB+cH6AfpB9cH2gfbB9wH3wfiB+MH5AflB+YH5wfoB+kH1wfaB9sH3AffB+IH4wfkB+UH5gfnB+gH6QfXB9oH2wfcB98H4gfjB+QH5QfmB+cH6AfpB9cH2gfbB9wH3wfiB+MH5AflB+YH5wfoB+kH1wfaB9sH3AffB+IH4wfkB+UH5gfnB+gH6QfXB9oH2wfcB98H4gfjB+QH5QfmB+cH6AfpB9cH2gfbB9wH3wfiB+MH5AflB+YH5wfoB+kH",
          "dtype": "i2"
         },
         "xaxis": "x",
         "y": {
          "bdata": "AAAAAAAABAAAAAAAAAAAAAAAAAAAACgAEQARAAAABAAEAAAAAAAEABIAAAAAAAQAsgANAAAAAAAAAA0AAAAAAAAAGwAAAAAAQQDyAQQAAAAIAAAABAAEAAAABAAEAAQAAACDALICGgAAAAAAAAAAAAAAAAAAAAAAAAAAADMAkAMjAAAAAAAAAAAABAAAAAAAAAAAAAAAAACOAAAAAAAEAAQAAAAAAAAAAAAAAAAAAAAAACgAAAAAAAQAAAAAAAAAAAAAAAAAAAAAAAkAAAAAAAAAAAAAAAAAAAAAAAAAAAAAAAAAAAAAAAAAAAAAAAAAAAAAAAAAAAAAAAAABAAAAAQAAAAAAAAAAAAAAAAABAAAAAAAAAAAAAQAAAAAAAAAAAAAAAAAAAAAAAAAAAAAAAAAAAAAAAAA",
          "dtype": "i2"
         },
         "yaxis": "y"
        },
        {
         "hovertemplate": "Município de notificação=CACHOEIRA PAULISTA<br>Ano=%{x}<br>Incidência Mensal=%{y}<extra></extra>",
         "legendgroup": "CACHOEIRA PAULISTA",
         "line": {
          "color": "#EF553B",
          "dash": "solid"
         },
         "marker": {
          "symbol": "circle"
         },
         "mode": "lines",
         "name": "CACHOEIRA PAULISTA",
         "showlegend": true,
         "type": "scattergl",
         "x": {
          "bdata": "1wfYB9oH2wfcB90H3gffB+AH4QfiB+MH5AflB+YH5wfoB+kH1wfYB9oH2wfcB90H3gffB+AH4QfiB+MH5AflB+YH5wfoB+kH1wfYB9oH2wfcB90H3gffB+AH4QfiB+MH5AflB+YH5wfoB+kH1wfYB9oH2wfcB90H3gffB+AH4QfiB+MH5AflB+YH5wfoB+kH1wfYB9oH2wfcB90H3gffB+AH4QfiB+MH5AflB+YH5wfoB+kH1wfYB9oH2wfcB90H3gffB+AH4QfiB+MH5AflB+YH5wfoB+kH1wfYB9oH2wfcB90H3gffB+AH4QfiB+MH5AflB+YH5wfoB+kH1wfYB9oH2wfcB90H3gffB+AH4QfiB+MH5AflB+YH5wfoB+kH1wfYB9oH2wfcB90H3gffB+AH4QfiB+MH5AflB+YH5wfoB+kH1wfYB9oH2wfcB90H3gffB+AH4QfiB+MH5AflB+YH5wfoB+kH1wfYB9oH2wfcB90H3gffB+AH4QfiB+MH5AflB+YH5wfoB+kH1wfYB9oH2wfcB90H3gffB+AH4QfiB+MH5AflB+YH5wfoB+kH",
          "dtype": "i2"
         },
         "xaxis": "x",
         "y": {
          "bdata": "BgACAAAAFwATABIAAAAAAAMADwAAAAAAuwACAAAAAAA3AAYAAwACAAYAwgAJAAUBAAAGABUAAAADAAMA3wECAAAAAAD2AAkAGAACAEMAogEAAHwBAwCqACQAAwAAABsAAwICAAUAAgBvBhIAGAACAKAA5AEWADEBHADfAScAAAAJAGMA/QACAAsAEQA6BmgAFQAFAKAA+gAdAC8ADAA4AQkAAAAGAIEAUwAFAAUABQDZAj0AAAAAAAkAHQAdAAYAAwAxAAAAAAAGAFcADgAAAAIAAAAIARgAAAAAAAMABgAGAAAABgADAAAAAAAPABgAAAACAAIAAABoAAkACQAAAAMACQAAAAMAAAAAAAAAAwAbAAMAAAAAAAUAAAAoAAYAAAAAAAAACQAAAAAAAwAAAAAACQAkAA8AAgAAAAIABQAkAAAAAwACAAAACQAAAAAAAAADAAMABgAAAAAAAAAAAAAACAADAAAAAAACAAkADQAAAAMAAAAAAAkAAAAAABUAAAAFAAAAAgAPAAAAAAAAAAYAEwAAAAAAAAAAAAMAAAAAABUAAAALAAAACAAMAAYA",
          "dtype": "i2"
         },
         "yaxis": "y"
        },
        {
         "hovertemplate": "Município de notificação=ILHABELA<br>Ano=%{x}<br>Incidência Mensal=%{y}<extra></extra>",
         "legendgroup": "ILHABELA",
         "line": {
          "color": "#00cc96",
          "dash": "solid"
         },
         "marker": {
          "symbol": "circle"
         },
         "mode": "lines",
         "name": "ILHABELA",
         "showlegend": true,
         "type": "scattergl",
         "x": {
          "bdata": "1wfYB9kH2gfbB9wH3QfeB98H4AfhB+IH4wfkB+UH5gfnB+gH6QfXB9gH2QfaB9sH3AfdB94H3wfgB+EH4gfjB+QH5QfmB+cH6AfpB9cH2AfZB9oH2wfcB90H3gffB+AH4QfiB+MH5AflB+YH5wfoB+kH1wfYB9kH2gfbB9wH3QfeB98H4AfhB+IH4wfkB+UH5gfnB+gH6QfXB9gH2QfaB9sH3AfdB94H3wfgB+EH4gfjB+QH5QfmB+cH6AfpB9cH2AfZB9oH2wfcB90H3gffB+AH4QfiB+MH5AflB+YH5wfoB+kH1wfYB9kH2gfbB9wH3QfeB98H4AfhB+IH4wfkB+UH5gfnB+gH6QfXB9gH2QfaB9sH3AfdB94H3wfgB+EH4gfjB+QH5QfmB+cH6AfpB9cH2AfZB9oH2wfcB90H3gffB+AH4QfiB+MH5AflB+YH5wfoB+kH1wfYB9kH2gfbB9wH3QfeB98H4AfhB+IH4wfkB+UH5gfnB+gH6QfXB9gH2QfaB9sH3AfdB94H3wfgB+EH4gfjB+QH5QfmB+cH6AfpB9cH2AfZB9oH2wfcB90H3gffB+AH4QfiB+MH5AflB+YH5wfoB+kH",
          "dtype": "i2"
         },
         "xaxis": "x",
         "y": {
          "bdata": "AAADAAMACgARAAoAEwAJAEEAjAAFABEACAA7AFIASAFoAOQAdQADAAAAAwBiAAoAEQDYAIEA7ACPAAIACAAzAJIAlQB8AH8AGwTVAAMAAAADAIkCGAAlAHQGswZAA0wACwAgAE0AygCAAXQArgBVCrIBAAAPACoAGgdTABEA6QWpGPgCPQAAABEAegB+APEBvgBrAIENkAIHABMAmQAhB2EADQBmAZsMywEYAAUAFAB4AFcAlgGMAEUAFQuFAgAAAAAxAHACGAAKAG0AtAHvAAAAAgALAGQATgD1AKMASgDIA1ABAwAAABMAUwAGABEAIABLADsAAwACAAIANgB7AFAAlQAjAPcAagAAAAAAAwAAAAMAAAAdABkAOwADAAIAAAALAE4ASgAmABMAQgAAAAAAAAAAAAcAAAAAAAkAHAAiAAMAAAAAAAUANQBKADEAIwBYAAAAAAAAAAAAAwADAAMADAASACgAAAACAAIACAA7ACEANwBCAHAAAAAAAAAAAAAAAAMAAwAGAAwAcgAPAAAACAAIACwAoABYAEoAfgAAAAAAAAAAAA4AAAAAABMALwCFAAkAAAAIAAUAEwDFAS4APwBHAAUA",
          "dtype": "i2"
         },
         "yaxis": "y"
        },
        {
         "hovertemplate": "Município de notificação=JACAREI<br>Ano=%{x}<br>Incidência Mensal=%{y}<extra></extra>",
         "legendgroup": "JACAREI",
         "line": {
          "color": "#ab63fa",
          "dash": "solid"
         },
         "marker": {
          "symbol": "circle"
         },
         "mode": "lines",
         "name": "JACAREI",
         "showlegend": true,
         "type": "scattergl",
         "x": {
          "bdata": "1wfYB9kH2gfbB9wH3QfeB98H4AfhB+IH4wfkB+UH5gfnB+gH6QfXB9gH2QfaB9sH3AfdB94H3wfgB+EH4gfjB+QH5QfmB+cH6AfpB9cH2AfZB9oH2wfcB90H3gffB+AH4QfiB+MH5AflB+YH5wfoB+kH1wfYB9kH2gfbB9wH3QfeB98H4AfhB+IH4wfkB+UH5gfnB+gH6QfXB9gH2QfaB9sH3AfdB94H3wfgB+EH4gfjB+QH5QfmB+cH6AfpB9cH2AfZB9oH2wfcB90H3gffB+AH4QfiB+MH5AflB+YH5wfoB+kH1wfYB9kH2gfbB9wH3QfeB98H4AfhB+IH4wfkB+UH5gfnB+gH6QfXB9gH2QfaB9sH3AfdB94H3wfgB+EH4gfjB+QH5QfmB+cH6AfpB9cH2AfZB9oH2wfcB90H3gffB+AH4QfiB+MH5AflB+YH5wfoB+kH1wfYB9kH2gfbB9wH3QfeB98H4AfhB+IH4wfkB+UH5gfnB+gH6QfXB9gH2QfaB9sH3AfdB94H3wfgB+EH4gfjB+QH5QfmB+cH6AfpB9cH2AfZB9oH2wfcB90H3gffB+AH4QfiB+MH5AflB+YH5wfoB+kH",
          "dtype": "i2"
         },
         "xaxis": "x",
         "y": {
          "bdata": "AAAAAAAAAgAHAAAAAQABAA0ACwACAAMAAAAGAAUAAAAEAEMEYAAAAAIAAAABAAMAAAADAAEALQATAAIAAwAHABEABgAAAAcAZwr3AAMABgAAABIADAADAA4ABABnARwAAQACABAAKAALAA4AKwCJEKsBBAAFAAEAUgAZAAQAHQAcAAIDDgACAAAALQA5AAsAQgCGAG8MaQEBAAEAAQBeABAAAAANACoAdwEEAAEAAABQAB4ABwBRAIEApwVRAQAAAQAAAA8AAwABAAIAFgBUAAIAAAAAABcACgACABIAJgDVAGYAAQAAAAAAAQACAAAAAgAJAAcAAAAAAAAABAAGAAIABwAKADgAQQAAAAAAAAAAAAAAAAAAAAMAAgAAAAAAAAAAAAIAAQADAAMAFAAnAAAAAAAAAAAAAAAAAAAAAgADAAEAAAAAAAEAAQABAAEABAAUAAAAAAAAAAAAAAAAAAAAAAAEAAMAAwABAAEAAAAAAAAAAwAGABIAAAAAAAAAAAAAAAAAAAAAAAIAAgABAAEAAAAAAAIAAAAAACoACgAAAAAAAAAAAAEAAAAAAAEABAAFAAAAAAAAAAAAAgABAAIAqwASAAEA",
          "dtype": "i2"
         },
         "yaxis": "y"
        },
        {
         "hovertemplate": "Município de notificação=JAMBEIRO<br>Ano=%{x}<br>Incidência Mensal=%{y}<extra></extra>",
         "legendgroup": "JAMBEIRO",
         "line": {
          "color": "#FFA15A",
          "dash": "solid"
         },
         "marker": {
          "symbol": "circle"
         },
         "mode": "lines",
         "name": "JAMBEIRO",
         "showlegend": true,
         "type": "scattergl",
         "x": {
          "bdata": "1wfYB9oH3gffB+AH4QfiB+MH5AflB+cH6AfpB9cH2AfaB94H3wfgB+EH4gfjB+QH5QfnB+gH6QfXB9gH2gfeB98H4AfhB+IH4wfkB+UH5wfoB+kH1wfYB9oH3gffB+AH4QfiB+MH5AflB+cH6AfpB9cH2AfaB94H3wfgB+EH4gfjB+QH5QfnB+gH6QfXB9gH2gfeB98H4AfhB+IH4wfkB+UH5wfoB+kH1wfYB9oH3gffB+AH4QfiB+MH5AflB+cH6AfpB9cH2AfaB94H3wfgB+EH4gfjB+QH5QfnB+gH6QfXB9gH2gfeB98H4AfhB+IH4wfkB+UH5wfoB+kH1wfYB9oH3gffB+AH4QfiB+MH5AflB+cH6AfpB9cH2AfaB94H3wfgB+EH4gfjB+QH5QfnB+gH6QfXB9gH2gfeB98H4AfhB+IH4wfkB+UH5wfoB+kH",
          "dtype": "i2"
         },
         "xaxis": "x",
         "y": {
          "bdata": "AAAAAAAAAAAAABAADwAAAAAAAAAAAAAALQAtAAAAAAAAAAAAEAAQAA8AAAAAAAAADgAAAEwAiAAAAAAAAAAAAHIAIAAPAAAAAAAAAAAAAABlBGkAAAASADYAIQByAAAAAAAAAAAAAAAAAAAAOgWmAAAAAAASABAAIAAAAAAAAAAAAAAADgAAAAcD4gAUAAAAAAAAAAAAAAAAAAAAAAAAAAAAAAC2AC0AAAAAAAAAAAAAAAAAAAAAAAAAAAAAAAAAiAAtAAAAAAAAAAAAAAAAAAAAAAAAAAAAAAAAAA8ADwAAAAAAAAAAAAAAAAAAAAAAAAAAAAAAAAAAAAAAAAAAAAAAAAAAABAADwAeAA8AAAAAAAAADwAAAAAAAAAAAAAAAAAAAA8AAAAAAAAAAAAAAA8AAAAAAAAAAAAAABAAAAAPAAAAAAAOAAAADgAPAAAA",
          "dtype": "i2"
         },
         "yaxis": "y"
        },
        {
         "hovertemplate": "Município de notificação=LAGOINHA<br>Ano=%{x}<br>Incidência Mensal=%{y}<extra></extra>",
         "legendgroup": "LAGOINHA",
         "line": {
          "color": "#19d3f3",
          "dash": "solid"
         },
         "marker": {
          "symbol": "circle"
         },
         "mode": "lines",
         "name": "LAGOINHA",
         "showlegend": true,
         "type": "scattergl",
         "x": {
          "bdata": "1wfZB9oH2wfcB94H3wfgB+IH5AfmB+cH6AfpB9cH2QfaB9sH3AfeB98H4AfiB+QH5gfnB+gH6QfXB9kH2gfbB9wH3gffB+AH4gfkB+YH5wfoB+kH1wfZB9oH2wfcB94H3wfgB+IH5AfmB+cH6AfpB9cH2QfaB9sH3AfeB98H4AfiB+QH5gfnB+gH6QfXB9kH2gfbB9wH3gffB+AH4gfkB+YH5wfoB+kH1wfZB9oH2wfcB94H3wfgB+IH5AfmB+cH6AfpB9cH2QfaB9sH3AfeB98H4AfiB+QH5gfnB+gH6QfXB9kH2gfbB9wH3gffB+AH4gfkB+YH5wfoB+kH1wfZB9oH2wfcB94H3wfgB+IH5AfmB+cH6AfpB9cH2QfaB9sH3AfeB98H4AfiB+QH5gfnB+gH6QfXB9kH2gfbB9wH3gffB+AH4gfkB+YH5wfoB+kH",
          "dtype": "i2"
         },
         "xaxis": "x",
         "y": {
          "bdata": "AAAAAAAAAAAUAAAAAAAAABQAAAAAABQAAAAAAAAAFAAAAAAAAAAAAAAAAAAAAAAAAAAAAPUBJgATAAAAAAAAAAAAFAAUABQAAAAAAAAAAABPBzkAAAAAABQAFAAAAHgAFAAAAAAAAACPACgA7wYmAAAAAAAUABQAAAAoAAAAAAAAABQAegA9AIQIOQAAAAAAAAAAAAAAAAAAAAAAFAAAACgAAADiARMAAAAAAAAAAAAAAAAAAAAAAAAAAAAAAAAAJgAAAAAAAAAAAAAAAAAAAAAAAAAAAAAAAAAAABMAAAAAAAAAAAAAAAAAFAAAAAAAAAAAAAAAAAATAAAAAAAAAAAAAAAAAAAAAAAAAAAAAAAAAAAAAAAAAAAAAAAAAAAAAAAAABQAAAAAAAAAAAAAABMAAAAAAAAAAAAAAAAAAAAUAAAAAAAAAAAAAAAAAAAA",
          "dtype": "i2"
         },
         "yaxis": "y"
        },
        {
         "hovertemplate": "Município de notificação=GUARATINGUETA<br>Ano=%{x}<br>Incidência Mensal=%{y}<extra></extra>",
         "legendgroup": "GUARATINGUETA",
         "line": {
          "color": "#FF6692",
          "dash": "solid"
         },
         "marker": {
          "symbol": "circle"
         },
         "mode": "lines",
         "name": "GUARATINGUETA",
         "showlegend": true,
         "type": "scattergl",
         "x": {
          "bdata": "1wfYB9oH2wfcB90H3gffB+AH4QfiB+MH5AflB+YH5wfoB+kH1wfYB9oH2wfcB90H3gffB+AH4QfiB+MH5AflB+YH5wfoB+kH1wfYB9oH2wfcB90H3gffB+AH4QfiB+MH5AflB+YH5wfoB+kH1wfYB9oH2wfcB90H3gffB+AH4QfiB+MH5AflB+YH5wfoB+kH1wfYB9oH2wfcB90H3gffB+AH4QfiB+MH5AflB+YH5wfoB+kH1wfYB9oH2wfcB90H3gffB+AH4QfiB+MH5AflB+YH5wfoB+kH1wfYB9oH2wfcB90H3gffB+AH4QfiB+MH5AflB+YH5wfoB+kH1wfYB9oH2wfcB90H3gffB+AH4QfiB+MH5AflB+YH5wfoB+kH1wfYB9oH2wfcB90H3gffB+AH4QfiB+MH5AflB+YH5wfoB+kH1wfYB9oH2wfcB90H3gffB+AH4QfiB+MH5AflB+YH5wfoB+kH1wfYB9oH2wfcB90H3gffB+AH4QfiB+MH5AflB+YH5wfoB+kH1wfYB9oH2wfcB90H3gffB+AH4QfiB+MH5AflB+YH5wfoB+kH",
          "dtype": "i2"
         },
         "xaxis": "x",
         "y": {
          "bdata": "AAAAAAAAAABxABAAAgAaAAUABAADAAAAewECAAMACACLAQoAAgABAAAADwDwAUQAAwAzAAsAAQABAAMAdQQMAAQAJgCIBA8ACwACAAoAaAB/BHoACgBgAR4AAwABABMANgMLAAwAWQCYBzUAAwADAA8A8gDbAUYAKgDAAhMAAAAAADEADwEHAAkAcQBnBl0AAAACAAsA7ADhAA4ALAD+AA4AAQABAGkAXAAEAAsAcQASA1sAAAAAAAMAIgAXAAMAHQAlAAEAAQAAACkAFQAEAAoAIwCPACQAAAAAAAAABAADAAEADAAFAAAAAAAAAA4ADQAAAAMACgArAA8AAAAAAAAAAQAAAAIABQACAAMAAAAAAAYAAwAEAAMACwAQAAgAAAAAAAAAAAAAAAAACAACAAEAAAABAAgAAwAEAAAADAAXAAAAAAAAAAAAAAAAAAEABAAHAAEABAACABEABQADAAUAFgAJAAAAAAAAAAAABgAAAAMABAAFAAIABAADAEYABQAIAAUAHgALAAAAAAAAAAAAEAAFAAUABwADAAMAAgADAG4AJwAJAAYARgAFAAIA",
          "dtype": "i2"
         },
         "yaxis": "y"
        },
        {
         "hovertemplate": "Município de notificação=PIQUETE<br>Ano=%{x}<br>Incidência Mensal=%{y}<extra></extra>",
         "legendgroup": "PIQUETE",
         "line": {
          "color": "#B6E880",
          "dash": "solid"
         },
         "marker": {
          "symbol": "circle"
         },
         "mode": "lines",
         "name": "PIQUETE",
         "showlegend": true,
         "type": "scattergl",
         "x": {
          "bdata": "2AfZB9sH3AfdB94H3wfgB+IH4wfkB+UH5gfnB+gH6QfYB9kH2wfcB90H3gffB+AH4gfjB+QH5QfmB+cH6AfpB9gH2QfbB9wH3QfeB98H4AfiB+MH5AflB+YH5wfoB+kH2AfZB9sH3AfdB94H3wfgB+IH4wfkB+UH5gfnB+gH6QfYB9kH2wfcB90H3gffB+AH4gfjB+QH5QfmB+cH6AfpB9gH2QfbB9wH3QfeB98H4AfiB+MH5AflB+YH5wfoB+kH2AfZB9sH3AfdB94H3wfgB+IH4wfkB+UH5gfnB+gH6QfYB9kH2wfcB90H3gffB+AH4gfjB+QH5QfmB+cH6AfpB9gH2QfbB9wH3QfeB98H4AfiB+MH5AflB+YH5wfoB+kH2AfZB9sH3AfdB94H3wfgB+IH4wfkB+UH5gfnB+gH6QfYB9kH2wfcB90H3gffB+AH4gfjB+QH5QfmB+cH6AfpB9gH2QfbB9wH3QfeB98H4AfiB+MH5AflB+YH5wfoB+kH",
          "dtype": "i2"
         },
         "xaxis": "x",
         "y": {
          "bdata": "AAAAAAAAAAAcAAAAAAAAAAAAAAA6AAcABwAAAFcAAAAAAAAABwAAAD8AAAAAAAAAAAAAAFYDAAAAAAAAvAIAAA0AAAAqAAAAaQAAAI0AFQAHAAAAqQAAAAAAAAAfBgcABgAAAEAAHAC9AAAAqAEOAAAAAAAQAQcABwAAAN8FBwAAAAAAHAAAAD8AFQA+AQAAAAA6AFoBAAAzAAcA3gAnAAAAAAAAAAAAAAAHABwADgAAAAAAHQAAAAAAAAA+AQ8AAAAGAAAAAAAAAAAABwAAAAAAAAAAAAAAAAAAAA8AAAAAAAAAAAAAAAAAAAAAAAAAAAAAAAAAAAAAAAcAAAAAAAAAAAAAAAAAAAAAAAAAAAAAAAAABwAAAAcAAAAPAAAAAAAAAAAAAAAAAAAAAAAAAAAAAAAOAAcAAAAAAB8AAAAAAAAAAAAAAAAAAAAAAAcAAAAAAAcAAAAAAAcADwAAAAAAAAAAAAAAAAAAAAcAAAAAAAAAFgAOAAAAFgAAAAAA",
          "dtype": "i2"
         },
         "yaxis": "y"
        },
        {
         "hovertemplate": "Município de notificação=NATIVIDADE DA SERRA<br>Ano=%{x}<br>Incidência Mensal=%{y}<extra></extra>",
         "legendgroup": "NATIVIDADE DA SERRA",
         "line": {
          "color": "#FF97FF",
          "dash": "solid"
         },
         "marker": {
          "symbol": "circle"
         },
         "mode": "lines",
         "name": "NATIVIDADE DA SERRA",
         "showlegend": true,
         "type": "scattergl",
         "x": {
          "bdata": "2AfaB9sH3AfeB98H4AfnB+gH6QfYB9oH2wfcB94H3wfgB+cH6AfpB9gH2gfbB9wH3gffB+AH5wfoB+kH2AfaB9sH3AfeB98H4AfnB+gH6QfYB9oH2wfcB94H3wfgB+cH6AfpB9gH2gfbB9wH3gffB+AH5wfoB+kH2AfaB9sH3AfeB98H4AfnB+gH6QfYB9oH2wfcB94H3wfgB+cH6AfpB9gH2gfbB9wH3gffB+AH5wfoB+kH2AfaB9sH3AfeB98H4AfnB+gH6QfYB9oH2wfcB94H3wfgB+cH6AfpB9gH2gfbB9wH3gffB+AH5wfoB+kH",
          "dtype": "i2"
         },
         "xaxis": "x",
         "y": {
          "bdata": "AAAAAAAADwAAAAAAAAAAAAAAAAAAAAAAAAAAAAAAHQAAAAAAHAANAA0AAAA8AAAAWAAdAAAAAADAARsAAAAAAA8AAAC/AA4ADgAPANwBNwAAAA0AAAAAAB0ADgAOAB4AsgENAAAAAAAAAAAAAAAAAAAAAADEAAAAAAAAAAAAAAAAAAAAAAAAAA4AAAAAAAAAAAAAAAAAAAAAAAAAAAAAAAAAAAAAAAAAAAAAAAAAAAAAAAAAAAAAAAAADwAAAAAAAAAAABwAAAAAAAAAAAAAAAAAAAAAAAAAHAAAAAAAAAAAAAAAAAAAAAAAAAAqAAAA",
          "dtype": "i2"
         },
         "yaxis": "y"
        },
        {
         "hovertemplate": "Município de notificação=MONTEIRO LOBATO<br>Ano=%{x}<br>Incidência Mensal=%{y}<extra></extra>",
         "legendgroup": "MONTEIRO LOBATO",
         "line": {
          "color": "#FECB52",
          "dash": "solid"
         },
         "marker": {
          "symbol": "circle"
         },
         "mode": "lines",
         "name": "MONTEIRO LOBATO",
         "showlegend": true,
         "type": "scattergl",
         "x": {
          "bdata": "2AffB+IH5gfnB+gH6QfYB98H4gfmB+cH6AfpB9gH3wfiB+YH5wfoB+kH2AffB+IH5gfnB+gH6QfYB98H4gfmB+cH6AfpB9gH3wfiB+YH5wfoB+kH2AffB+IH5gfnB+gH6QfYB98H4gfmB+cH6AfpB9gH3wfiB+YH5wfoB+kH2AffB+IH5gfnB+gH6QfYB98H4gfmB+cH6AfpB9gH3wfiB+YH5wfoB+kH",
          "dtype": "i2"
         },
         "xaxis": "x",
         "y": {
          "bdata": "AAAAAAAAAAAAAAAAFwAAAAAAFQAAABUAjgC+AC8AFgAAAAAAVACZAh0BAAAWAAAAAAAAALcDdgAAAAAAAAAVAAAASwWOAAAAAAAAAAAAAABMARcAAAAAAAAAAAAAAF8AAAAAAAAAAAAVAAAAAAAAAAAAAAAAAAAAAAAAAAAAAAAAAAAAAAAAAAAAAAAAAAAAAAAAAAAAFwAAAAAAAAAAAAAAAAAAAAAA",
          "dtype": "i2"
         },
         "yaxis": "y"
        },
        {
         "hovertemplate": "Município de notificação=REDENCAO DA SERRA<br>Ano=%{x}<br>Incidência Mensal=%{y}<extra></extra>",
         "legendgroup": "REDENCAO DA SERRA",
         "line": {
          "color": "#636efa",
          "dash": "solid"
         },
         "marker": {
          "symbol": "circle"
         },
         "mode": "lines",
         "name": "REDENCAO DA SERRA",
         "showlegend": true,
         "type": "scattergl",
         "x": {
          "bdata": "2QfbB94H5QfmB+gH6QfZB9sH3gflB+YH6AfpB9kH2wfeB+UH5gfoB+kH2QfbB94H5QfmB+gH6QfZB9sH3gflB+YH6AfpB9kH2wfeB+UH5gfoB+kH2QfbB94H5QfmB+gH6QfZB9sH3gflB+YH6AfpB9kH2wfeB+UH5gfoB+kH2QfbB94H5QfmB+gH6QfZB9sH3gflB+YH6AfpB9kH2wfeB+UH5gfoB+kH",
          "dtype": "i2"
         },
         "xaxis": "x",
         "y": {
          "bdata": "FwAAAAAATgAAAAAAFQAAAAAAAAAAAAAAWgEAAAAAAAAAAAAAAABABQAAAAAZAAAAAAAaAMsCFQAAAAAAmAAAAAAArQAAAAAAAAAyAAAAAAAAAAAAAAAAAAAAAAAAAAAAAAAAAAAAAAAAAAAAAAAAAAAAAAAAAAAAAAAAAAAAAAAAAAAAAAAAAAAAAAAAAAAAAAAAAAAAAAAAAAAAAAAAAAAAAAAAAAAA",
          "dtype": "i2"
         },
         "yaxis": "y"
        },
        {
         "hovertemplate": "Município de notificação=IGARATA<br>Ano=%{x}<br>Incidência Mensal=%{y}<extra></extra>",
         "legendgroup": "IGARATA",
         "line": {
          "color": "#EF553B",
          "dash": "solid"
         },
         "marker": {
          "symbol": "circle"
         },
         "mode": "lines",
         "name": "IGARATA",
         "showlegend": true,
         "type": "scattergl",
         "x": {
          "bdata": "2QfbB9wH3gffB+AH4wfkB+UH5gfnB+gH6QfZB9sH3AfeB98H4AfjB+QH5QfmB+cH6AfpB9kH2wfcB94H3wfgB+MH5AflB+YH5wfoB+kH2QfbB9wH3gffB+AH4wfkB+UH5gfnB+gH6QfZB9sH3AfeB98H4AfjB+QH5QfmB+cH6AfpB9kH2wfcB94H3wfgB+MH5AflB+YH5wfoB+kH2QfbB9wH3gffB+AH4wfkB+UH5gfnB+gH6QfZB9sH3AfeB98H4AfjB+QH5QfmB+cH6AfpB9kH2wfcB94H3wfgB+MH5AflB+YH5wfoB+kH2QfbB9wH3gffB+AH4wfkB+UH5gfnB+gH6QfZB9sH3AfeB98H4AfjB+QH5QfmB+cH6AfpB9kH2wfcB94H3wfgB+MH5AflB+YH5wfoB+kH",
          "dtype": "i2"
         },
         "xaxis": "x",
         "y": {
          "bdata": "AAAAAAsAAAAKAAAAAAAAAAoACgAKADcBCQALAAAAAAAAAHUAFQAAAAoAAAAAAAAA0wEkAAAAAAAAAAAAwQIVAAoAAAAAAAAAFACEBSQAAAAAAAAACgBAAQAACgAAAAoACgAfADwHLQAAAAAAAAAAABUACgApAAAACgAKAAAAuwUSAAAACwAAAAoACgAAAAAAAAAKAAAAAABlAQAAAAAAAAAAAAAAAAAAAAAAAAAAAAAAABIAEgAAAAAAAAAAAAAAAAAAAAAAAAAAAAAACQAJAAAAAAAAAAAAAAAKAAAAAAAKAAAAAAAJAAAAAAAAAAAAAAAAAAAAAAAAAAAAAAAAAAAAAAAAAAAAAAAAAAAAAAAAAAoAAAAAAAAACQAAAAAAAAAAAAoAAAAAAAAAAAAAAAAAAAAAAAAA",
          "dtype": "i2"
         },
         "yaxis": "y"
        },
        {
         "hovertemplate": "Município de notificação=SILVEIRAS<br>Ano=%{x}<br>Incidência Mensal=%{y}<extra></extra>",
         "legendgroup": "SILVEIRAS",
         "line": {
          "color": "#00cc96",
          "dash": "solid"
         },
         "marker": {
          "symbol": "circle"
         },
         "mode": "lines",
         "name": "SILVEIRAS",
         "showlegend": true,
         "type": "scattergl",
         "x": {
          "bdata": "2gfbB9wH3QffB+AH4QfjB+QH5gfnB+gH6QfaB9sH3AfdB98H4AfhB+MH5AfmB+cH6AfpB9oH2wfcB90H3wfgB+EH4wfkB+YH5wfoB+kH2gfbB9wH3QffB+AH4QfjB+QH5gfnB+gH6QfaB9sH3AfdB98H4AfhB+MH5AfmB+cH6AfpB9oH2wfcB90H3wfgB+EH4wfkB+YH5wfoB+kH2gfbB9wH3QffB+AH4QfjB+QH5gfnB+gH6QfaB9sH3AfdB98H4AfhB+MH5AfmB+cH6AfpB9oH2wfcB90H3wfgB+EH4wfkB+YH5wfoB+kH2gfbB9wH3QffB+AH4QfjB+QH5gfnB+gH6QfaB9sH3AfdB98H4AfhB+MH5AfmB+cH6AfpB9oH2wfcB90H3wfgB+EH4wfkB+YH5wfoB+kH",
          "dtype": "i2"
         },
         "xaxis": "x",
         "y": {
          "bdata": "AAAAABEAAAAgAAAAEAAAAF4AAAAAAA8AAAAAAAAAAAAQAAAAAAAAAAAAPwAAAAAAXwAvAAAAMwAAADEAMAAQAAAAHwBOAAAAAABMAQAAAAAAABEAEAAwAAAAAAB+AA8ADwAAAAMFHwAAAAAAEQAAAEAAAAAAAA0BDwAAAAAAhAQAAAAAAAAAAAAAEAAAAAAADwAAAAAAAAC+AB8AAAARAAAAAAAAAAAAAAAAAAAAAAAAAF8AAAAAAAAAAAAAAAAAAAAAAAAAAAAAAAAALwAAABEAAAAAAAAAAAAAAAAAAAAAAAAADwAAAAAAAAAAAAAAAAAAAAAAAAAAAAAAAAAAAAAAAAAAAAAAAAAAAAAAAAAAAB8AAAAAAAAAAAAAAAAAAAAAAAAAAAAAAAAAAAAAAAAAAAAAAAAA",
          "dtype": "i2"
         },
         "yaxis": "y"
        },
        {
         "hovertemplate": "Município de notificação=SAO BENTO DO SAPUCAI<br>Ano=%{x}<br>Incidência Mensal=%{y}<extra></extra>",
         "legendgroup": "SAO BENTO DO SAPUCAI",
         "line": {
          "color": "#ab63fa",
          "dash": "solid"
         },
         "marker": {
          "symbol": "circle"
         },
         "mode": "lines",
         "name": "SAO BENTO DO SAPUCAI",
         "showlegend": true,
         "type": "scattergl",
         "x": {
          "bdata": "2gfbB9wH3QfeB98H4AfhB+IH4wfkB+UH5wfoB+kH2gfbB9wH3QfeB98H4AfhB+IH4wfkB+UH5wfoB+kH2gfbB9wH3QfeB98H4AfhB+IH4wfkB+UH5wfoB+kH2gfbB9wH3QfeB98H4AfhB+IH4wfkB+UH5wfoB+kH2gfbB9wH3QfeB98H4AfhB+IH4wfkB+UH5wfoB+kH2gfbB9wH3QfeB98H4AfhB+IH4wfkB+UH5wfoB+kH2gfbB9wH3QfeB98H4AfhB+IH4wfkB+UH5wfoB+kH2gfbB9wH3QfeB98H4AfhB+IH4wfkB+UH5wfoB+kH2gfbB9wH3QfeB98H4AfhB+IH4wfkB+UH5wfoB+kH2gfbB9wH3QfeB98H4AfhB+IH4wfkB+UH5wfoB+kH2gfbB9wH3QfeB98H4AfhB+IH4wfkB+UH5wfoB+kH2gfbB9wH3QfeB98H4AfhB+IH4wfkB+UH5wfoB+kH",
          "dtype": "i2"
         },
         "xaxis": "x",
         "y": {
          "bdata": "AAAAAAAAAAAAAAkAAAAAAAAAAAAAAAkAAAAAAAAAAAAAAAAAAAAAAAAACQAAAAAAAAAJAAAAAAAcAQAACQAJAAAAAAAAACQAAAAAABIAAAAAAAkAAAC6AxkAAAAAAAAAEgAkAFIAAAAAAAAAAAAAABsAAADxBwgAAAAAAAAACQASAC4AAAAAAAAACQAAAAAAAAAMBgAAAAAAAAAAAAASAAAAAAAAAAAAAAAAAAAAAAAUAQAAAAAAAAAAAAAAAAAAAAAAAAAAAAAAAAAAAAApAAAAAAAAAAkAAAAAAAAAAAAAAAAAAAAAAAkAAAAAAAAAAAAAAAAAAAAAAAAAAAAAAAAAAAAAAAAACQAhAAAAAAAAAAAAAAAAAAAAAAAAAAAAAAAAAAAAAAAIAAAAAAAAAAAAAAAAAAAAAAAAAAAAAAAAAAAACQAIAAAAAAAAAAAAAAAAAAAAAAAJAAAAAAAAAAAAAAAhAAAA",
          "dtype": "i2"
         },
         "yaxis": "y"
        },
        {
         "hovertemplate": "Município de notificação=AREIAS<br>Ano=%{x}<br>Incidência Mensal=%{y}<extra></extra>",
         "legendgroup": "AREIAS",
         "line": {
          "color": "#FFA15A",
          "dash": "solid"
         },
         "marker": {
          "symbol": "circle"
         },
         "mode": "lines",
         "name": "AREIAS",
         "showlegend": true,
         "type": "scattergl",
         "x": {
          "bdata": "2gfbB90H3gffB+AH4QfiB+MH5AfmB+cH6AfpB9oH2wfdB94H3wfgB+EH4gfjB+QH5gfnB+gH6QfaB9sH3QfeB98H4AfhB+IH4wfkB+YH5wfoB+kH2gfbB90H3gffB+AH4QfiB+MH5AfmB+cH6AfpB9oH2wfdB94H3wfgB+EH4gfjB+QH5gfnB+gH6QfaB9sH3QfeB98H4AfhB+IH4wfkB+YH5wfoB+kH2gfbB90H3gffB+AH4QfiB+MH5AfmB+cH6AfpB9oH2wfdB94H3wfgB+EH4gfjB+QH5gfnB+gH6QfaB9sH3QfeB98H4AfhB+IH4wfkB+YH5wfoB+kH2gfbB90H3gffB+AH4QfiB+MH5AfmB+cH6AfpB9oH2wfdB94H3wfgB+EH4gfjB+QH5gfnB+gH6QfaB9sH3QfeB98H4AfhB+IH4wfkB+YH5wfoB+kH",
          "dtype": "i2"
         },
         "xaxis": "x",
         "y": {
          "bdata": "AAAAABoAGQAAAAAAAAAAAAAAAAAAAAAAwQAAAAAAAACcABkAAABNABkAAAAAAAAAAAAAAGYBAAAAABoABAEAAIEAGQAAAAAAMwBNAAAAmQBPBBsAAAAAAE4AGQAAAAAAAAAZADMAGgEAAEwAewkAABsAAAAAAAAATQAAAAAAAAAAALMAMwAAAGsEAAAAABoAAAAAAAAAAAAAAAAAMwAAAAAAAADcAAAAAAAAAAAAAAAZAAAAAAAAAAAAAAAAAAAAAAAAAAAAAAAAAAAAAAAAAAAAAAAAAAAAAAAAAAAAGwAAAAAAAAAAAAAAGQAAADMAAAAAAAAAGQAAAAAAAAAAABoAAAAZAAAAAAAAAAAAAAAzAAAAAAAAAAAAAAAAAAAAAAAAAAAAAAAAAAAAAAAAAAAAAAAAAAAAAAAAAAAAAAAAAAAAAAAAAAAAGQAAAAAA",
          "dtype": "i2"
         },
         "yaxis": "y"
        },
        {
         "hovertemplate": "Município de notificação=BANANAL<br>Ano=%{x}<br>Incidência Mensal=%{y}<extra></extra>",
         "legendgroup": "BANANAL",
         "line": {
          "color": "#19d3f3",
          "dash": "solid"
         },
         "marker": {
          "symbol": "circle"
         },
         "mode": "lines",
         "name": "BANANAL",
         "showlegend": true,
         "type": "scattergl",
         "x": {
          "bdata": "2gfbB90H3gffB+AH4gfjB+QH5QfmB+cH6AfpB9oH2wfdB94H3wfgB+IH4wfkB+UH5gfnB+gH6QfaB9sH3QfeB98H4AfiB+MH5AflB+YH5wfoB+kH2gfbB90H3gffB+AH4gfjB+QH5QfmB+cH6AfpB9oH2wfdB94H3wfgB+IH4wfkB+UH5gfnB+gH6QfaB9sH3QfeB98H4AfiB+MH5AflB+YH5wfoB+kH2gfbB90H3gffB+AH4gfjB+QH5QfmB+cH6AfpB9oH2wfdB94H3wfgB+IH4wfkB+UH5gfnB+gH6QfaB9sH3QfeB98H4AfiB+MH5AflB+YH5wfoB+kH2gfbB90H3gffB+AH4gfjB+QH5QfmB+cH6AfpB9oH2wfdB94H3wfgB+IH4wfkB+UH5gfnB+gH6QfaB9sH3QfeB98H4AfiB+MH5AflB+YH5wfoB+kH",
          "dtype": "i2"
         },
         "xaxis": "x",
         "y": {
          "bdata": "AAAJAAkAEgAbACQAAAAAAAAAAAAJAAAAbAAAAAAAAABUAAkANgIkAAkAAAAAAAkAAAAAAO4BWgEvABMAqAAAAC0HAAAAAAAAAAAbAAAAAADEB9kAhACIALgBAACgAxIAAABSAAkAAAAAAAAAFAmyAGgARAAYARsAiwAJAAAAWwAJAAAAAAAAAKsDdgDHAAAASgAAAC4AAAAAABsAAAAJAAkAAADFAAkAHAAJAEEACQAAAAAAAAAJAAkAAAAAAAkAWQAAAAAAAAAAAAAAAAAAAAAACQAAAAAAAAAAAAAAEwAAAAAAAAAAAAAAAAAAAAAAAAAAAAAAAAAAAAAAAAAAAAAAAAAAAAAAAAAAAAAAAAAAAAAAAAAAAAAAAAAAAAAAAAAAAAAAAAAAAAAAAAAAABMAAAAJAAAAHAAAAAAAAAAAAAAAAAAAAAAACQAAAAAA",
          "dtype": "i2"
         },
         "yaxis": "y"
        },
        {
         "hovertemplate": "Município de notificação=CANAS<br>Ano=%{x}<br>Incidência Mensal=%{y}<extra></extra>",
         "legendgroup": "CANAS",
         "line": {
          "color": "#FF6692",
          "dash": "solid"
         },
         "marker": {
          "symbol": "circle"
         },
         "mode": "lines",
         "name": "CANAS",
         "showlegend": true,
         "type": "scattergl",
         "x": {
          "bdata": "2wfcB90H3wfgB+EH4gfjB+QH5QfmB+cH6AfpB9sH3AfdB98H4AfhB+IH4wfkB+UH5gfnB+gH6QfbB9wH3QffB+AH4QfiB+MH5AflB+YH5wfoB+kH2wfcB90H3wfgB+EH4gfjB+QH5QfmB+cH6AfpB9sH3AfdB98H4AfhB+IH4wfkB+UH5gfnB+gH6QfbB9wH3QffB+AH4QfiB+MH5AflB+YH5wfoB+kH2wfcB90H3wfgB+EH4gfjB+QH5QfmB+cH6AfpB9sH3AfdB98H4AfhB+IH4wfkB+UH5gfnB+gH6QfbB9wH3QffB+AH4QfiB+MH5AflB+YH5wfoB+kH2wfcB90H3wfgB+EH4gfjB+QH5QfmB+cH6AfpB9sH3AfdB98H4AfhB+IH4wfkB+UH5gfnB+gH6QfbB9wH3QffB+AH4QfiB+MH5AflB+YH5wfoB+kH",
          "dtype": "i2"
         },
         "xaxis": "x",
         "y": {
          "bdata": "AAAAAAAAAAAAAAAAEwAAACABAAAAAAAAAAAAAFkAFgAAACkAjgAUAAAAAABzAwAAEgAAAAICJwANAW8AAABnAHoAAAAAAAAAAAMAAAAAAAC5BQAAwQFvACoA4gAUAAAAAAAAANMAAAAAADgALAMAAMEBLAAVAFIAAAAAAAAAAABgABIAAAAAAPIDEwBZAAAAAAAAAAAAAAAAAAAAEwAAAAAAAAAnAAAAAAAAAAAAAAAAAAAAAAAAABMAEgAAAAAAAAAAAAAAFgAAAAAAAAAAAAAAAAATAAAAAAAAAAAAAAAAAAAAAAAAAAAAAAAAAAAAAAAAAAAAAAAAAAAAAAAAAAAAAAAAAAAAAAAAAAAAAAAAAAAAAAAAAAAAAAAVAAAAAAAAAAAAAAAAAAAAAAAAAAAAAAAWAAAAAAAAAAAAAAAAABMAJgAAAAAAAAAAAAAA",
          "dtype": "i2"
         },
         "yaxis": "y"
        },
        {
         "hovertemplate": "Município de notificação=ARAPEI<br>Ano=%{x}<br>Incidência Mensal=%{y}<extra></extra>",
         "legendgroup": "ARAPEI",
         "line": {
          "color": "#B6E880",
          "dash": "solid"
         },
         "marker": {
          "symbol": "circle"
         },
         "mode": "lines",
         "name": "ARAPEI",
         "showlegend": true,
         "type": "scattergl",
         "x": {
          "bdata": "3wfgB+MH5AfoB+kH3wfgB+MH5AfoB+kH3wfgB+MH5AfoB+kH3wfgB+MH5AfoB+kH3wfgB+MH5AfoB+kH3wfgB+MH5AfoB+kH3wfgB+MH5AfoB+kH3wfgB+MH5AfoB+kH3wfgB+MH5AfoB+kH3wfgB+MH5AfoB+kH3wfgB+MH5AfoB+kH3wfgB+MH5AfoB+kH",
          "dtype": "i2"
         },
         "xaxis": "x",
         "y": {
          "bdata": "dgAnAAAAKABUAAAABgQnAAAAAAD9ASoAwAkAACgAAACZDX8AAAAAAAAAogCkBAAAAAAAAAAAAAApAQAAAAAAAAAAAAAAAAAAAAAAAAAAAAAAAAAAAAAAAAAAAAAAAAAAAAAAAAAAAAAAAAAAAAAAAAAAAAAAAAAAAAAAAAAAAAAAAAAAAAAAAAAAAAAAAAAA",
          "dtype": "i2"
         },
         "yaxis": "y"
        },
        {
         "line": {
          "color": "green",
          "dash": "dash",
          "width": 2
         },
         "mode": "lines",
         "name": "Low Incidence (<100)",
         "showlegend": true,
         "type": "scatter",
         "x": [
          2007,
          2025
         ],
         "y": [
          100,
          100
         ]
        },
        {
         "line": {
          "color": "orange",
          "dash": "dash",
          "width": 2
         },
         "mode": "lines",
         "name": "Medium Incidence (100-300)",
         "showlegend": true,
         "type": "scatter",
         "x": [
          2007,
          2025
         ],
         "y": [
          300,
          300
         ]
        },
        {
         "line": {
          "color": "red",
          "dash": "dash",
          "width": 2
         },
         "mode": "lines",
         "name": "High Incidence (>300)",
         "showlegend": true,
         "type": "scatter",
         "x": [
          2007,
          2025
         ],
         "y": [
          1000,
          1000
         ]
        }
       ],
       "layout": {
        "legend": {
         "title": {
          "text": "Município de notificação"
         },
         "tracegroupgap": 0
        },
        "showlegend": true,
        "template": {
         "data": {
          "bar": [
           {
            "error_x": {
             "color": "#2a3f5f"
            },
            "error_y": {
             "color": "#2a3f5f"
            },
            "marker": {
             "line": {
              "color": "#E5ECF6",
              "width": 0.5
             },
             "pattern": {
              "fillmode": "overlay",
              "size": 10,
              "solidity": 0.2
             }
            },
            "type": "bar"
           }
          ],
          "barpolar": [
           {
            "marker": {
             "line": {
              "color": "#E5ECF6",
              "width": 0.5
             },
             "pattern": {
              "fillmode": "overlay",
              "size": 10,
              "solidity": 0.2
             }
            },
            "type": "barpolar"
           }
          ],
          "carpet": [
           {
            "aaxis": {
             "endlinecolor": "#2a3f5f",
             "gridcolor": "white",
             "linecolor": "white",
             "minorgridcolor": "white",
             "startlinecolor": "#2a3f5f"
            },
            "baxis": {
             "endlinecolor": "#2a3f5f",
             "gridcolor": "white",
             "linecolor": "white",
             "minorgridcolor": "white",
             "startlinecolor": "#2a3f5f"
            },
            "type": "carpet"
           }
          ],
          "choropleth": [
           {
            "colorbar": {
             "outlinewidth": 0,
             "ticks": ""
            },
            "type": "choropleth"
           }
          ],
          "contour": [
           {
            "colorbar": {
             "outlinewidth": 0,
             "ticks": ""
            },
            "colorscale": [
             [
              0,
              "#0d0887"
             ],
             [
              0.1111111111111111,
              "#46039f"
             ],
             [
              0.2222222222222222,
              "#7201a8"
             ],
             [
              0.3333333333333333,
              "#9c179e"
             ],
             [
              0.4444444444444444,
              "#bd3786"
             ],
             [
              0.5555555555555556,
              "#d8576b"
             ],
             [
              0.6666666666666666,
              "#ed7953"
             ],
             [
              0.7777777777777778,
              "#fb9f3a"
             ],
             [
              0.8888888888888888,
              "#fdca26"
             ],
             [
              1,
              "#f0f921"
             ]
            ],
            "type": "contour"
           }
          ],
          "contourcarpet": [
           {
            "colorbar": {
             "outlinewidth": 0,
             "ticks": ""
            },
            "type": "contourcarpet"
           }
          ],
          "heatmap": [
           {
            "colorbar": {
             "outlinewidth": 0,
             "ticks": ""
            },
            "colorscale": [
             [
              0,
              "#0d0887"
             ],
             [
              0.1111111111111111,
              "#46039f"
             ],
             [
              0.2222222222222222,
              "#7201a8"
             ],
             [
              0.3333333333333333,
              "#9c179e"
             ],
             [
              0.4444444444444444,
              "#bd3786"
             ],
             [
              0.5555555555555556,
              "#d8576b"
             ],
             [
              0.6666666666666666,
              "#ed7953"
             ],
             [
              0.7777777777777778,
              "#fb9f3a"
             ],
             [
              0.8888888888888888,
              "#fdca26"
             ],
             [
              1,
              "#f0f921"
             ]
            ],
            "type": "heatmap"
           }
          ],
          "histogram": [
           {
            "marker": {
             "pattern": {
              "fillmode": "overlay",
              "size": 10,
              "solidity": 0.2
             }
            },
            "type": "histogram"
           }
          ],
          "histogram2d": [
           {
            "colorbar": {
             "outlinewidth": 0,
             "ticks": ""
            },
            "colorscale": [
             [
              0,
              "#0d0887"
             ],
             [
              0.1111111111111111,
              "#46039f"
             ],
             [
              0.2222222222222222,
              "#7201a8"
             ],
             [
              0.3333333333333333,
              "#9c179e"
             ],
             [
              0.4444444444444444,
              "#bd3786"
             ],
             [
              0.5555555555555556,
              "#d8576b"
             ],
             [
              0.6666666666666666,
              "#ed7953"
             ],
             [
              0.7777777777777778,
              "#fb9f3a"
             ],
             [
              0.8888888888888888,
              "#fdca26"
             ],
             [
              1,
              "#f0f921"
             ]
            ],
            "type": "histogram2d"
           }
          ],
          "histogram2dcontour": [
           {
            "colorbar": {
             "outlinewidth": 0,
             "ticks": ""
            },
            "colorscale": [
             [
              0,
              "#0d0887"
             ],
             [
              0.1111111111111111,
              "#46039f"
             ],
             [
              0.2222222222222222,
              "#7201a8"
             ],
             [
              0.3333333333333333,
              "#9c179e"
             ],
             [
              0.4444444444444444,
              "#bd3786"
             ],
             [
              0.5555555555555556,
              "#d8576b"
             ],
             [
              0.6666666666666666,
              "#ed7953"
             ],
             [
              0.7777777777777778,
              "#fb9f3a"
             ],
             [
              0.8888888888888888,
              "#fdca26"
             ],
             [
              1,
              "#f0f921"
             ]
            ],
            "type": "histogram2dcontour"
           }
          ],
          "mesh3d": [
           {
            "colorbar": {
             "outlinewidth": 0,
             "ticks": ""
            },
            "type": "mesh3d"
           }
          ],
          "parcoords": [
           {
            "line": {
             "colorbar": {
              "outlinewidth": 0,
              "ticks": ""
             }
            },
            "type": "parcoords"
           }
          ],
          "pie": [
           {
            "automargin": true,
            "type": "pie"
           }
          ],
          "scatter": [
           {
            "fillpattern": {
             "fillmode": "overlay",
             "size": 10,
             "solidity": 0.2
            },
            "type": "scatter"
           }
          ],
          "scatter3d": [
           {
            "line": {
             "colorbar": {
              "outlinewidth": 0,
              "ticks": ""
             }
            },
            "marker": {
             "colorbar": {
              "outlinewidth": 0,
              "ticks": ""
             }
            },
            "type": "scatter3d"
           }
          ],
          "scattercarpet": [
           {
            "marker": {
             "colorbar": {
              "outlinewidth": 0,
              "ticks": ""
             }
            },
            "type": "scattercarpet"
           }
          ],
          "scattergeo": [
           {
            "marker": {
             "colorbar": {
              "outlinewidth": 0,
              "ticks": ""
             }
            },
            "type": "scattergeo"
           }
          ],
          "scattergl": [
           {
            "marker": {
             "colorbar": {
              "outlinewidth": 0,
              "ticks": ""
             }
            },
            "type": "scattergl"
           }
          ],
          "scattermap": [
           {
            "marker": {
             "colorbar": {
              "outlinewidth": 0,
              "ticks": ""
             }
            },
            "type": "scattermap"
           }
          ],
          "scattermapbox": [
           {
            "marker": {
             "colorbar": {
              "outlinewidth": 0,
              "ticks": ""
             }
            },
            "type": "scattermapbox"
           }
          ],
          "scatterpolar": [
           {
            "marker": {
             "colorbar": {
              "outlinewidth": 0,
              "ticks": ""
             }
            },
            "type": "scatterpolar"
           }
          ],
          "scatterpolargl": [
           {
            "marker": {
             "colorbar": {
              "outlinewidth": 0,
              "ticks": ""
             }
            },
            "type": "scatterpolargl"
           }
          ],
          "scatterternary": [
           {
            "marker": {
             "colorbar": {
              "outlinewidth": 0,
              "ticks": ""
             }
            },
            "type": "scatterternary"
           }
          ],
          "surface": [
           {
            "colorbar": {
             "outlinewidth": 0,
             "ticks": ""
            },
            "colorscale": [
             [
              0,
              "#0d0887"
             ],
             [
              0.1111111111111111,
              "#46039f"
             ],
             [
              0.2222222222222222,
              "#7201a8"
             ],
             [
              0.3333333333333333,
              "#9c179e"
             ],
             [
              0.4444444444444444,
              "#bd3786"
             ],
             [
              0.5555555555555556,
              "#d8576b"
             ],
             [
              0.6666666666666666,
              "#ed7953"
             ],
             [
              0.7777777777777778,
              "#fb9f3a"
             ],
             [
              0.8888888888888888,
              "#fdca26"
             ],
             [
              1,
              "#f0f921"
             ]
            ],
            "type": "surface"
           }
          ],
          "table": [
           {
            "cells": {
             "fill": {
              "color": "#EBF0F8"
             },
             "line": {
              "color": "white"
             }
            },
            "header": {
             "fill": {
              "color": "#C8D4E3"
             },
             "line": {
              "color": "white"
             }
            },
            "type": "table"
           }
          ]
         },
         "layout": {
          "annotationdefaults": {
           "arrowcolor": "#2a3f5f",
           "arrowhead": 0,
           "arrowwidth": 1
          },
          "autotypenumbers": "strict",
          "coloraxis": {
           "colorbar": {
            "outlinewidth": 0,
            "ticks": ""
           }
          },
          "colorscale": {
           "diverging": [
            [
             0,
             "#8e0152"
            ],
            [
             0.1,
             "#c51b7d"
            ],
            [
             0.2,
             "#de77ae"
            ],
            [
             0.3,
             "#f1b6da"
            ],
            [
             0.4,
             "#fde0ef"
            ],
            [
             0.5,
             "#f7f7f7"
            ],
            [
             0.6,
             "#e6f5d0"
            ],
            [
             0.7,
             "#b8e186"
            ],
            [
             0.8,
             "#7fbc41"
            ],
            [
             0.9,
             "#4d9221"
            ],
            [
             1,
             "#276419"
            ]
           ],
           "sequential": [
            [
             0,
             "#0d0887"
            ],
            [
             0.1111111111111111,
             "#46039f"
            ],
            [
             0.2222222222222222,
             "#7201a8"
            ],
            [
             0.3333333333333333,
             "#9c179e"
            ],
            [
             0.4444444444444444,
             "#bd3786"
            ],
            [
             0.5555555555555556,
             "#d8576b"
            ],
            [
             0.6666666666666666,
             "#ed7953"
            ],
            [
             0.7777777777777778,
             "#fb9f3a"
            ],
            [
             0.8888888888888888,
             "#fdca26"
            ],
            [
             1,
             "#f0f921"
            ]
           ],
           "sequentialminus": [
            [
             0,
             "#0d0887"
            ],
            [
             0.1111111111111111,
             "#46039f"
            ],
            [
             0.2222222222222222,
             "#7201a8"
            ],
            [
             0.3333333333333333,
             "#9c179e"
            ],
            [
             0.4444444444444444,
             "#bd3786"
            ],
            [
             0.5555555555555556,
             "#d8576b"
            ],
            [
             0.6666666666666666,
             "#ed7953"
            ],
            [
             0.7777777777777778,
             "#fb9f3a"
            ],
            [
             0.8888888888888888,
             "#fdca26"
            ],
            [
             1,
             "#f0f921"
            ]
           ]
          },
          "colorway": [
           "#636efa",
           "#EF553B",
           "#00cc96",
           "#ab63fa",
           "#FFA15A",
           "#19d3f3",
           "#FF6692",
           "#B6E880",
           "#FF97FF",
           "#FECB52"
          ],
          "font": {
           "color": "#2a3f5f"
          },
          "geo": {
           "bgcolor": "white",
           "lakecolor": "white",
           "landcolor": "#E5ECF6",
           "showlakes": true,
           "showland": true,
           "subunitcolor": "white"
          },
          "hoverlabel": {
           "align": "left"
          },
          "hovermode": "closest",
          "mapbox": {
           "style": "light"
          },
          "paper_bgcolor": "white",
          "plot_bgcolor": "#E5ECF6",
          "polar": {
           "angularaxis": {
            "gridcolor": "white",
            "linecolor": "white",
            "ticks": ""
           },
           "bgcolor": "#E5ECF6",
           "radialaxis": {
            "gridcolor": "white",
            "linecolor": "white",
            "ticks": ""
           }
          },
          "scene": {
           "xaxis": {
            "backgroundcolor": "#E5ECF6",
            "gridcolor": "white",
            "gridwidth": 2,
            "linecolor": "white",
            "showbackground": true,
            "ticks": "",
            "zerolinecolor": "white"
           },
           "yaxis": {
            "backgroundcolor": "#E5ECF6",
            "gridcolor": "white",
            "gridwidth": 2,
            "linecolor": "white",
            "showbackground": true,
            "ticks": "",
            "zerolinecolor": "white"
           },
           "zaxis": {
            "backgroundcolor": "#E5ECF6",
            "gridcolor": "white",
            "gridwidth": 2,
            "linecolor": "white",
            "showbackground": true,
            "ticks": "",
            "zerolinecolor": "white"
           }
          },
          "shapedefaults": {
           "line": {
            "color": "#2a3f5f"
           }
          },
          "ternary": {
           "aaxis": {
            "gridcolor": "white",
            "linecolor": "white",
            "ticks": ""
           },
           "baxis": {
            "gridcolor": "white",
            "linecolor": "white",
            "ticks": ""
           },
           "bgcolor": "#E5ECF6",
           "caxis": {
            "gridcolor": "white",
            "linecolor": "white",
            "ticks": ""
           }
          },
          "title": {
           "x": 0.05
          },
          "xaxis": {
           "automargin": true,
           "gridcolor": "white",
           "linecolor": "white",
           "ticks": "",
           "title": {
            "standoff": 15
           },
           "zerolinecolor": "white",
           "zerolinewidth": 2
          },
          "yaxis": {
           "automargin": true,
           "gridcolor": "white",
           "linecolor": "white",
           "ticks": "",
           "title": {
            "standoff": 15
           },
           "zerolinecolor": "white",
           "zerolinewidth": 2
          }
         }
        },
        "title": {
         "text": "Incidencia mensal de Dengue no RMVale (2007-2025)"
        },
        "xaxis": {
         "anchor": "y",
         "domain": [
          0,
          1
         ],
         "title": {
          "text": "Year"
         }
        },
        "yaxis": {
         "anchor": "x",
         "domain": [
          0,
          1
         ],
         "title": {
          "text": "Incidencia de dengue mensal por 100 mil Habitantes"
         }
        }
       }
      }
     },
     "metadata": {},
     "output_type": "display_data"
    }
   ],
   "source": [
    "dados_melted = dados.melt(\n",
    "    id_vars=[\"Município de notificação\", \"Codigo Município\", \"Total\", \"Ano\"],\n",
    "    value_vars=month_columns,\n",
    "    var_name=\"Month\",\n",
    "    value_name=\"Incidência Mensal\",\n",
    ")\n",
    "\n",
    "fig = px.line(\n",
    "    dados_melted,\n",
    "    x=\"Ano\",\n",
    "    y=\"Incidência Mensal\",\n",
    "    color=\"Município de notificação\",\n",
    "    title=\"Incidencia mensal de Dengue no RMVale (2007-2025)\",\n",
    ")\n",
    "fig.update_layout(\n",
    "    xaxis_title=\"Year\", yaxis_title=\"Incidencia de dengue mensal por 100 mil Habitantes\"\n",
    ")\n",
    "\n",
    "fig.add_trace(\n",
    "    go.Scatter(\n",
    "        x=[dados_melted[\"Ano\"].min(), dados_melted[\"Ano\"].max()],\n",
    "        y=[100, 100],\n",
    "        mode=\"lines\",\n",
    "        line=dict(color=\"green\", width=2, dash=\"dash\"),\n",
    "        name=\"Low Incidence (<100)\",\n",
    "        showlegend=True,\n",
    "    )\n",
    ")\n",
    "fig.add_trace(\n",
    "    go.Scatter(\n",
    "        x=[dados_melted[\"Ano\"].min(), dados_melted[\"Ano\"].max()],\n",
    "        y=[300, 300],\n",
    "        mode=\"lines\",\n",
    "        line=dict(color=\"orange\", width=2, dash=\"dash\"),\n",
    "        name=\"Medium Incidence (100-300)\",\n",
    "        showlegend=True,\n",
    "    )\n",
    ")\n",
    "fig.add_trace(\n",
    "    go.Scatter(\n",
    "        x=[dados_melted[\"Ano\"].min(), dados_melted[\"Ano\"].max()],\n",
    "        y=[1000, 1000],\n",
    "        mode=\"lines\",\n",
    "        line=dict(color=\"red\", width=2, dash=\"dash\"),\n",
    "        name=\"High Incidence (>300)\",\n",
    "        showlegend=True,\n",
    "    )\n",
    ")\n",
    "\n",
    "fig.update_layout(showlegend=True)\n",
    "\n",
    "fig.show()"
   ]
  },
  {
   "cell_type": "code",
   "execution_count": 48,
   "metadata": {},
   "outputs": [
    {
     "data": {
      "text/plain": [
       "Index(['Município de notificação', 'Codigo Município', 'Jan', 'Fev', 'Mar',\n",
       "       'Abr', 'Mai', 'Jun', 'Jul', 'Ago', 'Set', 'Out', 'Nov', 'Dez', 'Total',\n",
       "       'Ano', 'Populacao'],\n",
       "      dtype='object')"
      ]
     },
     "metadata": {},
     "output_type": "display_data"
    }
   ],
   "source": [
    "# Conferir nomes das colunas do DataFrame\n",
    "display(dados.columns)"
   ]
  },
  {
   "cell_type": "code",
   "execution_count": 49,
   "metadata": {
    "colab": {
     "base_uri": "https://localhost:8080/",
     "height": 542
    },
    "id": "4402bf72",
    "outputId": "5ee090c4-e583-483c-9652-4886862d310a"
   },
   "outputs": [
    {
     "data": {
      "application/vnd.plotly.v1+json": {
       "config": {
        "plotlyServerURL": "https://plot.ly"
       },
       "data": [
        {
         "hovertemplate": "Município de notificação=APARECIDA<br>Ano=%{x}<br>Dez=%{y}<extra></extra>",
         "legendgroup": "APARECIDA",
         "line": {
          "color": "#636efa",
          "dash": "solid"
         },
         "marker": {
          "symbol": "circle"
         },
         "mode": "lines",
         "name": "APARECIDA",
         "orientation": "v",
         "showlegend": true,
         "type": "scatter",
         "x": {
          "bdata": "1wfYB9oH2wfcB90H3gffB+AH4QfiB+MH5AflB+YH5wfoB+kH",
          "dtype": "i2"
         },
         "xaxis": "x",
         "y": {
          "bdata": "AAAAAAAABQACAAAABQAQAAAAAAAAAJgAJgAIAAsAAgADAAAA",
          "dtype": "i2"
         },
         "yaxis": "y"
        },
        {
         "hovertemplate": "Município de notificação=TREMEMBE<br>Ano=%{x}<br>Dez=%{y}<extra></extra>",
         "legendgroup": "TREMEMBE",
         "line": {
          "color": "#EF553B",
          "dash": "solid"
         },
         "marker": {
          "symbol": "circle"
         },
         "mode": "lines",
         "name": "TREMEMBE",
         "orientation": "v",
         "showlegend": true,
         "type": "scatter",
         "x": {
          "bdata": "1wfaB9sH3AfdB94H3wfgB+EH4gfjB+QH5QfmB+cH6AfpBw==",
          "dtype": "i2"
         },
         "xaxis": "x",
         "y": {
          "bdata": "AAACAAwABAAAAAIAQAAGAAAAAAAAAAAAAAAGAIoAGAAAAA==",
          "dtype": "i2"
         },
         "yaxis": "y"
        },
        {
         "hovertemplate": "Município de notificação=TAUBATE<br>Ano=%{x}<br>Dez=%{y}<extra></extra>",
         "legendgroup": "TAUBATE",
         "line": {
          "color": "#00cc96",
          "dash": "solid"
         },
         "marker": {
          "symbol": "circle"
         },
         "mode": "lines",
         "name": "TAUBATE",
         "orientation": "v",
         "showlegend": true,
         "type": "scatter",
         "x": {
          "bdata": "1wfYB9kH2gfbB9wH3QfeB98H4AfhB+IH4wfkB+UH5gfnB+gH6Qc=",
          "dtype": "i2"
         },
         "xaxis": "x",
         "y": {
          "bdata": "AAABEAYBBQglBwMECQUAAy4PAQ==",
          "dtype": "i1"
         },
         "yaxis": "y"
        },
        {
         "hovertemplate": "Município de notificação=SAO SEBASTIAO<br>Ano=%{x}<br>Dez=%{y}<extra></extra>",
         "legendgroup": "SAO SEBASTIAO",
         "line": {
          "color": "#ab63fa",
          "dash": "solid"
         },
         "marker": {
          "symbol": "circle"
         },
         "mode": "lines",
         "name": "SAO SEBASTIAO",
         "orientation": "v",
         "showlegend": true,
         "type": "scatter",
         "x": {
          "bdata": "1wfYB9kH2gfbB9wH3QfeB98H4AfhB+IH4wfkB+UH5gfnB+gH6Qc=",
          "dtype": "i2"
         },
         "xaxis": "x",
         "y": {
          "bdata": "BgEEQQ4GAicAAgUdUxUIBhYJBQ==",
          "dtype": "i1"
         },
         "yaxis": "y"
        },
        {
         "hovertemplate": "Município de notificação=SAO LUIS DO PARAITINGA<br>Ano=%{x}<br>Dez=%{y}<extra></extra>",
         "legendgroup": "SAO LUIS DO PARAITINGA",
         "line": {
          "color": "#FFA15A",
          "dash": "solid"
         },
         "marker": {
          "symbol": "circle"
         },
         "mode": "lines",
         "name": "SAO LUIS DO PARAITINGA",
         "orientation": "v",
         "showlegend": true,
         "type": "scatter",
         "x": {
          "bdata": "1wfZB9sH3AfdB94H3wfgB+MH5AfmB+gH6Qc=",
          "dtype": "i2"
         },
         "xaxis": "x",
         "y": {
          "bdata": "AAAAAAkAGwAAAAAAAA==",
          "dtype": "i1"
         },
         "yaxis": "y"
        },
        {
         "hovertemplate": "Município de notificação=SAO JOSE DOS CAMPOS<br>Ano=%{x}<br>Dez=%{y}<extra></extra>",
         "legendgroup": "SAO JOSE DOS CAMPOS",
         "line": {
          "color": "#19d3f3",
          "dash": "solid"
         },
         "marker": {
          "symbol": "circle"
         },
         "mode": "lines",
         "name": "SAO JOSE DOS CAMPOS",
         "orientation": "v",
         "showlegend": true,
         "type": "scatter",
         "x": {
          "bdata": "1wfYB9kH2gfbB9wH3QfeB98H4AfhB+IH4wfkB+UH5gfnB+gH6Qc=",
          "dtype": "i2"
         },
         "xaxis": "x",
         "y": {
          "bdata": "BAAAAQABAwMSCQYCAgEBAw0LAQ==",
          "dtype": "i1"
         },
         "yaxis": "y"
        },
        {
         "hovertemplate": "Município de notificação=SAO JOSE DO BARREIRO<br>Ano=%{x}<br>Dez=%{y}<extra></extra>",
         "legendgroup": "SAO JOSE DO BARREIRO",
         "line": {
          "color": "#FF6692",
          "dash": "solid"
         },
         "marker": {
          "symbol": "circle"
         },
         "mode": "lines",
         "name": "SAO JOSE DO BARREIRO",
         "orientation": "v",
         "showlegend": true,
         "type": "scatter",
         "x": {
          "bdata": "1wfdB94H3wfiB+MH5AfnB+gH6Qc=",
          "dtype": "i2"
         },
         "xaxis": "x",
         "y": {
          "bdata": "ABcAAAAAAAAAAA==",
          "dtype": "i1"
         },
         "yaxis": "y"
        },
        {
         "hovertemplate": "Município de notificação=SANTO ANTONIO DO PINHAL<br>Ano=%{x}<br>Dez=%{y}<extra></extra>",
         "legendgroup": "SANTO ANTONIO DO PINHAL",
         "line": {
          "color": "#B6E880",
          "dash": "solid"
         },
         "marker": {
          "symbol": "circle"
         },
         "mode": "lines",
         "name": "SANTO ANTONIO DO PINHAL",
         "orientation": "v",
         "showlegend": true,
         "type": "scatter",
         "x": {
          "bdata": "1wfYB94H3wfgB+IH4wfkB+UH5gfnB+gH6Qc=",
          "dtype": "i2"
         },
         "xaxis": "x",
         "y": {
          "bdata": "AAAAAAAOAAAAAAAAAA==",
          "dtype": "i1"
         },
         "yaxis": "y"
        },
        {
         "hovertemplate": "Município de notificação=SANTA BRANCA<br>Ano=%{x}<br>Dez=%{y}<extra></extra>",
         "legendgroup": "SANTA BRANCA",
         "line": {
          "color": "#FF97FF",
          "dash": "solid"
         },
         "marker": {
          "symbol": "circle"
         },
         "mode": "lines",
         "name": "SANTA BRANCA",
         "orientation": "v",
         "showlegend": true,
         "type": "scatter",
         "x": {
          "bdata": "1wfYB9oH2wfcB90H3gffB+AH4QfiB+MH5QfmB+cH6AfpBw==",
          "dtype": "i2"
         },
         "xaxis": "x",
         "y": {
          "bdata": "AAAAAAAABjAAAAAAAAAAVAA=",
          "dtype": "i1"
         },
         "yaxis": "y"
        },
        {
         "hovertemplate": "Município de notificação=QUELUZ<br>Ano=%{x}<br>Dez=%{y}<extra></extra>",
         "legendgroup": "QUELUZ",
         "line": {
          "color": "#FECB52",
          "dash": "solid"
         },
         "marker": {
          "symbol": "circle"
         },
         "mode": "lines",
         "name": "QUELUZ",
         "orientation": "v",
         "showlegend": true,
         "type": "scatter",
         "x": {
          "bdata": "1wfYB9oH2wfcB90H3gffB+AH4QfjB+QH5QfmB+cH6AfpBw==",
          "dtype": "i2"
         },
         "xaxis": "x",
         "y": {
          "bdata": "AAAAAAAICA8ABwAAAAcAAAA=",
          "dtype": "i1"
         },
         "yaxis": "y"
        },
        {
         "hovertemplate": "Município de notificação=POTIM<br>Ano=%{x}<br>Dez=%{y}<extra></extra>",
         "legendgroup": "POTIM",
         "line": {
          "color": "#636efa",
          "dash": "solid"
         },
         "marker": {
          "symbol": "circle"
         },
         "mode": "lines",
         "name": "POTIM",
         "orientation": "v",
         "showlegend": true,
         "type": "scatter",
         "x": {
          "bdata": "1wfYB9kH2gfbB9wH3QfeB98H4AfhB+IH4wfkB+UH5gfnB+gH6Qc=",
          "dtype": "i2"
         },
         "xaxis": "x",
         "y": {
          "bdata": "AAAAAAAAAAAjBYAACQAkAAAABAAEAAwA4BTaA1kALgATAJUADgA=",
          "dtype": "i2"
         },
         "yaxis": "y"
        },
        {
         "hovertemplate": "Município de notificação=PINDAMONHANGABA<br>Ano=%{x}<br>Dez=%{y}<extra></extra>",
         "legendgroup": "PINDAMONHANGABA",
         "line": {
          "color": "#EF553B",
          "dash": "solid"
         },
         "marker": {
          "symbol": "circle"
         },
         "mode": "lines",
         "name": "PINDAMONHANGABA",
         "orientation": "v",
         "showlegend": true,
         "type": "scatter",
         "x": {
          "bdata": "1wfYB9kH2gfbB9wH3QfeB98H4AfhB+IH4wfkB+UH5gfnB+gH6Qc=",
          "dtype": "i2"
         },
         "xaxis": "x",
         "y": {
          "bdata": "AAAAAAAAAgACAAAAAQAFAAcAAQABAAEACAARAAEABAC7ATkAAAA=",
          "dtype": "i2"
         },
         "yaxis": "y"
        },
        {
         "hovertemplate": "Município de notificação=PARAIBUNA<br>Ano=%{x}<br>Dez=%{y}<extra></extra>",
         "legendgroup": "PARAIBUNA",
         "line": {
          "color": "#00cc96",
          "dash": "solid"
         },
         "marker": {
          "symbol": "circle"
         },
         "mode": "lines",
         "name": "PARAIBUNA",
         "orientation": "v",
         "showlegend": true,
         "type": "scatter",
         "x": {
          "bdata": "1wfaB9sH3gffB+AH4gfjB+QH5gfnB+gH6Qc=",
          "dtype": "i2"
         },
         "xaxis": "x",
         "y": {
          "bdata": "AAAAAAAAAAAFAABNEA==",
          "dtype": "i1"
         },
         "yaxis": "y"
        },
        {
         "hovertemplate": "Município de notificação=ROSEIRA<br>Ano=%{x}<br>Dez=%{y}<extra></extra>",
         "legendgroup": "ROSEIRA",
         "line": {
          "color": "#ab63fa",
          "dash": "solid"
         },
         "marker": {
          "symbol": "circle"
         },
         "mode": "lines",
         "name": "ROSEIRA",
         "orientation": "v",
         "showlegend": true,
         "type": "scatter",
         "x": {
          "bdata": "1wfaB9sH3AfdB94H3wfgB+MH5AflB+YH5wfoB+kH",
          "dtype": "i2"
         },
         "xaxis": "x",
         "y": {
          "bdata": "ABQUFAAACQASGwAAWwAA",
          "dtype": "i1"
         },
         "yaxis": "y"
        },
        {
         "hovertemplate": "Município de notificação=LAVRINHAS<br>Ano=%{x}<br>Dez=%{y}<extra></extra>",
         "legendgroup": "LAVRINHAS",
         "line": {
          "color": "#FFA15A",
          "dash": "solid"
         },
         "marker": {
          "symbol": "circle"
         },
         "mode": "lines",
         "name": "LAVRINHAS",
         "orientation": "v",
         "showlegend": true,
         "type": "scatter",
         "x": {
          "bdata": "1wfYB9sH3AfdB94H3wfgB+EH4gfjB+QH5QfmB+cH6AfpBw==",
          "dtype": "i2"
         },
         "xaxis": "x",
         "y": {
          "bdata": "AAAADgAAAA4AAAAAAAAAAAA=",
          "dtype": "i1"
         },
         "yaxis": "y"
        },
        {
         "hovertemplate": "Município de notificação=CACAPAVA<br>Ano=%{x}<br>Dez=%{y}<extra></extra>",
         "legendgroup": "CACAPAVA",
         "line": {
          "color": "#19d3f3",
          "dash": "solid"
         },
         "marker": {
          "symbol": "circle"
         },
         "mode": "lines",
         "name": "CACAPAVA",
         "orientation": "v",
         "showlegend": true,
         "type": "scatter",
         "x": {
          "bdata": "1wfYB9oH2wfcB90H3gffB+AH4QfiB+MH5AflB+YH5wfoB+kH",
          "dtype": "i2"
         },
         "xaxis": "x",
         "y": {
          "bdata": "AAADAAIAAAQBAAEBAQAAARMA",
          "dtype": "i1"
         },
         "yaxis": "y"
        },
        {
         "hovertemplate": "Município de notificação=LORENA<br>Ano=%{x}<br>Dez=%{y}<extra></extra>",
         "legendgroup": "LORENA",
         "line": {
          "color": "#FF6692",
          "dash": "solid"
         },
         "marker": {
          "symbol": "circle"
         },
         "mode": "lines",
         "name": "LORENA",
         "orientation": "v",
         "showlegend": true,
         "type": "scatter",
         "x": {
          "bdata": "1wfYB9oH2wfcB90H3gffB+AH4QfiB+MH5AflB+YH5wfoB+kH",
          "dtype": "i2"
         },
         "xaxis": "x",
         "y": {
          "bdata": "AAAABAEDCBMCAQAXFAAAChkB",
          "dtype": "i1"
         },
         "yaxis": "y"
        },
        {
         "hovertemplate": "Município de notificação=CAMPOS DO JORDAO<br>Ano=%{x}<br>Dez=%{y}<extra></extra>",
         "legendgroup": "CAMPOS DO JORDAO",
         "line": {
          "color": "#B6E880",
          "dash": "solid"
         },
         "marker": {
          "symbol": "circle"
         },
         "mode": "lines",
         "name": "CAMPOS DO JORDAO",
         "orientation": "v",
         "showlegend": true,
         "type": "scatter",
         "x": {
          "bdata": "1wfaB9sH3AfdB94H3wfgB+MH5AflB+YH5wfoB+kH",
          "dtype": "i2"
         },
         "xaxis": "x",
         "y": {
          "bdata": "AAAABAABAAAAAwAAAAYA",
          "dtype": "i1"
         },
         "yaxis": "y"
        },
        {
         "hovertemplate": "Município de notificação=CARAGUATATUBA<br>Ano=%{x}<br>Dez=%{y}<extra></extra>",
         "legendgroup": "CARAGUATATUBA",
         "line": {
          "color": "#FF97FF",
          "dash": "solid"
         },
         "marker": {
          "symbol": "circle"
         },
         "mode": "lines",
         "name": "CARAGUATATUBA",
         "orientation": "v",
         "showlegend": true,
         "type": "scatter",
         "x": {
          "bdata": "1wfYB9kH2gfbB9wH3QfeB98H4AfhB+IH4wfkB+UH5gfnB+gH6Qc=",
          "dtype": "i2"
         },
         "xaxis": "x",
         "y": {
          "bdata": "AQEACQIDBUsJAAEACAgDBCdNBA==",
          "dtype": "i1"
         },
         "yaxis": "y"
        },
        {
         "hovertemplate": "Município de notificação=CRUZEIRO<br>Ano=%{x}<br>Dez=%{y}<extra></extra>",
         "legendgroup": "CRUZEIRO",
         "line": {
          "color": "#FECB52",
          "dash": "solid"
         },
         "marker": {
          "symbol": "circle"
         },
         "mode": "lines",
         "name": "CRUZEIRO",
         "orientation": "v",
         "showlegend": true,
         "type": "scatter",
         "x": {
          "bdata": "1wfYB9kH2gfbB9wH3QfeB98H4AfhB+IH4wfkB+UH5gfnB+gH6Qc=",
          "dtype": "i2"
         },
         "xaxis": "x",
         "y": {
          "bdata": "AAIAAwIXGgICAgEADRIEAQABAA==",
          "dtype": "i1"
         },
         "yaxis": "y"
        },
        {
         "hovertemplate": "Município de notificação=CUNHA<br>Ano=%{x}<br>Dez=%{y}<extra></extra>",
         "legendgroup": "CUNHA",
         "line": {
          "color": "#636efa",
          "dash": "solid"
         },
         "marker": {
          "symbol": "circle"
         },
         "mode": "lines",
         "name": "CUNHA",
         "orientation": "v",
         "showlegend": true,
         "type": "scatter",
         "x": {
          "bdata": "1wfaB9sH3AffB+IH4wfkB+UH5gfnB+gH6Qc=",
          "dtype": "i2"
         },
         "xaxis": "x",
         "y": {
          "bdata": "AAAAAAAAAAAAAAAAAA==",
          "dtype": "i1"
         },
         "yaxis": "y"
        },
        {
         "hovertemplate": "Município de notificação=CACHOEIRA PAULISTA<br>Ano=%{x}<br>Dez=%{y}<extra></extra>",
         "legendgroup": "CACHOEIRA PAULISTA",
         "line": {
          "color": "#EF553B",
          "dash": "solid"
         },
         "marker": {
          "symbol": "circle"
         },
         "mode": "lines",
         "name": "CACHOEIRA PAULISTA",
         "orientation": "v",
         "showlegend": true,
         "type": "scatter",
         "x": {
          "bdata": "1wfYB9oH2wfcB90H3gffB+AH4QfiB+MH5AflB+YH5wfoB+kH",
          "dtype": "i2"
         },
         "xaxis": "x",
         "y": {
          "bdata": "AAAGEwAAAAADAAAVAAsACAwG",
          "dtype": "i1"
         },
         "yaxis": "y"
        },
        {
         "hovertemplate": "Município de notificação=ILHABELA<br>Ano=%{x}<br>Dez=%{y}<extra></extra>",
         "legendgroup": "ILHABELA",
         "line": {
          "color": "#00cc96",
          "dash": "solid"
         },
         "marker": {
          "symbol": "circle"
         },
         "mode": "lines",
         "name": "ILHABELA",
         "orientation": "v",
         "showlegend": true,
         "type": "scatter",
         "x": {
          "bdata": "1wfYB9kH2gfbB9wH3QfeB98H4AfhB+IH4wfkB+UH5gfnB+gH6Qc=",
          "dtype": "i2"
         },
         "xaxis": "x",
         "y": {
          "bdata": "AAAAAAAADgAAAAAAEwAvAIUACQAAAAgABQATAMUBLgA/AEcABQA=",
          "dtype": "i2"
         },
         "yaxis": "y"
        },
        {
         "hovertemplate": "Município de notificação=JACAREI<br>Ano=%{x}<br>Dez=%{y}<extra></extra>",
         "legendgroup": "JACAREI",
         "line": {
          "color": "#ab63fa",
          "dash": "solid"
         },
         "marker": {
          "symbol": "circle"
         },
         "mode": "lines",
         "name": "JACAREI",
         "orientation": "v",
         "showlegend": true,
         "type": "scatter",
         "x": {
          "bdata": "1wfYB9kH2gfbB9wH3QfeB98H4AfhB+IH4wfkB+UH5gfnB+gH6Qc=",
          "dtype": "i2"
         },
         "xaxis": "x",
         "y": {
          "bdata": "AAAAAAAAAQAAAAAAAQAEAAUAAAAAAAAAAAACAAEAAgCrABIAAQA=",
          "dtype": "i2"
         },
         "yaxis": "y"
        },
        {
         "hovertemplate": "Município de notificação=JAMBEIRO<br>Ano=%{x}<br>Dez=%{y}<extra></extra>",
         "legendgroup": "JAMBEIRO",
         "line": {
          "color": "#FFA15A",
          "dash": "solid"
         },
         "marker": {
          "symbol": "circle"
         },
         "mode": "lines",
         "name": "JAMBEIRO",
         "orientation": "v",
         "showlegend": true,
         "type": "scatter",
         "x": {
          "bdata": "1wfYB9oH3gffB+AH4QfiB+MH5AflB+cH6AfpBw==",
          "dtype": "i2"
         },
         "xaxis": "x",
         "y": {
          "bdata": "AAAAABAADwAADgAODwA=",
          "dtype": "i1"
         },
         "yaxis": "y"
        },
        {
         "hovertemplate": "Município de notificação=LAGOINHA<br>Ano=%{x}<br>Dez=%{y}<extra></extra>",
         "legendgroup": "LAGOINHA",
         "line": {
          "color": "#19d3f3",
          "dash": "solid"
         },
         "marker": {
          "symbol": "circle"
         },
         "mode": "lines",
         "name": "LAGOINHA",
         "orientation": "v",
         "showlegend": true,
         "type": "scatter",
         "x": {
          "bdata": "1wfZB9oH2wfcB94H3wfgB+IH5AfmB+cH6AfpBw==",
          "dtype": "i2"
         },
         "xaxis": "x",
         "y": {
          "bdata": "AAAAAAAAFAAAAAAAAAA=",
          "dtype": "i1"
         },
         "yaxis": "y"
        },
        {
         "hovertemplate": "Município de notificação=GUARATINGUETA<br>Ano=%{x}<br>Dez=%{y}<extra></extra>",
         "legendgroup": "GUARATINGUETA",
         "line": {
          "color": "#FF6692",
          "dash": "solid"
         },
         "marker": {
          "symbol": "circle"
         },
         "mode": "lines",
         "name": "GUARATINGUETA",
         "orientation": "v",
         "showlegend": true,
         "type": "scatter",
         "x": {
          "bdata": "1wfYB9oH2wfcB90H3gffB+AH4QfiB+MH5AflB+YH5wfoB+kH",
          "dtype": "i2"
         },
         "xaxis": "x",
         "y": {
          "bdata": "AAAAEAUFBwMDAgNuJwkGRgUC",
          "dtype": "i1"
         },
         "yaxis": "y"
        },
        {
         "hovertemplate": "Município de notificação=PIQUETE<br>Ano=%{x}<br>Dez=%{y}<extra></extra>",
         "legendgroup": "PIQUETE",
         "line": {
          "color": "#B6E880",
          "dash": "solid"
         },
         "marker": {
          "symbol": "circle"
         },
         "mode": "lines",
         "name": "PIQUETE",
         "orientation": "v",
         "showlegend": true,
         "type": "scatter",
         "x": {
          "bdata": "2AfZB9sH3AfdB94H3wfgB+IH4wfkB+UH5gfnB+gH6Qc=",
          "dtype": "i2"
         },
         "xaxis": "x",
         "y": {
          "bdata": "AAAAAAAABwAAABYOABYAAA==",
          "dtype": "i1"
         },
         "yaxis": "y"
        },
        {
         "hovertemplate": "Município de notificação=NATIVIDADE DA SERRA<br>Ano=%{x}<br>Dez=%{y}<extra></extra>",
         "legendgroup": "NATIVIDADE DA SERRA",
         "line": {
          "color": "#FF97FF",
          "dash": "solid"
         },
         "marker": {
          "symbol": "circle"
         },
         "mode": "lines",
         "name": "NATIVIDADE DA SERRA",
         "orientation": "v",
         "showlegend": true,
         "type": "scatter",
         "x": {
          "bdata": "2AfaB9sH3AfeB98H4AfnB+gH6Qc=",
          "dtype": "i2"
         },
         "xaxis": "x",
         "y": {
          "bdata": "AAAAAAAAAAAqAA==",
          "dtype": "i1"
         },
         "yaxis": "y"
        },
        {
         "hovertemplate": "Município de notificação=MONTEIRO LOBATO<br>Ano=%{x}<br>Dez=%{y}<extra></extra>",
         "legendgroup": "MONTEIRO LOBATO",
         "line": {
          "color": "#FECB52",
          "dash": "solid"
         },
         "marker": {
          "symbol": "circle"
         },
         "mode": "lines",
         "name": "MONTEIRO LOBATO",
         "orientation": "v",
         "showlegend": true,
         "type": "scatter",
         "x": {
          "bdata": "2AffB+IH5gfnB+gH6Qc=",
          "dtype": "i2"
         },
         "xaxis": "x",
         "y": {
          "bdata": "AAAAAAAAAA==",
          "dtype": "i1"
         },
         "yaxis": "y"
        },
        {
         "hovertemplate": "Município de notificação=REDENCAO DA SERRA<br>Ano=%{x}<br>Dez=%{y}<extra></extra>",
         "legendgroup": "REDENCAO DA SERRA",
         "line": {
          "color": "#636efa",
          "dash": "solid"
         },
         "marker": {
          "symbol": "circle"
         },
         "mode": "lines",
         "name": "REDENCAO DA SERRA",
         "orientation": "v",
         "showlegend": true,
         "type": "scatter",
         "x": {
          "bdata": "2QfbB94H5QfmB+gH6Qc=",
          "dtype": "i2"
         },
         "xaxis": "x",
         "y": {
          "bdata": "AAAAAAAAAA==",
          "dtype": "i1"
         },
         "yaxis": "y"
        },
        {
         "hovertemplate": "Município de notificação=IGARATA<br>Ano=%{x}<br>Dez=%{y}<extra></extra>",
         "legendgroup": "IGARATA",
         "line": {
          "color": "#EF553B",
          "dash": "solid"
         },
         "marker": {
          "symbol": "circle"
         },
         "mode": "lines",
         "name": "IGARATA",
         "orientation": "v",
         "showlegend": true,
         "type": "scatter",
         "x": {
          "bdata": "2QfbB9wH3gffB+AH4wfkB+UH5gfnB+gH6Qc=",
          "dtype": "i2"
         },
         "xaxis": "x",
         "y": {
          "bdata": "AAAACgAAAAAAAAAAAA==",
          "dtype": "i1"
         },
         "yaxis": "y"
        },
        {
         "hovertemplate": "Município de notificação=SILVEIRAS<br>Ano=%{x}<br>Dez=%{y}<extra></extra>",
         "legendgroup": "SILVEIRAS",
         "line": {
          "color": "#00cc96",
          "dash": "solid"
         },
         "marker": {
          "symbol": "circle"
         },
         "mode": "lines",
         "name": "SILVEIRAS",
         "orientation": "v",
         "showlegend": true,
         "type": "scatter",
         "x": {
          "bdata": "2gfbB9wH3QffB+AH4QfjB+QH5gfnB+gH6Qc=",
          "dtype": "i2"
         },
         "xaxis": "x",
         "y": {
          "bdata": "AAAAAAAAAAAAAAAAAA==",
          "dtype": "i1"
         },
         "yaxis": "y"
        },
        {
         "hovertemplate": "Município de notificação=SAO BENTO DO SAPUCAI<br>Ano=%{x}<br>Dez=%{y}<extra></extra>",
         "legendgroup": "SAO BENTO DO SAPUCAI",
         "line": {
          "color": "#ab63fa",
          "dash": "solid"
         },
         "marker": {
          "symbol": "circle"
         },
         "mode": "lines",
         "name": "SAO BENTO DO SAPUCAI",
         "orientation": "v",
         "showlegend": true,
         "type": "scatter",
         "x": {
          "bdata": "2gfbB9wH3QfeB98H4AfhB+IH4wfkB+UH5wfoB+kH",
          "dtype": "i2"
         },
         "xaxis": "x",
         "y": {
          "bdata": "AAAAAAAAAAkAAAAAACEA",
          "dtype": "i1"
         },
         "yaxis": "y"
        },
        {
         "hovertemplate": "Município de notificação=AREIAS<br>Ano=%{x}<br>Dez=%{y}<extra></extra>",
         "legendgroup": "AREIAS",
         "line": {
          "color": "#FFA15A",
          "dash": "solid"
         },
         "marker": {
          "symbol": "circle"
         },
         "mode": "lines",
         "name": "AREIAS",
         "orientation": "v",
         "showlegend": true,
         "type": "scatter",
         "x": {
          "bdata": "2gfbB90H3gffB+AH4QfiB+MH5AfmB+cH6AfpBw==",
          "dtype": "i2"
         },
         "xaxis": "x",
         "y": {
          "bdata": "AAAAAAAAAAAAAAAZAAA=",
          "dtype": "i1"
         },
         "yaxis": "y"
        },
        {
         "hovertemplate": "Município de notificação=BANANAL<br>Ano=%{x}<br>Dez=%{y}<extra></extra>",
         "legendgroup": "BANANAL",
         "line": {
          "color": "#19d3f3",
          "dash": "solid"
         },
         "marker": {
          "symbol": "circle"
         },
         "mode": "lines",
         "name": "BANANAL",
         "orientation": "v",
         "showlegend": true,
         "type": "scatter",
         "x": {
          "bdata": "2gfbB90H3gffB+AH4gfjB+QH5QfmB+cH6AfpBw==",
          "dtype": "i2"
         },
         "xaxis": "x",
         "y": {
          "bdata": "CQAcAAAAAAAAAAAJAAA=",
          "dtype": "i1"
         },
         "yaxis": "y"
        },
        {
         "hovertemplate": "Município de notificação=CANAS<br>Ano=%{x}<br>Dez=%{y}<extra></extra>",
         "legendgroup": "CANAS",
         "line": {
          "color": "#FF6692",
          "dash": "solid"
         },
         "marker": {
          "symbol": "circle"
         },
         "mode": "lines",
         "name": "CANAS",
         "orientation": "v",
         "showlegend": true,
         "type": "scatter",
         "x": {
          "bdata": "2wfcB90H3wfgB+EH4gfjB+QH5QfmB+cH6AfpBw==",
          "dtype": "i2"
         },
         "xaxis": "x",
         "y": {
          "bdata": "FgAAAAAAABMmAAAAAAA=",
          "dtype": "i1"
         },
         "yaxis": "y"
        },
        {
         "hovertemplate": "Município de notificação=ARAPEI<br>Ano=%{x}<br>Dez=%{y}<extra></extra>",
         "legendgroup": "ARAPEI",
         "line": {
          "color": "#B6E880",
          "dash": "solid"
         },
         "marker": {
          "symbol": "circle"
         },
         "mode": "lines",
         "name": "ARAPEI",
         "orientation": "v",
         "showlegend": true,
         "type": "scatter",
         "x": {
          "bdata": "3wfgB+MH5AfoB+kH",
          "dtype": "i2"
         },
         "xaxis": "x",
         "y": {
          "bdata": "AAAAAAAA",
          "dtype": "i1"
         },
         "yaxis": "y"
        },
        {
         "line": {
          "color": "green",
          "dash": "dash",
          "width": 2
         },
         "mode": "lines",
         "name": "Média Incidência",
         "showlegend": true,
         "type": "scatter",
         "x": [
          2007,
          2025
         ],
         "y": [
          100,
          100
         ]
        },
        {
         "line": {
          "color": "orange",
          "dash": "dash",
          "width": 2
         },
         "mode": "lines",
         "name": "Alta Incidência",
         "showlegend": true,
         "type": "scatter",
         "x": [
          2007,
          2025
         ],
         "y": [
          300,
          300
         ]
        },
        {
         "line": {
          "color": "red",
          "dash": "dash",
          "width": 2
         },
         "mode": "lines",
         "name": "Altíssima Incidência",
         "showlegend": true,
         "type": "scatter",
         "x": [
          2007,
          2025
         ],
         "y": [
          1000,
          1000
         ]
        }
       ],
       "layout": {
        "legend": {
         "title": {
          "text": "Município de notificação"
         },
         "tracegroupgap": 0
        },
        "showlegend": true,
        "template": {
         "data": {
          "bar": [
           {
            "error_x": {
             "color": "#2a3f5f"
            },
            "error_y": {
             "color": "#2a3f5f"
            },
            "marker": {
             "line": {
              "color": "#E5ECF6",
              "width": 0.5
             },
             "pattern": {
              "fillmode": "overlay",
              "size": 10,
              "solidity": 0.2
             }
            },
            "type": "bar"
           }
          ],
          "barpolar": [
           {
            "marker": {
             "line": {
              "color": "#E5ECF6",
              "width": 0.5
             },
             "pattern": {
              "fillmode": "overlay",
              "size": 10,
              "solidity": 0.2
             }
            },
            "type": "barpolar"
           }
          ],
          "carpet": [
           {
            "aaxis": {
             "endlinecolor": "#2a3f5f",
             "gridcolor": "white",
             "linecolor": "white",
             "minorgridcolor": "white",
             "startlinecolor": "#2a3f5f"
            },
            "baxis": {
             "endlinecolor": "#2a3f5f",
             "gridcolor": "white",
             "linecolor": "white",
             "minorgridcolor": "white",
             "startlinecolor": "#2a3f5f"
            },
            "type": "carpet"
           }
          ],
          "choropleth": [
           {
            "colorbar": {
             "outlinewidth": 0,
             "ticks": ""
            },
            "type": "choropleth"
           }
          ],
          "contour": [
           {
            "colorbar": {
             "outlinewidth": 0,
             "ticks": ""
            },
            "colorscale": [
             [
              0,
              "#0d0887"
             ],
             [
              0.1111111111111111,
              "#46039f"
             ],
             [
              0.2222222222222222,
              "#7201a8"
             ],
             [
              0.3333333333333333,
              "#9c179e"
             ],
             [
              0.4444444444444444,
              "#bd3786"
             ],
             [
              0.5555555555555556,
              "#d8576b"
             ],
             [
              0.6666666666666666,
              "#ed7953"
             ],
             [
              0.7777777777777778,
              "#fb9f3a"
             ],
             [
              0.8888888888888888,
              "#fdca26"
             ],
             [
              1,
              "#f0f921"
             ]
            ],
            "type": "contour"
           }
          ],
          "contourcarpet": [
           {
            "colorbar": {
             "outlinewidth": 0,
             "ticks": ""
            },
            "type": "contourcarpet"
           }
          ],
          "heatmap": [
           {
            "colorbar": {
             "outlinewidth": 0,
             "ticks": ""
            },
            "colorscale": [
             [
              0,
              "#0d0887"
             ],
             [
              0.1111111111111111,
              "#46039f"
             ],
             [
              0.2222222222222222,
              "#7201a8"
             ],
             [
              0.3333333333333333,
              "#9c179e"
             ],
             [
              0.4444444444444444,
              "#bd3786"
             ],
             [
              0.5555555555555556,
              "#d8576b"
             ],
             [
              0.6666666666666666,
              "#ed7953"
             ],
             [
              0.7777777777777778,
              "#fb9f3a"
             ],
             [
              0.8888888888888888,
              "#fdca26"
             ],
             [
              1,
              "#f0f921"
             ]
            ],
            "type": "heatmap"
           }
          ],
          "histogram": [
           {
            "marker": {
             "pattern": {
              "fillmode": "overlay",
              "size": 10,
              "solidity": 0.2
             }
            },
            "type": "histogram"
           }
          ],
          "histogram2d": [
           {
            "colorbar": {
             "outlinewidth": 0,
             "ticks": ""
            },
            "colorscale": [
             [
              0,
              "#0d0887"
             ],
             [
              0.1111111111111111,
              "#46039f"
             ],
             [
              0.2222222222222222,
              "#7201a8"
             ],
             [
              0.3333333333333333,
              "#9c179e"
             ],
             [
              0.4444444444444444,
              "#bd3786"
             ],
             [
              0.5555555555555556,
              "#d8576b"
             ],
             [
              0.6666666666666666,
              "#ed7953"
             ],
             [
              0.7777777777777778,
              "#fb9f3a"
             ],
             [
              0.8888888888888888,
              "#fdca26"
             ],
             [
              1,
              "#f0f921"
             ]
            ],
            "type": "histogram2d"
           }
          ],
          "histogram2dcontour": [
           {
            "colorbar": {
             "outlinewidth": 0,
             "ticks": ""
            },
            "colorscale": [
             [
              0,
              "#0d0887"
             ],
             [
              0.1111111111111111,
              "#46039f"
             ],
             [
              0.2222222222222222,
              "#7201a8"
             ],
             [
              0.3333333333333333,
              "#9c179e"
             ],
             [
              0.4444444444444444,
              "#bd3786"
             ],
             [
              0.5555555555555556,
              "#d8576b"
             ],
             [
              0.6666666666666666,
              "#ed7953"
             ],
             [
              0.7777777777777778,
              "#fb9f3a"
             ],
             [
              0.8888888888888888,
              "#fdca26"
             ],
             [
              1,
              "#f0f921"
             ]
            ],
            "type": "histogram2dcontour"
           }
          ],
          "mesh3d": [
           {
            "colorbar": {
             "outlinewidth": 0,
             "ticks": ""
            },
            "type": "mesh3d"
           }
          ],
          "parcoords": [
           {
            "line": {
             "colorbar": {
              "outlinewidth": 0,
              "ticks": ""
             }
            },
            "type": "parcoords"
           }
          ],
          "pie": [
           {
            "automargin": true,
            "type": "pie"
           }
          ],
          "scatter": [
           {
            "fillpattern": {
             "fillmode": "overlay",
             "size": 10,
             "solidity": 0.2
            },
            "type": "scatter"
           }
          ],
          "scatter3d": [
           {
            "line": {
             "colorbar": {
              "outlinewidth": 0,
              "ticks": ""
             }
            },
            "marker": {
             "colorbar": {
              "outlinewidth": 0,
              "ticks": ""
             }
            },
            "type": "scatter3d"
           }
          ],
          "scattercarpet": [
           {
            "marker": {
             "colorbar": {
              "outlinewidth": 0,
              "ticks": ""
             }
            },
            "type": "scattercarpet"
           }
          ],
          "scattergeo": [
           {
            "marker": {
             "colorbar": {
              "outlinewidth": 0,
              "ticks": ""
             }
            },
            "type": "scattergeo"
           }
          ],
          "scattergl": [
           {
            "marker": {
             "colorbar": {
              "outlinewidth": 0,
              "ticks": ""
             }
            },
            "type": "scattergl"
           }
          ],
          "scattermap": [
           {
            "marker": {
             "colorbar": {
              "outlinewidth": 0,
              "ticks": ""
             }
            },
            "type": "scattermap"
           }
          ],
          "scattermapbox": [
           {
            "marker": {
             "colorbar": {
              "outlinewidth": 0,
              "ticks": ""
             }
            },
            "type": "scattermapbox"
           }
          ],
          "scatterpolar": [
           {
            "marker": {
             "colorbar": {
              "outlinewidth": 0,
              "ticks": ""
             }
            },
            "type": "scatterpolar"
           }
          ],
          "scatterpolargl": [
           {
            "marker": {
             "colorbar": {
              "outlinewidth": 0,
              "ticks": ""
             }
            },
            "type": "scatterpolargl"
           }
          ],
          "scatterternary": [
           {
            "marker": {
             "colorbar": {
              "outlinewidth": 0,
              "ticks": ""
             }
            },
            "type": "scatterternary"
           }
          ],
          "surface": [
           {
            "colorbar": {
             "outlinewidth": 0,
             "ticks": ""
            },
            "colorscale": [
             [
              0,
              "#0d0887"
             ],
             [
              0.1111111111111111,
              "#46039f"
             ],
             [
              0.2222222222222222,
              "#7201a8"
             ],
             [
              0.3333333333333333,
              "#9c179e"
             ],
             [
              0.4444444444444444,
              "#bd3786"
             ],
             [
              0.5555555555555556,
              "#d8576b"
             ],
             [
              0.6666666666666666,
              "#ed7953"
             ],
             [
              0.7777777777777778,
              "#fb9f3a"
             ],
             [
              0.8888888888888888,
              "#fdca26"
             ],
             [
              1,
              "#f0f921"
             ]
            ],
            "type": "surface"
           }
          ],
          "table": [
           {
            "cells": {
             "fill": {
              "color": "#EBF0F8"
             },
             "line": {
              "color": "white"
             }
            },
            "header": {
             "fill": {
              "color": "#C8D4E3"
             },
             "line": {
              "color": "white"
             }
            },
            "type": "table"
           }
          ]
         },
         "layout": {
          "annotationdefaults": {
           "arrowcolor": "#2a3f5f",
           "arrowhead": 0,
           "arrowwidth": 1
          },
          "autotypenumbers": "strict",
          "coloraxis": {
           "colorbar": {
            "outlinewidth": 0,
            "ticks": ""
           }
          },
          "colorscale": {
           "diverging": [
            [
             0,
             "#8e0152"
            ],
            [
             0.1,
             "#c51b7d"
            ],
            [
             0.2,
             "#de77ae"
            ],
            [
             0.3,
             "#f1b6da"
            ],
            [
             0.4,
             "#fde0ef"
            ],
            [
             0.5,
             "#f7f7f7"
            ],
            [
             0.6,
             "#e6f5d0"
            ],
            [
             0.7,
             "#b8e186"
            ],
            [
             0.8,
             "#7fbc41"
            ],
            [
             0.9,
             "#4d9221"
            ],
            [
             1,
             "#276419"
            ]
           ],
           "sequential": [
            [
             0,
             "#0d0887"
            ],
            [
             0.1111111111111111,
             "#46039f"
            ],
            [
             0.2222222222222222,
             "#7201a8"
            ],
            [
             0.3333333333333333,
             "#9c179e"
            ],
            [
             0.4444444444444444,
             "#bd3786"
            ],
            [
             0.5555555555555556,
             "#d8576b"
            ],
            [
             0.6666666666666666,
             "#ed7953"
            ],
            [
             0.7777777777777778,
             "#fb9f3a"
            ],
            [
             0.8888888888888888,
             "#fdca26"
            ],
            [
             1,
             "#f0f921"
            ]
           ],
           "sequentialminus": [
            [
             0,
             "#0d0887"
            ],
            [
             0.1111111111111111,
             "#46039f"
            ],
            [
             0.2222222222222222,
             "#7201a8"
            ],
            [
             0.3333333333333333,
             "#9c179e"
            ],
            [
             0.4444444444444444,
             "#bd3786"
            ],
            [
             0.5555555555555556,
             "#d8576b"
            ],
            [
             0.6666666666666666,
             "#ed7953"
            ],
            [
             0.7777777777777778,
             "#fb9f3a"
            ],
            [
             0.8888888888888888,
             "#fdca26"
            ],
            [
             1,
             "#f0f921"
            ]
           ]
          },
          "colorway": [
           "#636efa",
           "#EF553B",
           "#00cc96",
           "#ab63fa",
           "#FFA15A",
           "#19d3f3",
           "#FF6692",
           "#B6E880",
           "#FF97FF",
           "#FECB52"
          ],
          "font": {
           "color": "#2a3f5f"
          },
          "geo": {
           "bgcolor": "white",
           "lakecolor": "white",
           "landcolor": "#E5ECF6",
           "showlakes": true,
           "showland": true,
           "subunitcolor": "white"
          },
          "hoverlabel": {
           "align": "left"
          },
          "hovermode": "closest",
          "mapbox": {
           "style": "light"
          },
          "paper_bgcolor": "white",
          "plot_bgcolor": "#E5ECF6",
          "polar": {
           "angularaxis": {
            "gridcolor": "white",
            "linecolor": "white",
            "ticks": ""
           },
           "bgcolor": "#E5ECF6",
           "radialaxis": {
            "gridcolor": "white",
            "linecolor": "white",
            "ticks": ""
           }
          },
          "scene": {
           "xaxis": {
            "backgroundcolor": "#E5ECF6",
            "gridcolor": "white",
            "gridwidth": 2,
            "linecolor": "white",
            "showbackground": true,
            "ticks": "",
            "zerolinecolor": "white"
           },
           "yaxis": {
            "backgroundcolor": "#E5ECF6",
            "gridcolor": "white",
            "gridwidth": 2,
            "linecolor": "white",
            "showbackground": true,
            "ticks": "",
            "zerolinecolor": "white"
           },
           "zaxis": {
            "backgroundcolor": "#E5ECF6",
            "gridcolor": "white",
            "gridwidth": 2,
            "linecolor": "white",
            "showbackground": true,
            "ticks": "",
            "zerolinecolor": "white"
           }
          },
          "shapedefaults": {
           "line": {
            "color": "#2a3f5f"
           }
          },
          "ternary": {
           "aaxis": {
            "gridcolor": "white",
            "linecolor": "white",
            "ticks": ""
           },
           "baxis": {
            "gridcolor": "white",
            "linecolor": "white",
            "ticks": ""
           },
           "bgcolor": "#E5ECF6",
           "caxis": {
            "gridcolor": "white",
            "linecolor": "white",
            "ticks": ""
           }
          },
          "title": {
           "x": 0.05
          },
          "xaxis": {
           "automargin": true,
           "gridcolor": "white",
           "linecolor": "white",
           "ticks": "",
           "title": {
            "standoff": 15
           },
           "zerolinecolor": "white",
           "zerolinewidth": 2
          },
          "yaxis": {
           "automargin": true,
           "gridcolor": "white",
           "linecolor": "white",
           "ticks": "",
           "title": {
            "standoff": 15
           },
           "zerolinecolor": "white",
           "zerolinewidth": 2
          }
         }
        },
        "title": {
         "text": "Incidência de Dengue no RMVP de 2007 à 2025"
        },
        "xaxis": {
         "anchor": "y",
         "domain": [
          0,
          1
         ],
         "title": {
          "text": "Ano"
         }
        },
        "yaxis": {
         "anchor": "x",
         "domain": [
          0,
          1
         ],
         "title": {
          "text": "Incidência"
         }
        }
       }
      }
     },
     "metadata": {},
     "output_type": "display_data"
    }
   ],
   "source": [
    "import plotly.express as px\n",
    "import plotly.graph_objects as go\n",
    "\n",
    "fig = px.line(\n",
    "    dados,\n",
    "    x=\"Ano\",\n",
    "    y=meses,\n",
    "    color=\"Município de notificação\",\n",
    "    title=\"Incidência de Dengue no RMVP de 2007 à 2025\",\n",
    ")\n",
    "fig.update_layout(xaxis_title=\"Ano\", yaxis_title=\"Incidência\")\n",
    "\n",
    "\n",
    "fig.add_trace(\n",
    "    go.Scatter(\n",
    "        x=[dados[\"Ano\"].min(), dados[\"Ano\"].max()],\n",
    "        y=[100, 100],\n",
    "        mode=\"lines\",\n",
    "        line=dict(color=\"green\", width=2, dash=\"dash\"),\n",
    "        name=\"Média Incidência\",\n",
    "        showlegend=True,\n",
    "    )\n",
    ")\n",
    "fig.add_trace(\n",
    "    go.Scatter(\n",
    "        x=[dados[\"Ano\"].min(), dados[\"Ano\"].max()],\n",
    "        y=[300, 300],\n",
    "        mode=\"lines\",\n",
    "        line=dict(color=\"orange\", width=2, dash=\"dash\"),\n",
    "        name=\"Alta Incidência\",\n",
    "        showlegend=True,\n",
    "    )\n",
    ")\n",
    "fig.add_trace(\n",
    "    go.Scatter(\n",
    "        x=[dados[\"Ano\"].min(), dados[\"Ano\"].max()],\n",
    "        y=[1000, 1000],\n",
    "        mode=\"lines\",\n",
    "        line=dict(color=\"red\", width=2, dash=\"dash\"),\n",
    "        name=\"Altíssima Incidência\",\n",
    "        showlegend=True,\n",
    "    )\n",
    ")\n",
    "\n",
    "\n",
    "fig.update_layout(showlegend=True)\n",
    "\n",
    "fig.show()"
   ]
  },
  {
   "cell_type": "code",
   "execution_count": null,
   "metadata": {
    "id": "2nnG8299WWiH"
   },
   "outputs": [],
   "source": []
  }
 ],
 "metadata": {
  "colab": {
   "provenance": []
  },
  "kernelspec": {
   "display_name": "dengue-analytics-py3.13",
   "language": "python",
   "name": "python3"
  },
  "language_info": {
   "codemirror_mode": {
    "name": "ipython",
    "version": 3
   },
   "file_extension": ".py",
   "mimetype": "text/x-python",
   "name": "python",
   "nbconvert_exporter": "python",
   "pygments_lexer": "ipython3",
   "version": "3.13.3"
  }
 },
 "nbformat": 4,
 "nbformat_minor": 0
}
